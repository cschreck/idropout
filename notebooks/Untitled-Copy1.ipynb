{
 "cells": [
  {
   "cell_type": "code",
   "execution_count": 1,
   "metadata": {},
   "outputs": [],
   "source": [
    "%load_ext autoreload"
   ]
  },
  {
   "cell_type": "code",
   "execution_count": 2,
   "metadata": {},
   "outputs": [],
   "source": [
    "%autoreload 2"
   ]
  },
  {
   "cell_type": "code",
   "execution_count": 3,
   "metadata": {},
   "outputs": [
    {
     "name": "stderr",
     "output_type": "stream",
     "text": [
      "Using TensorFlow backend.\n"
     ]
    }
   ],
   "source": [
    "import tensorflow as tf\n",
    "import numpy as np\n",
    "from sklearn.datasets import make_classification\n",
    "import keras \n",
    "import keras.backend as K\n",
    "import innvestigate\n",
    "from keras.models import Model"
   ]
  },
  {
   "cell_type": "code",
   "execution_count": 4,
   "metadata": {},
   "outputs": [],
   "source": [
    "X, y = make_classification(n_samples=5000, n_features=64, n_informative=1)"
   ]
  },
  {
   "cell_type": "code",
   "execution_count": 5,
   "metadata": {},
   "outputs": [],
   "source": [
    "#tf.enable_eager_execution()"
   ]
  },
  {
   "cell_type": "code",
   "execution_count": 6,
   "metadata": {},
   "outputs": [
    {
     "name": "stdout",
     "output_type": "stream",
     "text": [
      "WARNING:tensorflow:From /home/chschrec/.local/share/virtualenvs/interpret-R0ok2QRq/lib/python3.6/site-packages/tensorflow/python/framework/op_def_library.py:263: colocate_with (from tensorflow.python.framework.ops) is deprecated and will be removed in a future version.\n",
      "Instructions for updating:\n",
      "Colocations handled automatically by placer.\n"
     ]
    }
   ],
   "source": [
    "model = keras.Sequential([\n",
    "  keras.layers.core.Dense(32, activation=tf.nn.relu6, input_shape=(64,)),  # input shape required\n",
    "  keras.layers.Dense(16, activation=tf.nn.relu6),\n",
    "  keras.layers.Dense(2)\n",
    "])\n"
   ]
  },
  {
   "cell_type": "code",
   "execution_count": 7,
   "metadata": {},
   "outputs": [],
   "source": [
    "model.compile(optimizer=tf.train.RMSPropOptimizer(0.01),\n",
    "              loss=keras.losses.categorical_crossentropy,\n",
    "              metrics=[keras.metrics.categorical_accuracy])"
   ]
  },
  {
   "cell_type": "code",
   "execution_count": null,
   "metadata": {
    "scrolled": true
   },
   "outputs": [],
   "source": []
  },
  {
   "cell_type": "code",
   "execution_count": 8,
   "metadata": {},
   "outputs": [],
   "source": [
    "from sklearn.preprocessing import OneHotEncoder"
   ]
  },
  {
   "cell_type": "code",
   "execution_count": 9,
   "metadata": {},
   "outputs": [
    {
     "name": "stderr",
     "output_type": "stream",
     "text": [
      "/home/chschrec/.local/share/virtualenvs/interpret-R0ok2QRq/lib/python3.6/site-packages/sklearn/preprocessing/_encoders.py:371: FutureWarning: The handling of integer data will change in version 0.22. Currently, the categories are determined based on the range [0, max(values)], while in the future they will be determined based on the unique values.\n",
      "If you want the future behaviour and silence this warning, you can specify \"categories='auto'\".\n",
      "In case you used a LabelEncoder before this OneHotEncoder to convert the categories to integers, then you can now use the OneHotEncoder directly.\n",
      "  warnings.warn(msg, FutureWarning)\n"
     ]
    }
   ],
   "source": [
    "le = OneHotEncoder()\n",
    "\n",
    "le = le.fit(y.reshape(-1,1))\n",
    "y_bin = le.transform(y.reshape(-1,1))"
   ]
  },
  {
   "cell_type": "code",
   "execution_count": 10,
   "metadata": {},
   "outputs": [
    {
     "data": {
      "text/plain": [
       "matrix([[1., 0.],\n",
       "        [0., 1.],\n",
       "        [0., 1.],\n",
       "        ...,\n",
       "        [1., 0.],\n",
       "        [1., 0.],\n",
       "        [1., 0.]])"
      ]
     },
     "execution_count": 10,
     "metadata": {},
     "output_type": "execute_result"
    }
   ],
   "source": [
    "y_bin.todense()"
   ]
  },
  {
   "cell_type": "code",
   "execution_count": null,
   "metadata": {},
   "outputs": [],
   "source": []
  },
  {
   "cell_type": "code",
   "execution_count": 11,
   "metadata": {
    "scrolled": true
   },
   "outputs": [
    {
     "name": "stdout",
     "output_type": "stream",
     "text": [
      "WARNING:tensorflow:From /home/chschrec/.local/share/virtualenvs/interpret-R0ok2QRq/lib/python3.6/site-packages/tensorflow/python/ops/math_ops.py:3066: to_int32 (from tensorflow.python.ops.math_ops) is deprecated and will be removed in a future version.\n",
      "Instructions for updating:\n",
      "Use tf.cast instead.\n",
      "Epoch 1/30\n",
      "5000/5000 [==============================] - 1s 128us/step - loss: 0.6818 - categorical_accuracy: 0.7412\n",
      "Epoch 2/30\n",
      "5000/5000 [==============================] - 0s 81us/step - loss: 0.4368 - categorical_accuracy: 0.8420\n",
      "Epoch 3/30\n",
      "5000/5000 [==============================] - 0s 85us/step - loss: 0.3810 - categorical_accuracy: 0.8864\n",
      "Epoch 4/30\n",
      "5000/5000 [==============================] - 0s 73us/step - loss: 0.5969 - categorical_accuracy: 0.9002\n",
      "Epoch 5/30\n",
      "5000/5000 [==============================] - 0s 78us/step - loss: 2.7914 - categorical_accuracy: 0.6952\n",
      "Epoch 6/30\n",
      "5000/5000 [==============================] - 0s 85us/step - loss: 0.9523 - categorical_accuracy: 0.2190\n",
      "Epoch 7/30\n",
      "5000/5000 [==============================] - 0s 79us/step - loss: 0.7668 - categorical_accuracy: 0.2458\n",
      "Epoch 8/30\n",
      "5000/5000 [==============================] - 0s 72us/step - loss: 0.5104 - categorical_accuracy: 0.1704\n",
      "Epoch 9/30\n",
      "5000/5000 [==============================] - 0s 71us/step - loss: 0.4478 - categorical_accuracy: 0.1472\n",
      "Epoch 10/30\n",
      "5000/5000 [==============================] - 0s 96us/step - loss: 0.4376 - categorical_accuracy: 0.1240\n",
      "Epoch 11/30\n",
      "5000/5000 [==============================] - 0s 86us/step - loss: 0.5366 - categorical_accuracy: 0.1266\n",
      "Epoch 12/30\n",
      "5000/5000 [==============================] - 0s 80us/step - loss: 0.6825 - categorical_accuracy: 0.1776\n",
      "Epoch 13/30\n",
      "5000/5000 [==============================] - 0s 76us/step - loss: 1.4868 - categorical_accuracy: 0.2218\n",
      "Epoch 14/30\n",
      "5000/5000 [==============================] - 0s 79us/step - loss: 1.5824 - categorical_accuracy: 0.6656\n",
      "Epoch 15/30\n",
      "5000/5000 [==============================] - 0s 78us/step - loss: 1.3247 - categorical_accuracy: 0.4536\n",
      "Epoch 16/30\n",
      "5000/5000 [==============================] - 0s 76us/step - loss: 1.2037 - categorical_accuracy: 0.3018\n",
      "Epoch 17/30\n",
      "5000/5000 [==============================] - 0s 79us/step - loss: 0.7544 - categorical_accuracy: 0.1908\n",
      "Epoch 18/30\n",
      "5000/5000 [==============================] - 0s 82us/step - loss: 0.7287 - categorical_accuracy: 0.1538\n",
      "Epoch 19/30\n",
      "5000/5000 [==============================] - 0s 79us/step - loss: 0.9300 - categorical_accuracy: 0.1682\n",
      "Epoch 20/30\n",
      "5000/5000 [==============================] - 0s 80us/step - loss: 1.2195 - categorical_accuracy: 0.1584\n",
      "Epoch 21/30\n",
      "5000/5000 [==============================] - 0s 81us/step - loss: 2.1614 - categorical_accuracy: 0.4686\n",
      "Epoch 22/30\n",
      "5000/5000 [==============================] - 0s 82us/step - loss: 0.7856 - categorical_accuracy: 0.8082 0s - loss: 0.9096 - categorical_accuracy\n",
      "Epoch 23/30\n",
      "5000/5000 [==============================] - 0s 84us/step - loss: 0.8223 - categorical_accuracy: 0.8414\n",
      "Epoch 24/30\n",
      "5000/5000 [==============================] - 0s 85us/step - loss: 0.8540 - categorical_accuracy: 0.7448\n",
      "Epoch 25/30\n",
      "5000/5000 [==============================] - 0s 71us/step - loss: 0.6250 - categorical_accuracy: 0.8186\n",
      "Epoch 26/30\n",
      "5000/5000 [==============================] - 0s 77us/step - loss: 0.5317 - categorical_accuracy: 0.9030\n",
      "Epoch 27/30\n",
      "5000/5000 [==============================] - 0s 79us/step - loss: 1.2948 - categorical_accuracy: 0.8996\n",
      "Epoch 28/30\n",
      "5000/5000 [==============================] - 0s 77us/step - loss: 2.1684 - categorical_accuracy: 0.8868\n",
      "Epoch 29/30\n",
      "5000/5000 [==============================] - 0s 77us/step - loss: 2.0439 - categorical_accuracy: 0.9298\n",
      "Epoch 30/30\n",
      "5000/5000 [==============================] - 0s 74us/step - loss: 1.1190 - categorical_accuracy: 0.9496\n"
     ]
    },
    {
     "data": {
      "text/plain": [
       "<keras.callbacks.History at 0x7f109b5994a8>"
      ]
     },
     "execution_count": 11,
     "metadata": {},
     "output_type": "execute_result"
    }
   ],
   "source": [
    "model.fit(X,y_bin.todense(), epochs=30)"
   ]
  },
  {
   "cell_type": "code",
   "execution_count": 12,
   "metadata": {},
   "outputs": [
    {
     "data": {
      "text/plain": [
       "array([[13.441176 , -5.1599417],\n",
       "       [-2.0514874, 13.707149 ],\n",
       "       [-2.232689 , 13.950169 ],\n",
       "       ...,\n",
       "       [13.741835 , -5.5737376],\n",
       "       [13.896322 , -6.0910215],\n",
       "       [ 7.2065725, -4.3314576]], dtype=float32)"
      ]
     },
     "execution_count": 12,
     "metadata": {},
     "output_type": "execute_result"
    }
   ],
   "source": [
    "model.predict(X)"
   ]
  },
  {
   "cell_type": "code",
   "execution_count": null,
   "metadata": {},
   "outputs": [],
   "source": []
  },
  {
   "cell_type": "code",
   "execution_count": 13,
   "metadata": {},
   "outputs": [],
   "source": [
    "analyzer = innvestigate.analyzer.relevance_based.relevance_analyzer.LRPAlpha1Beta0(model)"
   ]
  },
  {
   "cell_type": "code",
   "execution_count": 14,
   "metadata": {},
   "outputs": [
    {
     "ename": "SyntaxError",
     "evalue": "invalid syntax (<ipython-input-14-83d675d8cb4c>, line 1)",
     "output_type": "error",
     "traceback": [
      "\u001b[0;36m  File \u001b[0;32m\"<ipython-input-14-83d675d8cb4c>\"\u001b[0;36m, line \u001b[0;32m1\u001b[0m\n\u001b[0;31m    analyzer.\u001b[0m\n\u001b[0m             ^\u001b[0m\n\u001b[0;31mSyntaxError\u001b[0m\u001b[0;31m:\u001b[0m invalid syntax\n"
     ]
    }
   ],
   "source": []
  },
  {
   "cell_type": "code",
   "execution_count": null,
   "metadata": {},
   "outputs": [],
   "source": [
    "analysis = analyzer.analyze(X)"
   ]
  },
  {
   "cell_type": "code",
   "execution_count": null,
   "metadata": {},
   "outputs": [],
   "source": []
  },
  {
   "cell_type": "code",
   "execution_count": null,
   "metadata": {},
   "outputs": [],
   "source": [
    "X"
   ]
  },
  {
   "cell_type": "code",
   "execution_count": null,
   "metadata": {},
   "outputs": [],
   "source": [
    "np.mean(analysis, axis=0)"
   ]
  },
  {
   "cell_type": "code",
   "execution_count": null,
   "metadata": {},
   "outputs": [],
   "source": [
    "model.layers"
   ]
  },
  {
   "cell_type": "code",
   "execution_count": null,
   "metadata": {},
   "outputs": [],
   "source": [
    "analyzer.create_rule_mapping(model.layers[1], )"
   ]
  },
  {
   "cell_type": "code",
   "execution_count": 15,
   "metadata": {},
   "outputs": [],
   "source": [
    "def cut_last_layer(model, n=1):\n",
    "    return Model(inputs=model.inputs, outputs=model.layers[-1-n].output)\n"
   ]
  },
  {
   "cell_type": "code",
   "execution_count": null,
   "metadata": {},
   "outputs": [],
   "source": []
  },
  {
   "cell_type": "code",
   "execution_count": null,
   "metadata": {},
   "outputs": [],
   "source": []
  },
  {
   "cell_type": "code",
   "execution_count": null,
   "metadata": {},
   "outputs": [],
   "source": [
    "analyzer = innvestigate.create_analyzer(\"lrp.alpha_1_beta_0\", cut_last_layer(model, n=1), neuron_selection_mode=\"index\")"
   ]
  },
  {
   "cell_type": "code",
   "execution_count": null,
   "metadata": {},
   "outputs": [],
   "source": [
    "cut_model = cut_last_layer(model, n=1)"
   ]
  },
  {
   "cell_type": "code",
   "execution_count": null,
   "metadata": {},
   "outputs": [],
   "source": [
    "cut_model.compile(optimizer='adagrad').get_layers()"
   ]
  },
  {
   "cell_type": "code",
   "execution_count": null,
   "metadata": {},
   "outputs": [],
   "source": [
    "layer0 = model.layers[0]"
   ]
  },
  {
   "cell_type": "code",
   "execution_count": null,
   "metadata": {},
   "outputs": [],
   "source": [
    "layer0.get_weights()[0]"
   ]
  },
  {
   "cell_type": "code",
   "execution_count": null,
   "metadata": {},
   "outputs": [],
   "source": [
    "layer1.get_weights()[0]"
   ]
  },
  {
   "cell_type": "code",
   "execution_count": null,
   "metadata": {},
   "outputs": [],
   "source": []
  },
  {
   "cell_type": "code",
   "execution_count": null,
   "metadata": {},
   "outputs": [],
   "source": [
    "res = analyzer.analyze(X,31)"
   ]
  },
  {
   "cell_type": "code",
   "execution_count": null,
   "metadata": {},
   "outputs": [],
   "source": [
    "res"
   ]
  },
  {
   "cell_type": "code",
   "execution_count": null,
   "metadata": {},
   "outputs": [],
   "source": [
    "analysis[0]"
   ]
  },
  {
   "cell_type": "code",
   "execution_count": 17,
   "metadata": {},
   "outputs": [],
   "source": [
    "model = keras.Sequential(layers=[\n",
    "    keras.layers.Dense(units=32, activation=keras.activations.relu, input_shape=(64,)),\n",
    "    keras.layers.Dense(units=16, activation=keras.activations.relu),\n",
    "    keras.layers.Dense(units=2, activation=keras.activations.softmax)\n",
    "])\n"
   ]
  },
  {
   "cell_type": "code",
   "execution_count": 18,
   "metadata": {},
   "outputs": [],
   "source": [
    "model.compile(optimizer='Adam',\n",
    "              loss=keras.losses.categorical_crossentropy,\n",
    "              metrics=[keras.metrics.categorical_accuracy])"
   ]
  },
  {
   "cell_type": "code",
   "execution_count": 19,
   "metadata": {},
   "outputs": [],
   "source": [
    "X_train = X[:4000]"
   ]
  },
  {
   "cell_type": "code",
   "execution_count": 20,
   "metadata": {},
   "outputs": [],
   "source": [
    "X_test = X[4000:]"
   ]
  },
  {
   "cell_type": "code",
   "execution_count": 21,
   "metadata": {},
   "outputs": [],
   "source": [
    "y_train = y_bin.todense()[:4000]"
   ]
  },
  {
   "cell_type": "code",
   "execution_count": 22,
   "metadata": {},
   "outputs": [],
   "source": [
    "y_test = y_bin.todense()[4000:]"
   ]
  },
  {
   "cell_type": "code",
   "execution_count": 23,
   "metadata": {},
   "outputs": [
    {
     "name": "stdout",
     "output_type": "stream",
     "text": [
      "Epoch 1/30\n",
      "4000/4000 [==============================] - 1s 159us/step - loss: 0.6286 - categorical_accuracy: 0.6448\n",
      "Epoch 2/30\n",
      "4000/4000 [==============================] - 0s 102us/step - loss: 0.4457 - categorical_accuracy: 0.8035\n",
      "Epoch 3/30\n",
      "4000/4000 [==============================] - 0s 102us/step - loss: 0.3661 - categorical_accuracy: 0.8423\n",
      "Epoch 4/30\n",
      "4000/4000 [==============================] - 0s 98us/step - loss: 0.3214 - categorical_accuracy: 0.8618\n",
      "Epoch 5/30\n",
      "4000/4000 [==============================] - 0s 100us/step - loss: 0.2885 - categorical_accuracy: 0.8787\n",
      "Epoch 6/30\n",
      "4000/4000 [==============================] - 0s 88us/step - loss: 0.2601 - categorical_accuracy: 0.8915\n",
      "Epoch 7/30\n",
      "4000/4000 [==============================] - 0s 84us/step - loss: 0.2375 - categorical_accuracy: 0.9045\n",
      "Epoch 8/30\n",
      "4000/4000 [==============================] - 0s 88us/step - loss: 0.2162 - categorical_accuracy: 0.9133\n",
      "Epoch 9/30\n",
      "4000/4000 [==============================] - 0s 90us/step - loss: 0.1961 - categorical_accuracy: 0.9237\n",
      "Epoch 10/30\n",
      "4000/4000 [==============================] - 0s 83us/step - loss: 0.1787 - categorical_accuracy: 0.9345\n",
      "Epoch 11/30\n",
      "4000/4000 [==============================] - 0s 90us/step - loss: 0.1629 - categorical_accuracy: 0.9435\n",
      "Epoch 12/30\n",
      "4000/4000 [==============================] - 0s 90us/step - loss: 0.1489 - categorical_accuracy: 0.9493\n",
      "Epoch 13/30\n",
      "4000/4000 [==============================] - 0s 87us/step - loss: 0.1381 - categorical_accuracy: 0.9520\n",
      "Epoch 14/30\n",
      "4000/4000 [==============================] - 0s 99us/step - loss: 0.1275 - categorical_accuracy: 0.9583\n",
      "Epoch 15/30\n",
      "4000/4000 [==============================] - 0s 114us/step - loss: 0.1178 - categorical_accuracy: 0.9650\n",
      "Epoch 16/30\n",
      "4000/4000 [==============================] - 0s 109us/step - loss: 0.1084 - categorical_accuracy: 0.9652\n",
      "Epoch 17/30\n",
      "4000/4000 [==============================] - 0s 99us/step - loss: 0.0983 - categorical_accuracy: 0.9720\n",
      "Epoch 18/30\n",
      "4000/4000 [==============================] - 0s 100us/step - loss: 0.0918 - categorical_accuracy: 0.9742\n",
      "Epoch 19/30\n",
      "4000/4000 [==============================] - 0s 110us/step - loss: 0.0839 - categorical_accuracy: 0.97700s - loss: 0.0823 - categorical_accuracy\n",
      "Epoch 20/30\n",
      "4000/4000 [==============================] - 0s 116us/step - loss: 0.0770 - categorical_accuracy: 0.9778\n",
      "Epoch 21/30\n",
      "4000/4000 [==============================] - 0s 113us/step - loss: 0.0717 - categorical_accuracy: 0.9805\n",
      "Epoch 22/30\n",
      "4000/4000 [==============================] - 0s 102us/step - loss: 0.0638 - categorical_accuracy: 0.9848\n",
      "Epoch 23/30\n",
      "4000/4000 [==============================] - 0s 100us/step - loss: 0.0580 - categorical_accuracy: 0.9868\n",
      "Epoch 24/30\n",
      "4000/4000 [==============================] - 0s 110us/step - loss: 0.0534 - categorical_accuracy: 0.9873\n",
      "Epoch 25/30\n",
      "4000/4000 [==============================] - 0s 107us/step - loss: 0.0488 - categorical_accuracy: 0.9890\n",
      "Epoch 26/30\n",
      "4000/4000 [==============================] - 0s 105us/step - loss: 0.0446 - categorical_accuracy: 0.9908\n",
      "Epoch 27/30\n",
      "4000/4000 [==============================] - 0s 97us/step - loss: 0.0396 - categorical_accuracy: 0.9925\n",
      "Epoch 28/30\n",
      "4000/4000 [==============================] - 0s 111us/step - loss: 0.0349 - categorical_accuracy: 0.9938\n",
      "Epoch 29/30\n",
      "4000/4000 [==============================] - 0s 101us/step - loss: 0.0318 - categorical_accuracy: 0.9945\n",
      "Epoch 30/30\n",
      "4000/4000 [==============================] - 0s 121us/step - loss: 0.0286 - categorical_accuracy: 0.9948\n"
     ]
    },
    {
     "data": {
      "text/plain": [
       "<keras.callbacks.History at 0x7f104f7c7f28>"
      ]
     },
     "execution_count": 23,
     "metadata": {},
     "output_type": "execute_result"
    }
   ],
   "source": [
    "model.fit(X_train, y_train, epochs=30)"
   ]
  },
  {
   "cell_type": "code",
   "execution_count": 24,
   "metadata": {},
   "outputs": [],
   "source": [
    "new_model = innvestigate.utils.model_wo_softmax(model)"
   ]
  },
  {
   "cell_type": "code",
   "execution_count": null,
   "metadata": {},
   "outputs": [],
   "source": [
    "a = innvestigate.analyzer.relevance_based.relevance_analyzer.LRPAlpha1Beta0(new_model, neuron_selection_mode='index')"
   ]
  },
  {
   "cell_type": "code",
   "execution_count": 42,
   "metadata": {},
   "outputs": [],
   "source": [
    "analysis_n0 = a.analyze(X_test, 0)\n",
    "analysis_n1 = a.analyze(X_test, 1)"
   ]
  },
  {
   "cell_type": "code",
   "execution_count": 41,
   "metadata": {},
   "outputs": [
    {
     "data": {
      "text/plain": [
       "array([ 53.501583,  63.029697,  38.36648 ,  64.7435  , 208.21985 ,\n",
       "        48.924995,  54.769825, 179.79404 , 328.3143  ,  40.79833 ,\n",
       "        71.938805, 148.84521 ,  58.832596,  49.18619 , 287.95312 ,\n",
       "        69.019005,  52.56025 ,  53.05498 ,  47.93442 ,  48.929657,\n",
       "        49.5912  ,  50.070286,  56.063793,  50.4769  , 319.89188 ,\n",
       "        60.389896,  43.012886,  45.019417,  61.165146,  51.900352,\n",
       "       157.84258 ,  51.506325,  32.54122 ,  40.803795,  48.52234 ,\n",
       "        48.459835,  54.71138 ,  55.516914,  57.333797,  69.39263 ,\n",
       "        57.791077,  45.855473,  43.9796  ,  53.216778,  51.978752,\n",
       "        46.936935,  47.19524 ,  47.11683 ,  60.253826,  39.386234,\n",
       "        56.73499 ,  50.994766,  46.701324, 231.34508 ,  55.99102 ,\n",
       "        55.17115 ,  61.697334,  73.247665,  51.818455, 238.04538 ,\n",
       "        34.95801 , 159.90387 ,  52.666065,  52.994728], dtype=float32)"
      ]
     },
     "execution_count": 41,
     "metadata": {},
     "output_type": "execute_result"
    }
   ],
   "source": [
    "np.sum(np.abs(analysis_n0), axis=0)"
   ]
  },
  {
   "cell_type": "code",
   "execution_count": 43,
   "metadata": {},
   "outputs": [
    {
     "data": {
      "text/plain": [
       "array([ 53.501583,  63.029697,  38.36648 ,  64.7435  , 208.21985 ,\n",
       "        48.924995,  54.769825, 179.79404 , 328.3143  ,  40.79833 ,\n",
       "        71.938805, 148.84521 ,  58.832596,  49.18619 , 287.95312 ,\n",
       "        69.019005,  52.56025 ,  53.05498 ,  47.93442 ,  48.929657,\n",
       "        49.5912  ,  50.070286,  56.063793,  50.4769  , 319.89188 ,\n",
       "        60.389896,  43.012886,  45.019417,  61.165146,  51.900352,\n",
       "       157.84258 ,  51.506325,  32.54122 ,  40.803795,  48.52234 ,\n",
       "        48.459835,  54.71138 ,  55.516914,  57.333797,  69.39263 ,\n",
       "        57.791077,  45.855473,  43.9796  ,  53.216778,  51.978752,\n",
       "        46.936935,  47.19524 ,  47.11683 ,  60.253826,  39.386234,\n",
       "        56.73499 ,  50.994766,  46.701324, 231.34508 ,  55.99102 ,\n",
       "        55.17115 ,  61.697334,  73.247665,  51.818455, 238.04538 ,\n",
       "        34.95801 , 159.90387 ,  52.666065,  52.994728], dtype=float32)"
      ]
     },
     "execution_count": 43,
     "metadata": {},
     "output_type": "execute_result"
    }
   ],
   "source": [
    "np.sum(np.abs(analysis_n1), axis=0)"
   ]
  },
  {
   "cell_type": "code",
   "execution_count": 57,
   "metadata": {},
   "outputs": [
    {
     "data": {
      "text/plain": [
       "array([129.69539 , 121.3832  ,  85.816635, 130.298   , 554.4561  ,\n",
       "       107.56642 , 111.01941 , 307.06592 , 737.8342  ,  85.13445 ,\n",
       "       139.96011 , 369.05423 , 119.1963  , 103.104294, 468.65506 ,\n",
       "       134.33276 , 112.73964 , 115.37604 , 100.03503 ,  92.04717 ,\n",
       "       103.10539 , 107.63516 , 112.88361 ,  96.10742 , 568.344   ,\n",
       "       117.33789 ,  84.95009 ,  92.289215, 125.55323 , 110.57743 ,\n",
       "       283.91888 , 107.88669 ,  67.991325,  96.782104, 110.178955,\n",
       "       105.34137 , 116.98128 , 100.9711  , 108.96794 , 143.89973 ,\n",
       "       124.981186, 104.61773 ,  91.50572 ,  96.78084 , 119.07796 ,\n",
       "       108.417336,  99.14738 ,  99.23058 , 131.19077 ,  85.4337  ,\n",
       "       111.84686 , 109.307335,  89.24909 , 512.1564  , 111.19949 ,\n",
       "       112.11215 , 130.7273  , 151.37524 , 113.43728 , 469.65765 ,\n",
       "        72.78932 , 358.2037  , 121.94273 , 105.04311 ], dtype=float32)"
      ]
     },
     "execution_count": 57,
     "metadata": {},
     "output_type": "execute_result"
    }
   ],
   "source": [
    "(np.sum(np.abs(analysis_n0), axis=0) + np.sum(np.abs(analysis_n1), axis=0))"
   ]
  },
  {
   "cell_type": "code",
   "execution_count": 59,
   "metadata": {},
   "outputs": [
    {
     "data": {
      "text/plain": [
       "array([32, 60, 26,  9, 49,  2, 52, 42, 19, 27, 23, 43, 33, 46, 47, 18, 37,\n",
       "       13, 20, 41, 63, 35,  5, 21, 31, 45, 38, 51, 34, 29,  6, 54, 50, 55,\n",
       "       16, 22, 58, 17, 36, 25, 44, 12,  1, 62, 40, 28,  0,  3, 56, 48, 15,\n",
       "       10, 39, 57, 30,  7, 61, 11, 14, 59, 53,  4, 24,  8])"
      ]
     },
     "execution_count": 59,
     "metadata": {},
     "output_type": "execute_result"
    }
   ],
   "source": [
    "np.argsort((np.sum(np.abs(analysis_n0), axis=0) + np.sum(np.abs(analysis_n1), axis=0)))"
   ]
  },
  {
   "cell_type": "code",
   "execution_count": null,
   "metadata": {},
   "outputs": [],
   "source": [
    "a1 = innvestigate.analyzer.relevance_based.relevance_analyzer.LRPAlpha1Beta0(cut_last_layer(model), neuron_selection_mode='index')"
   ]
  },
  {
   "cell_type": "code",
   "execution_count": null,
   "metadata": {},
   "outputs": [],
   "source": [
    "a1.analyze(X_test, 2)[0]"
   ]
  },
  {
   "cell_type": "code",
   "execution_count": null,
   "metadata": {},
   "outputs": [],
   "source": [
    "a2 = innvestigate.analyzer.relevance_based.relevance_analyzer.LRPAlpha1Beta0(cut_last_layer(model, n=2), neuron_selection_mode='index')"
   ]
  },
  {
   "cell_type": "code",
   "execution_count": null,
   "metadata": {
    "scrolled": false
   },
   "outputs": [],
   "source": [
    "count = 0\n",
    "for arr in a2.analyze(X_test, 31):\n",
    "    if np.sum(arr) == 0:\n",
    "        count+=1\n",
    "\n",
    "print(count)"
   ]
  },
  {
   "cell_type": "code",
   "execution_count": null,
   "metadata": {},
   "outputs": [],
   "source": [
    "np.sum(a2.analyze(X_test, 31), axis=0)"
   ]
  },
  {
   "cell_type": "code",
   "execution_count": 28,
   "metadata": {},
   "outputs": [
    {
     "data": {
      "text/plain": [
       "array([ 24.198978 ,   5.4330654,  18.353344 ,  20.21186  , 147.38112  ,\n",
       "        21.705736 ,  19.620811 ,   1.3526926, 226.99542  ,  17.773066 ,\n",
       "        13.492573 ,  48.89484  ,  16.189135 ,  17.801525 ,  62.233307 ,\n",
       "        21.422846 ,  20.286646 ,  22.040644 ,  18.90143  ,   4.624758 ,\n",
       "        13.392555 ,  17.78278  ,  21.225489 ,  11.659458 ,  98.71338  ,\n",
       "        15.310058 ,   8.918158 ,   8.277944 ,  16.667187 ,  17.214766 ,\n",
       "        47.25463  ,  16.840668 ,  10.165367 ,  26.659868 ,  14.637087 ,\n",
       "        19.321383 ,  18.544174 ,   3.6446671,  11.676939 ,  22.426533 ,\n",
       "        19.399498 ,  16.564007 ,  17.04478  ,  12.790912 ,  27.558489 ,\n",
       "        21.002686 ,  13.666864 ,  15.740488 ,  29.78971  ,  10.3110285,\n",
       "         4.7441134,  21.16869  ,  12.333801 , 157.04886  ,  18.348265 ,\n",
       "         9.556163 ,  19.191208 ,  23.25707  ,  14.356097 ,  79.90362  ,\n",
       "         9.877087 ,  67.065315 ,  23.308184 ,  15.463832 ], dtype=float32)"
      ]
     },
     "execution_count": 28,
     "metadata": {},
     "output_type": "execute_result"
    }
   ],
   "source": [
    "(np.sum(a.analyze(X_test, 0), axis=0))"
   ]
  },
  {
   "cell_type": "code",
   "execution_count": null,
   "metadata": {},
   "outputs": [],
   "source": [
    "np.sum(a.analyze(X_test, 1)[0], axis=0)"
   ]
  },
  {
   "cell_type": "code",
   "execution_count": null,
   "metadata": {},
   "outputs": [],
   "source": [
    "a.analyze(X_test, 1)[0]"
   ]
  }
 ],
 "metadata": {
  "kernelspec": {
   "display_name": "Python 3",
   "language": "python",
   "name": "python3"
  },
  "language_info": {
   "codemirror_mode": {
    "name": "ipython",
    "version": 3
   },
   "file_extension": ".py",
   "mimetype": "text/x-python",
   "name": "python",
   "nbconvert_exporter": "python",
   "pygments_lexer": "ipython3",
   "version": "3.6.5"
  }
 },
 "nbformat": 4,
 "nbformat_minor": 2
}
