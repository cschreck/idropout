{
 "cells": [
  {
   "cell_type": "code",
   "execution_count": 2,
   "metadata": {},
   "outputs": [],
   "source": [
    "%load_ext autoreload"
   ]
  },
  {
   "cell_type": "code",
   "execution_count": 3,
   "metadata": {},
   "outputs": [],
   "source": [
    "%autoreload 2"
   ]
  },
  {
   "cell_type": "code",
   "execution_count": 1,
   "metadata": {},
   "outputs": [
    {
     "name": "stderr",
     "output_type": "stream",
     "text": [
      "Using TensorFlow backend.\n"
     ]
    }
   ],
   "source": [
    "import tensorflow as tf\n",
    "import numpy as np\n",
    "from sklearn.datasets import make_classification\n",
    "import keras \n",
    "import kears.backend as K"
   ]
  },
  {
   "cell_type": "code",
   "execution_count": 4,
   "metadata": {},
   "outputs": [],
   "source": [
    "X, y = make_classification(n_samples=5000, n_features=64, n_informative=8)"
   ]
  },
  {
   "cell_type": "code",
   "execution_count": 5,
   "metadata": {},
   "outputs": [],
   "source": [
    "tf.enable_eager_execution()"
   ]
  },
  {
   "cell_type": "code",
   "execution_count": 6,
   "metadata": {},
   "outputs": [
    {
     "ename": "SyntaxError",
     "evalue": "unexpected EOF while parsing (<ipython-input-6-a59154833259>, line 2)",
     "output_type": "error",
     "traceback": [
      "\u001b[0;36m  File \u001b[0;32m\"<ipython-input-6-a59154833259>\"\u001b[0;36m, line \u001b[0;32m2\u001b[0m\n\u001b[0;31m    \u001b[0m\n\u001b[0m    ^\u001b[0m\n\u001b[0;31mSyntaxError\u001b[0m\u001b[0;31m:\u001b[0m unexpected EOF while parsing\n"
     ]
    }
   ],
   "source": [
    "keras.gradients()"
   ]
  },
  {
   "cell_type": "code",
   "execution_count": 44,
   "metadata": {},
   "outputs": [
    {
     "data": {
      "text/plain": [
       "[<tf.Tensor 'dense_9/BiasAdd:0' shape=(?, 2) dtype=float32>]"
      ]
     },
     "execution_count": 44,
     "metadata": {},
     "output_type": "execute_result"
    }
   ],
   "source": [
    "keras.layers.Multiply()"
   ]
  },
  {
   "cell_type": "code",
   "execution_count": 23,
   "metadata": {},
   "outputs": [],
   "source": [
    "model = keras.Sequential([\n",
    "  keras.layers.core.Dense(32, activation=tf.nn.relu6, input_shape=(64,)),  # input shape required\n",
    "  keras.layers.Dense(32, activation=tf.nn.relu6),\n",
    "  keras.layers.Dense(2)\n",
    "])\n"
   ]
  },
  {
   "cell_type": "code",
   "execution_count": 24,
   "metadata": {},
   "outputs": [],
   "source": [
    "model.compile(optimizer=tf.train.RMSPropOptimizer(0.01),\n",
    "              loss=keras.losses.categorical_crossentropy,\n",
    "              metrics=[keras.metrics.categorical_accuracy])"
   ]
  },
  {
   "cell_type": "code",
   "execution_count": 21,
   "metadata": {},
   "outputs": [
    {
     "ename": "ModuleNotFoundError",
     "evalue": "No module named 'tf'",
     "output_type": "error",
     "traceback": [
      "\u001b[0;31m---------------------------------------------------------------------------\u001b[0m",
      "\u001b[0;31mModuleNotFoundError\u001b[0m                       Traceback (most recent call last)",
      "\u001b[0;32m<ipython-input-21-adc931a1e518>\u001b[0m in \u001b[0;36m<module>\u001b[0;34m\u001b[0m\n\u001b[0;32m----> 1\u001b[0;31m \u001b[0;32mfrom\u001b[0m \u001b[0mtf\u001b[0m\u001b[0;34m.\u001b[0m\u001b[0mkeras\u001b[0m\u001b[0;34m.\u001b[0m\u001b[0mutils\u001b[0m \u001b[0;32mimport\u001b[0m \u001b[0mto_categorical\u001b[0m\u001b[0;34m\u001b[0m\u001b[0m\n\u001b[0m\u001b[1;32m      2\u001b[0m \u001b[0my_binary\u001b[0m \u001b[0;34m=\u001b[0m \u001b[0mto_categorical\u001b[0m\u001b[0;34m(\u001b[0m\u001b[0my\u001b[0m\u001b[0;34m)\u001b[0m\u001b[0;34m\u001b[0m\u001b[0m\n",
      "\u001b[0;31mModuleNotFoundError\u001b[0m: No module named 'tf'"
     ]
    }
   ],
   "source": []
  },
  {
   "cell_type": "code",
   "execution_count": 7,
   "metadata": {},
   "outputs": [],
   "source": [
    "from sklearn.preprocessing import OneHotEncoder"
   ]
  },
  {
   "cell_type": "code",
   "execution_count": 8,
   "metadata": {},
   "outputs": [
    {
     "name": "stderr",
     "output_type": "stream",
     "text": [
      "/home/chschrec/.local/share/virtualenvs/interpret-R0ok2QRq/lib/python3.6/site-packages/sklearn/preprocessing/_encoders.py:371: FutureWarning: The handling of integer data will change in version 0.22. Currently, the categories are determined based on the range [0, max(values)], while in the future they will be determined based on the unique values.\n",
      "If you want the future behaviour and silence this warning, you can specify \"categories='auto'\".\n",
      "In case you used a LabelEncoder before this OneHotEncoder to convert the categories to integers, then you can now use the OneHotEncoder directly.\n",
      "  warnings.warn(msg, FutureWarning)\n"
     ]
    }
   ],
   "source": [
    "le = OneHotEncoder()\n",
    "\n",
    "le = le.fit(y.reshape(-1,1))\n",
    "y_bin = le.transform(y.reshape(-1,1))"
   ]
  },
  {
   "cell_type": "code",
   "execution_count": 11,
   "metadata": {},
   "outputs": [
    {
     "data": {
      "text/plain": [
       "matrix([[1., 0.],\n",
       "        [1., 0.],\n",
       "        [1., 0.],\n",
       "        ...,\n",
       "        [1., 0.],\n",
       "        [1., 0.],\n",
       "        [1., 0.]])"
      ]
     },
     "execution_count": 11,
     "metadata": {},
     "output_type": "execute_result"
    }
   ],
   "source": [
    "y_bin.todense()"
   ]
  },
  {
   "cell_type": "code",
   "execution_count": null,
   "metadata": {},
   "outputs": [],
   "source": []
  },
  {
   "cell_type": "code",
   "execution_count": 25,
   "metadata": {
    "scrolled": true
   },
   "outputs": [
    {
     "name": "stdout",
     "output_type": "stream",
     "text": [
      "Epoch 1/30\n",
      "5000/5000 [==============================] - 1s 120us/step - loss: 1.8785 - categorical_accuracy: 0.2474\n",
      "Epoch 2/30\n",
      "5000/5000 [==============================] - 0s 88us/step - loss: 7.5530 - categorical_accuracy: 0.5004\n",
      "Epoch 3/30\n",
      "5000/5000 [==============================] - 0s 61us/step - loss: 7.5110 - categorical_accuracy: 0.5004\n",
      "Epoch 4/30\n",
      "5000/5000 [==============================] - 0s 87us/step - loss: 7.5110 - categorical_accuracy: 0.5004\n",
      "Epoch 5/30\n",
      "5000/5000 [==============================] - 1s 108us/step - loss: 7.5110 - categorical_accuracy: 0.5004\n",
      "Epoch 6/30\n",
      "5000/5000 [==============================] - 0s 79us/step - loss: 7.5110 - categorical_accuracy: 0.5004\n",
      "Epoch 7/30\n",
      "5000/5000 [==============================] - 0s 64us/step - loss: 7.5110 - categorical_accuracy: 0.5004\n",
      "Epoch 8/30\n",
      "5000/5000 [==============================] - 0s 58us/step - loss: 7.5110 - categorical_accuracy: 0.5004\n",
      "Epoch 9/30\n",
      "5000/5000 [==============================] - 0s 61us/step - loss: 7.5110 - categorical_accuracy: 0.5004\n",
      "Epoch 10/30\n",
      "5000/5000 [==============================] - 0s 65us/step - loss: 7.5110 - categorical_accuracy: 0.5004\n",
      "Epoch 11/30\n",
      "5000/5000 [==============================] - 0s 67us/step - loss: 7.5110 - categorical_accuracy: 0.5004\n",
      "Epoch 12/30\n",
      "5000/5000 [==============================] - 0s 59us/step - loss: 7.5110 - categorical_accuracy: 0.5004\n",
      "Epoch 13/30\n",
      "5000/5000 [==============================] - 0s 94us/step - loss: 7.5110 - categorical_accuracy: 0.5004 0s - loss: 7.3140 - categorical_\n",
      "Epoch 14/30\n",
      "5000/5000 [==============================] - 1s 101us/step - loss: 7.5110 - categorical_accuracy: 0.5004\n",
      "Epoch 15/30\n",
      "5000/5000 [==============================] - 0s 89us/step - loss: 7.5110 - categorical_accuracy: 0.5004\n",
      "Epoch 16/30\n",
      "5000/5000 [==============================] - 0s 89us/step - loss: 7.5110 - categorical_accuracy: 0.5004\n",
      "Epoch 17/30\n",
      "5000/5000 [==============================] - 0s 79us/step - loss: 7.5110 - categorical_accuracy: 0.5004\n",
      "Epoch 18/30\n",
      "5000/5000 [==============================] - 0s 80us/step - loss: 7.5110 - categorical_accuracy: 0.5004\n",
      "Epoch 19/30\n",
      "5000/5000 [==============================] - 0s 60us/step - loss: 7.5110 - categorical_accuracy: 0.5004\n",
      "Epoch 20/30\n",
      "5000/5000 [==============================] - 0s 55us/step - loss: 7.5110 - categorical_accuracy: 0.5004\n",
      "Epoch 21/30\n",
      "5000/5000 [==============================] - 0s 85us/step - loss: 7.5110 - categorical_accuracy: 0.5004\n",
      "Epoch 22/30\n",
      "5000/5000 [==============================] - 0s 65us/step - loss: 7.5110 - categorical_accuracy: 0.5004\n",
      "Epoch 23/30\n",
      "5000/5000 [==============================] - 0s 68us/step - loss: 7.5110 - categorical_accuracy: 0.5004\n",
      "Epoch 24/30\n",
      "5000/5000 [==============================] - 0s 81us/step - loss: 7.5110 - categorical_accuracy: 0.5004\n",
      "Epoch 25/30\n",
      "5000/5000 [==============================] - 0s 57us/step - loss: 7.5110 - categorical_accuracy: 0.5004\n",
      "Epoch 26/30\n",
      "5000/5000 [==============================] - 0s 68us/step - loss: 7.5110 - categorical_accuracy: 0.5004\n",
      "Epoch 27/30\n",
      "5000/5000 [==============================] - 0s 55us/step - loss: 7.5110 - categorical_accuracy: 0.5004\n",
      "Epoch 28/30\n",
      "5000/5000 [==============================] - 0s 57us/step - loss: 7.5110 - categorical_accuracy: 0.5004\n",
      "Epoch 29/30\n",
      "5000/5000 [==============================] - 0s 58us/step - loss: 7.5110 - categorical_accuracy: 0.5004\n",
      "Epoch 30/30\n",
      "5000/5000 [==============================] - 0s 69us/step - loss: 7.5110 - categorical_accuracy: 0.5004\n"
     ]
    },
    {
     "data": {
      "text/plain": [
       "<keras.callbacks.History at 0x7f103a9e8c88>"
      ]
     },
     "execution_count": 25,
     "metadata": {},
     "output_type": "execute_result"
    }
   ],
   "source": [
    "model.fit(X,y_bin.todense(), epochs=30)"
   ]
  },
  {
   "cell_type": "code",
   "execution_count": 26,
   "metadata": {},
   "outputs": [
    {
     "data": {
      "text/plain": [
       "array([[10.087797 , -7.8202844],\n",
       "       [ 5.1757474, -3.6478474],\n",
       "       [ 5.2577424, -3.3612437],\n",
       "       ...,\n",
       "       [ 9.694464 , -6.790212 ],\n",
       "       [ 6.197085 , -5.036108 ],\n",
       "       [ 8.373802 , -7.195364 ]], dtype=float32)"
      ]
     },
     "execution_count": 26,
     "metadata": {},
     "output_type": "execute_result"
    }
   ],
   "source": [
    "model.predict(X)"
   ]
  },
  {
   "cell_type": "code",
   "execution_count": 11,
   "metadata": {},
   "outputs": [],
   "source": [
    "import innvestigate"
   ]
  },
  {
   "cell_type": "code",
   "execution_count": 27,
   "metadata": {},
   "outputs": [],
   "source": [
    "analyzer = innvestigate.analyzer.relevance_based.relevance_analyzer.LRPAlpha1Beta0(model)"
   ]
  },
  {
   "cell_type": "code",
   "execution_count": 35,
   "metadata": {},
   "outputs": [
    {
     "data": {
      "text/plain": [
       "innvestigate.analyzer.relevance_based.relevance_analyzer.LRPAlpha1Beta0"
      ]
     },
     "execution_count": 35,
     "metadata": {},
     "output_type": "execute_result"
    }
   ],
   "source": [
    "analyzer."
   ]
  },
  {
   "cell_type": "code",
   "execution_count": 28,
   "metadata": {},
   "outputs": [],
   "source": [
    "analysis = analyzer.analyze(X)"
   ]
  },
  {
   "cell_type": "code",
   "execution_count": 30,
   "metadata": {},
   "outputs": [
    {
     "data": {
      "text/plain": [
       "array([[ 0.29695714,  0.00777622,  0.71848883, ...,  0.91729687,\n",
       "         1.85053899,  2.95834429],\n",
       "       [ 2.07125888, -0.47394441,  0.7111686 , ..., -1.11819785,\n",
       "         4.5343547 , -1.44932959],\n",
       "       [-0.43783894,  0.22069602,  0.09993105, ..., -0.61603824,\n",
       "        -0.86477446, -0.46826356],\n",
       "       ...,\n",
       "       [-1.1648148 ,  0.85132771, -0.54166518, ..., -0.25182669,\n",
       "         2.31217896,  0.33142493],\n",
       "       [-0.93167154, -2.4315975 ,  0.12469129, ..., -0.91679669,\n",
       "        -1.6678789 ,  0.29164808],\n",
       "       [-0.12699544, -1.19320753, -0.21478022, ...,  1.42400215,\n",
       "        -0.78967164, -0.17536896]])"
      ]
     },
     "execution_count": 30,
     "metadata": {},
     "output_type": "execute_result"
    }
   ],
   "source": [
    "X"
   ]
  },
  {
   "cell_type": "code",
   "execution_count": 42,
   "metadata": {},
   "outputs": [
    {
     "data": {
      "text/plain": [
       "array([0.07659585, 0.09645171, 0.05256432, 0.05756025, 0.05573735,\n",
       "       0.07201791, 0.0758444 , 0.22375701, 0.06526086, 0.07303772,\n",
       "       0.08242455, 0.17338201, 0.07368153, 0.06059192, 0.07823718,\n",
       "       0.0666748 , 0.08855344, 0.07631174, 0.0757632 , 0.07687382,\n",
       "       0.06410274, 0.06518071, 0.07685847, 0.06713701, 0.09071176,\n",
       "       0.08781219, 0.32262793, 0.0715052 , 0.07232529, 0.0558734 ,\n",
       "       0.30536577, 0.05629314, 0.08046653, 0.0660798 , 0.35389507,\n",
       "       0.06983189, 0.05493927, 0.07801652, 0.24154288, 0.07426246,\n",
       "       0.08086101, 0.08143247, 0.07473605, 0.06989391, 0.07567549,\n",
       "       0.05180835, 0.06839447, 0.06047326, 0.06790519, 0.06616583,\n",
       "       0.06173336, 0.24670535, 0.05948595, 0.06815263, 0.23955713,\n",
       "       0.0625525 , 0.07237627, 0.06576369, 0.06756023, 0.04724722,\n",
       "       0.18414406, 0.07516621, 0.22714607, 0.05146806], dtype=float32)"
      ]
     },
     "execution_count": 42,
     "metadata": {},
     "output_type": "execute_result"
    }
   ],
   "source": [
    "np.mean(analysis, axis=0)"
   ]
  },
  {
   "cell_type": "code",
   "execution_count": 31,
   "metadata": {},
   "outputs": [
    {
     "data": {
      "text/plain": [
       "[<keras.layers.core.Dense at 0x7f103a945f98>,\n",
       " <keras.layers.core.Dense at 0x7f103a963160>,\n",
       " <keras.layers.core.Dense at 0x7f103a9632e8>]"
      ]
     },
     "execution_count": 31,
     "metadata": {},
     "output_type": "execute_result"
    }
   ],
   "source": [
    "model.layers"
   ]
  },
  {
   "cell_type": "code",
   "execution_count": 32,
   "metadata": {},
   "outputs": [
    {
     "ename": "TypeError",
     "evalue": "create_rule_mapping() missing 1 required positional argument: 'reverse_state'",
     "output_type": "error",
     "traceback": [
      "\u001b[0;31m---------------------------------------------------------------------------\u001b[0m",
      "\u001b[0;31mTypeError\u001b[0m                                 Traceback (most recent call last)",
      "\u001b[0;32m<ipython-input-32-cf419fc5655a>\u001b[0m in \u001b[0;36m<module>\u001b[0;34m\u001b[0m\n\u001b[0;32m----> 1\u001b[0;31m \u001b[0manalyzer\u001b[0m\u001b[0;34m.\u001b[0m\u001b[0mcreate_rule_mapping\u001b[0m\u001b[0;34m(\u001b[0m\u001b[0mmodel\u001b[0m\u001b[0;34m.\u001b[0m\u001b[0mlayers\u001b[0m\u001b[0;34m[\u001b[0m\u001b[0;36m1\u001b[0m\u001b[0;34m]\u001b[0m\u001b[0;34m)\u001b[0m\u001b[0;34m\u001b[0m\u001b[0m\n\u001b[0m",
      "\u001b[0;31mTypeError\u001b[0m: create_rule_mapping() missing 1 required positional argument: 'reverse_state'"
     ]
    }
   ],
   "source": [
    "analyzer.create_rule_mapping(model.layers[1], )"
   ]
  }
 ],
 "metadata": {
  "kernelspec": {
   "display_name": "Python 3",
   "language": "python",
   "name": "python3"
  },
  "language_info": {
   "codemirror_mode": {
    "name": "ipython",
    "version": 3
   },
   "file_extension": ".py",
   "mimetype": "text/x-python",
   "name": "python",
   "nbconvert_exporter": "python",
   "pygments_lexer": "ipython3",
   "version": "3.6.5"
  }
 },
 "nbformat": 4,
 "nbformat_minor": 2
}
