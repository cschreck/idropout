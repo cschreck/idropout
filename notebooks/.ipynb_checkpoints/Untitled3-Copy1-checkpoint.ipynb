{
 "cells": [
  {
   "cell_type": "code",
   "execution_count": 1,
   "metadata": {},
   "outputs": [],
   "source": [
    "import pandas as pd"
   ]
  },
  {
   "cell_type": "code",
   "execution_count": 6,
   "metadata": {},
   "outputs": [],
   "source": [
    "df_train = pd.read_csv('../data/isolet1+2+3+4.data', header=None)\n",
    "df_test = pd.read_csv('../data/isolet5.data', header=None)"
   ]
  },
  {
   "cell_type": "code",
   "execution_count": 7,
   "metadata": {},
   "outputs": [],
   "source": [
    "X_train = df_train.iloc[:, :617].values\n",
    "y_train = df_train.iloc[:, 617: ].values"
   ]
  },
  {
   "cell_type": "code",
   "execution_count": 10,
   "metadata": {},
   "outputs": [],
   "source": [
    "X_test = df_test.iloc[:, :617].values\n",
    "y_test = df_test.iloc[:, 617: ].values"
   ]
  },
  {
   "cell_type": "code",
   "execution_count": 11,
   "metadata": {},
   "outputs": [
    {
     "name": "stderr",
     "output_type": "stream",
     "text": [
      "Using TensorFlow backend.\n"
     ]
    }
   ],
   "source": [
    "import tensorflow as tf\n",
    "import numpy as np\n",
    "from sklearn.datasets import make_classification\n",
    "import keras \n",
    "import keras.backend as K\n",
    "import innvestigate\n",
    "from keras.models import Model\n",
    "import matplotlib.pyplot as plt\n",
    "from sklearn.preprocessing import OneHotEncoder"
   ]
  },
  {
   "cell_type": "code",
   "execution_count": 13,
   "metadata": {},
   "outputs": [
    {
     "name": "stderr",
     "output_type": "stream",
     "text": [
      "/home/chschrec/.local/share/virtualenvs/interpret-R0ok2QRq/lib/python3.6/site-packages/sklearn/preprocessing/_encoders.py:371: FutureWarning: The handling of integer data will change in version 0.22. Currently, the categories are determined based on the range [0, max(values)], while in the future they will be determined based on the unique values.\n",
      "If you want the future behaviour and silence this warning, you can specify \"categories='auto'\".\n",
      "In case you used a LabelEncoder before this OneHotEncoder to convert the categories to integers, then you can now use the OneHotEncoder directly.\n",
      "  warnings.warn(msg, FutureWarning)\n",
      "/home/chschrec/.local/share/virtualenvs/interpret-R0ok2QRq/lib/python3.6/site-packages/sklearn/preprocessing/_encoders.py:371: FutureWarning: The handling of integer data will change in version 0.22. Currently, the categories are determined based on the range [0, max(values)], while in the future they will be determined based on the unique values.\n",
      "If you want the future behaviour and silence this warning, you can specify \"categories='auto'\".\n",
      "In case you used a LabelEncoder before this OneHotEncoder to convert the categories to integers, then you can now use the OneHotEncoder directly.\n",
      "  warnings.warn(msg, FutureWarning)\n"
     ]
    }
   ],
   "source": [
    "ohe = OneHotEncoder()\n",
    "y_train = ohe.fit_transform(y_train.reshape(-1,1)).todense()\n",
    "y_test = ohe.fit_transform(y_test.reshape(-1,1)).todense()"
   ]
  },
  {
   "cell_type": "code",
   "execution_count": 15,
   "metadata": {},
   "outputs": [
    {
     "name": "stdout",
     "output_type": "stream",
     "text": [
      "WARNING:tensorflow:From /home/chschrec/.local/share/virtualenvs/interpret-R0ok2QRq/lib/python3.6/site-packages/tensorflow/python/ops/control_flow_ops.py:423: colocate_with (from tensorflow.python.framework.ops) is deprecated and will be removed in a future version.\n",
      "Instructions for updating:\n",
      "Colocations handled automatically by placer.\n",
      "WARNING:tensorflow:From /home/chschrec/.local/share/virtualenvs/interpret-R0ok2QRq/lib/python3.6/site-packages/keras/backend/tensorflow_backend.py:3445: calling dropout (from tensorflow.python.ops.nn_ops) with keep_prob is deprecated and will be removed in a future version.\n",
      "Instructions for updating:\n",
      "Please use `rate` instead of `keep_prob`. Rate should be set to `rate = 1 - keep_prob`.\n"
     ]
    }
   ],
   "source": [
    "model = keras.Sequential(layers=[\n",
    "    keras.layers.Dropout(rate=0.25, input_shape=(617,), seed=0),\n",
    "    keras.layers.Dense(units=32, activation=keras.activations.relu),\n",
    "    keras.layers.Dense(units=16, activation=keras.activations.relu),\n",
    "    keras.layers.Dense(units=26, activation=keras.activations.softmax)\n",
    "])"
   ]
  },
  {
   "cell_type": "code",
   "execution_count": 16,
   "metadata": {},
   "outputs": [],
   "source": [
    "model.compile(optimizer='Adam',\n",
    "              loss=keras.losses.categorical_crossentropy,\n",
    "              metrics=[keras.metrics.categorical_accuracy])"
   ]
  },
  {
   "cell_type": "code",
   "execution_count": null,
   "metadata": {
    "scrolled": true
   },
   "outputs": [
    {
     "name": "stdout",
     "output_type": "stream",
     "text": [
      "WARNING:tensorflow:From /home/chschrec/.local/share/virtualenvs/interpret-R0ok2QRq/lib/python3.6/site-packages/tensorflow/python/ops/math_ops.py:3066: to_int32 (from tensorflow.python.ops.math_ops) is deprecated and will be removed in a future version.\n",
      "Instructions for updating:\n",
      "Use tf.cast instead.\n",
      "Epoch 1/300\n",
      "6238/6238 [==============================] - 1s 172us/step - loss: 2.8173 - categorical_accuracy: 0.1791\n",
      "Epoch 2/300\n",
      "6238/6238 [==============================] - 1s 89us/step - loss: 1.7294 - categorical_accuracy: 0.4845\n",
      "Epoch 3/300\n",
      "6238/6238 [==============================] - 1s 112us/step - loss: 1.0503 - categorical_accuracy: 0.6802\n",
      "Epoch 4/300\n",
      "6238/6238 [==============================] - 1s 121us/step - loss: 0.7343 - categorical_accuracy: 0.75730s - loss: 0.8301 - cate\n",
      "Epoch 5/300\n",
      "6238/6238 [==============================] - 1s 95us/step - loss: 0.5895 - categorical_accuracy: 0.8063\n",
      "Epoch 6/300\n",
      "6238/6238 [==============================] - 1s 85us/step - loss: 0.5150 - categorical_accuracy: 0.8334\n",
      "Epoch 7/300\n",
      "6238/6238 [==============================] - 0s 80us/step - loss: 0.4515 - categorical_accuracy: 0.8536 0s - loss: 0.4481 - categorical_accuracy - ETA: 0s - loss: 0.4516 - categorical_accuracy: 0.85\n",
      "Epoch 8/300\n",
      "6238/6238 [==============================] - 0s 50us/step - loss: 0.4136 - categorical_accuracy: 0.8647\n",
      "Epoch 9/300\n",
      "6238/6238 [==============================] - 0s 43us/step - loss: 0.3770 - categorical_accuracy: 0.8807\n",
      "Epoch 10/300\n",
      "6238/6238 [==============================] - 0s 40us/step - loss: 0.3455 - categorical_accuracy: 0.8883\n",
      "Epoch 11/300\n",
      "6238/6238 [==============================] - 0s 55us/step - loss: 0.3119 - categorical_accuracy: 0.9019\n",
      "Epoch 12/300\n",
      "6238/6238 [==============================] - 0s 57us/step - loss: 0.2988 - categorical_accuracy: 0.9073\n",
      "Epoch 13/300\n",
      "6238/6238 [==============================] - 1s 100us/step - loss: 0.2760 - categorical_accuracy: 0.9102\n",
      "Epoch 14/300\n",
      "6238/6238 [==============================] - 0s 55us/step - loss: 0.2724 - categorical_accuracy: 0.9097\n",
      "Epoch 15/300\n",
      "6238/6238 [==============================] - 0s 61us/step - loss: 0.2499 - categorical_accuracy: 0.9214\n",
      "Epoch 16/300\n",
      "6238/6238 [==============================] - 1s 80us/step - loss: 0.2346 - categorical_accuracy: 0.9256\n",
      "Epoch 17/300\n",
      "6238/6238 [==============================] - 1s 124us/step - loss: 0.2238 - categorical_accuracy: 0.9295\n",
      "Epoch 18/300\n",
      "6238/6238 [==============================] - 1s 133us/step - loss: 0.2187 - categorical_accuracy: 0.9303\n",
      "Epoch 19/300\n",
      "6238/6238 [==============================] - 1s 120us/step - loss: 0.2068 - categorical_accuracy: 0.9348\n",
      "Epoch 20/300\n",
      "6238/6238 [==============================] - 1s 98us/step - loss: 0.1973 - categorical_accuracy: 0.9346\n",
      "Epoch 21/300\n",
      "6238/6238 [==============================] - 1s 95us/step - loss: 0.2009 - categorical_accuracy: 0.9357\n",
      "Epoch 22/300\n",
      "6238/6238 [==============================] - 1s 117us/step - loss: 0.1864 - categorical_accuracy: 0.9439\n",
      "Epoch 23/300\n",
      "6238/6238 [==============================] - 1s 106us/step - loss: 0.1876 - categorical_accuracy: 0.9351\n",
      "Epoch 24/300\n",
      "6238/6238 [==============================] - 1s 102us/step - loss: 0.1831 - categorical_accuracy: 0.9424\n",
      "Epoch 25/300\n",
      "6238/6238 [==============================] - 1s 97us/step - loss: 0.1771 - categorical_accuracy: 0.9386\n",
      "Epoch 26/300\n",
      "6238/6238 [==============================] - 1s 129us/step - loss: 0.1683 - categorical_accuracy: 0.9457\n",
      "Epoch 27/300\n",
      "6238/6238 [==============================] - 1s 120us/step - loss: 0.1612 - categorical_accuracy: 0.9468\n",
      "Epoch 28/300\n",
      "6238/6238 [==============================] - 0s 70us/step - loss: 0.1667 - categorical_accuracy: 0.9463\n",
      "Epoch 29/300\n",
      "6238/6238 [==============================] - 1s 88us/step - loss: 0.1577 - categorical_accuracy: 0.9474\n",
      "Epoch 30/300\n",
      "6238/6238 [==============================] - 0s 75us/step - loss: 0.1503 - categorical_accuracy: 0.9508\n",
      "Epoch 31/300\n",
      "6238/6238 [==============================] - 0s 73us/step - loss: 0.1432 - categorical_accuracy: 0.9532\n",
      "Epoch 32/300\n",
      "6238/6238 [==============================] - 0s 73us/step - loss: 0.1459 - categorical_accuracy: 0.9517\n",
      "Epoch 33/300\n",
      "6238/6238 [==============================] - 1s 83us/step - loss: 0.1447 - categorical_accuracy: 0.9497\n",
      "Epoch 34/300\n",
      "6238/6238 [==============================] - 0s 68us/step - loss: 0.1412 - categorical_accuracy: 0.9525\n",
      "Epoch 35/300\n",
      "6238/6238 [==============================] - 1s 110us/step - loss: 0.1353 - categorical_accuracy: 0.9538\n",
      "Epoch 36/300\n",
      "6238/6238 [==============================] - 1s 110us/step - loss: 0.1304 - categorical_accuracy: 0.9566\n",
      "Epoch 37/300\n",
      "6238/6238 [==============================] - 1s 83us/step - loss: 0.1290 - categorical_accuracy: 0.9550\n",
      "Epoch 38/300\n",
      "6238/6238 [==============================] - 0s 58us/step - loss: 0.1335 - categorical_accuracy: 0.9554\n",
      "Epoch 39/300\n",
      "6238/6238 [==============================] - 0s 51us/step - loss: 0.1321 - categorical_accuracy: 0.9562\n",
      "Epoch 40/300\n",
      "6238/6238 [==============================] - 0s 74us/step - loss: 0.1270 - categorical_accuracy: 0.9586\n",
      "Epoch 41/300\n",
      "6238/6238 [==============================] - 0s 47us/step - loss: 0.1252 - categorical_accuracy: 0.9575\n",
      "Epoch 42/300\n",
      "6238/6238 [==============================] - 0s 47us/step - loss: 0.1213 - categorical_accuracy: 0.9593\n",
      "Epoch 43/300\n",
      "6238/6238 [==============================] - 0s 59us/step - loss: 0.1176 - categorical_accuracy: 0.9591\n",
      "Epoch 44/300\n",
      "6238/6238 [==============================] - 1s 97us/step - loss: 0.1157 - categorical_accuracy: 0.9606\n",
      "Epoch 45/300\n",
      "6238/6238 [==============================] - 1s 101us/step - loss: 0.1093 - categorical_accuracy: 0.9644\n",
      "Epoch 46/300\n",
      "6238/6238 [==============================] - 1s 84us/step - loss: 0.1147 - categorical_accuracy: 0.9602\n",
      "Epoch 47/300\n",
      "6238/6238 [==============================] - 0s 66us/step - loss: 0.1163 - categorical_accuracy: 0.9628\n",
      "Epoch 48/300\n",
      "6238/6238 [==============================] - 0s 69us/step - loss: 0.1173 - categorical_accuracy: 0.9601\n",
      "Epoch 49/300\n",
      "6238/6238 [==============================] - 0s 65us/step - loss: 0.0982 - categorical_accuracy: 0.9679\n",
      "Epoch 50/300\n",
      "6238/6238 [==============================] - 0s 69us/step - loss: 0.1039 - categorical_accuracy: 0.9641\n",
      "Epoch 51/300\n",
      "6238/6238 [==============================] - 1s 84us/step - loss: 0.1031 - categorical_accuracy: 0.9662\n",
      "Epoch 52/300\n",
      "6238/6238 [==============================] - 0s 67us/step - loss: 0.1033 - categorical_accuracy: 0.9646\n",
      "Epoch 53/300\n",
      "6238/6238 [==============================] - 1s 113us/step - loss: 0.1060 - categorical_accuracy: 0.9636\n",
      "Epoch 54/300\n",
      "6238/6238 [==============================] - 0s 75us/step - loss: 0.1090 - categorical_accuracy: 0.9636\n",
      "Epoch 55/300\n",
      "6238/6238 [==============================] - 1s 83us/step - loss: 0.1022 - categorical_accuracy: 0.9643\n",
      "Epoch 56/300\n",
      "6238/6238 [==============================] - 0s 67us/step - loss: 0.1067 - categorical_accuracy: 0.9623\n",
      "Epoch 57/300\n",
      "6238/6238 [==============================] - 0s 74us/step - loss: 0.1065 - categorical_accuracy: 0.9636\n",
      "Epoch 58/300\n",
      "6238/6238 [==============================] - 0s 68us/step - loss: 0.1006 - categorical_accuracy: 0.9673\n",
      "Epoch 59/300\n",
      "6238/6238 [==============================] - 0s 75us/step - loss: 0.0899 - categorical_accuracy: 0.9697\n",
      "Epoch 60/300\n",
      "6238/6238 [==============================] - 0s 75us/step - loss: 0.0955 - categorical_accuracy: 0.9665\n",
      "Epoch 61/300\n",
      "6238/6238 [==============================] - 0s 75us/step - loss: 0.0955 - categorical_accuracy: 0.9681\n",
      "Epoch 62/300\n",
      "6238/6238 [==============================] - 0s 76us/step - loss: 0.0974 - categorical_accuracy: 0.9695\n",
      "Epoch 63/300\n",
      "6238/6238 [==============================] - 0s 67us/step - loss: 0.1058 - categorical_accuracy: 0.9612\n",
      "Epoch 64/300\n",
      "6238/6238 [==============================] - 1s 81us/step - loss: 0.0929 - categorical_accuracy: 0.9684\n",
      "Epoch 65/300\n",
      "6238/6238 [==============================] - 0s 66us/step - loss: 0.0970 - categorical_accuracy: 0.9654\n",
      "Epoch 66/300\n"
     ]
    },
    {
     "name": "stdout",
     "output_type": "stream",
     "text": [
      "6238/6238 [==============================] - 0s 64us/step - loss: 0.0914 - categorical_accuracy: 0.9694 0s - loss: 0.0874 - categorical_accu\n",
      "Epoch 67/300\n",
      "6238/6238 [==============================] - 0s 57us/step - loss: 0.0957 - categorical_accuracy: 0.9654\n",
      "Epoch 68/300\n",
      "6238/6238 [==============================] - 0s 59us/step - loss: 0.0922 - categorical_accuracy: 0.9679\n",
      "Epoch 69/300\n",
      "6238/6238 [==============================] - 0s 58us/step - loss: 0.0844 - categorical_accuracy: 0.9718\n",
      "Epoch 70/300\n",
      "6238/6238 [==============================] - 0s 54us/step - loss: 0.0845 - categorical_accuracy: 0.9702\n",
      "Epoch 71/300\n",
      "6238/6238 [==============================] - 0s 57us/step - loss: 0.0913 - categorical_accuracy: 0.9697\n",
      "Epoch 72/300\n",
      "6238/6238 [==============================] - 0s 57us/step - loss: 0.0930 - categorical_accuracy: 0.9683\n",
      "Epoch 73/300\n",
      "6238/6238 [==============================] - 0s 58us/step - loss: 0.0914 - categorical_accuracy: 0.9689\n",
      "Epoch 74/300\n",
      "6238/6238 [==============================] - 0s 59us/step - loss: 0.0851 - categorical_accuracy: 0.9684\n",
      "Epoch 75/300\n",
      "6238/6238 [==============================] - 0s 66us/step - loss: 0.0926 - categorical_accuracy: 0.9660\n",
      "Epoch 76/300\n",
      "6238/6238 [==============================] - 0s 67us/step - loss: 0.0831 - categorical_accuracy: 0.9711\n",
      "Epoch 77/300\n",
      "6238/6238 [==============================] - 0s 60us/step - loss: 0.0949 - categorical_accuracy: 0.9654\n",
      "Epoch 78/300\n",
      "6238/6238 [==============================] - 0s 57us/step - loss: 0.0960 - categorical_accuracy: 0.9644\n",
      "Epoch 79/300\n",
      "6238/6238 [==============================] - 0s 58us/step - loss: 0.0855 - categorical_accuracy: 0.9692 0s - loss: 0.0826 - categorical_accuracy\n",
      "Epoch 80/300\n",
      "6238/6238 [==============================] - 0s 60us/step - loss: 0.0849 - categorical_accuracy: 0.9710\n",
      "Epoch 81/300\n",
      "6238/6238 [==============================] - 0s 77us/step - loss: 0.0847 - categorical_accuracy: 0.9718\n",
      "Epoch 82/300\n",
      "6238/6238 [==============================] - 1s 92us/step - loss: 0.0835 - categorical_accuracy: 0.9711\n",
      "Epoch 83/300\n",
      "6238/6238 [==============================] - 0s 75us/step - loss: 0.0836 - categorical_accuracy: 0.9695\n",
      "Epoch 84/300\n",
      "6238/6238 [==============================] - 0s 70us/step - loss: 0.0786 - categorical_accuracy: 0.9732\n",
      "Epoch 85/300\n",
      "6238/6238 [==============================] - 0s 75us/step - loss: 0.0861 - categorical_accuracy: 0.9678\n",
      "Epoch 86/300\n",
      "6238/6238 [==============================] - 0s 74us/step - loss: 0.0805 - categorical_accuracy: 0.9713\n",
      "Epoch 87/300\n",
      "6238/6238 [==============================] - 1s 87us/step - loss: 0.0841 - categorical_accuracy: 0.9719\n",
      "Epoch 88/300\n",
      "6238/6238 [==============================] - 1s 88us/step - loss: 0.0704 - categorical_accuracy: 0.9768\n",
      "Epoch 89/300\n",
      "6238/6238 [==============================] - 0s 60us/step - loss: 0.0780 - categorical_accuracy: 0.9753\n",
      "Epoch 90/300\n",
      "6238/6238 [==============================] - 0s 58us/step - loss: 0.0834 - categorical_accuracy: 0.9695\n",
      "Epoch 91/300\n",
      "6238/6238 [==============================] - 0s 56us/step - loss: 0.0795 - categorical_accuracy: 0.9723\n",
      "Epoch 92/300\n",
      "6238/6238 [==============================] - 0s 60us/step - loss: 0.0805 - categorical_accuracy: 0.9702\n",
      "Epoch 93/300\n",
      "6238/6238 [==============================] - 0s 79us/step - loss: 0.0773 - categorical_accuracy: 0.9715\n",
      "Epoch 94/300\n",
      "6238/6238 [==============================] - 0s 57us/step - loss: 0.0829 - categorical_accuracy: 0.9739\n",
      "Epoch 95/300\n",
      "6238/6238 [==============================] - 0s 66us/step - loss: 0.0831 - categorical_accuracy: 0.9694\n",
      "Epoch 96/300\n",
      "6238/6238 [==============================] - 0s 60us/step - loss: 0.0749 - categorical_accuracy: 0.9739\n",
      "Epoch 97/300\n",
      "6238/6238 [==============================] - 0s 69us/step - loss: 0.0798 - categorical_accuracy: 0.9718\n",
      "Epoch 98/300\n",
      "6238/6238 [==============================] - 0s 58us/step - loss: 0.0696 - categorical_accuracy: 0.9768\n",
      "Epoch 99/300\n",
      "6238/6238 [==============================] - 0s 58us/step - loss: 0.0748 - categorical_accuracy: 0.9726\n",
      "Epoch 100/300\n",
      "6238/6238 [==============================] - 0s 56us/step - loss: 0.0687 - categorical_accuracy: 0.9772\n",
      "Epoch 101/300\n",
      "6238/6238 [==============================] - 0s 55us/step - loss: 0.0679 - categorical_accuracy: 0.9750\n",
      "Epoch 102/300\n",
      "6238/6238 [==============================] - 0s 67us/step - loss: 0.0691 - categorical_accuracy: 0.9772\n",
      "Epoch 103/300\n",
      "6238/6238 [==============================] - 0s 78us/step - loss: 0.0711 - categorical_accuracy: 0.9758\n",
      "Epoch 104/300\n",
      "6238/6238 [==============================] - 0s 58us/step - loss: 0.0733 - categorical_accuracy: 0.9734\n",
      "Epoch 105/300\n",
      "6238/6238 [==============================] - 0s 72us/step - loss: 0.0757 - categorical_accuracy: 0.9735\n",
      "Epoch 106/300\n",
      "6238/6238 [==============================] - 0s 56us/step - loss: 0.0752 - categorical_accuracy: 0.9745\n",
      "Epoch 107/300\n",
      "6238/6238 [==============================] - 0s 63us/step - loss: 0.0626 - categorical_accuracy: 0.9796\n",
      "Epoch 108/300\n",
      "6238/6238 [==============================] - 0s 68us/step - loss: 0.0721 - categorical_accuracy: 0.9744\n",
      "Epoch 109/300\n",
      "6238/6238 [==============================] - 0s 57us/step - loss: 0.0719 - categorical_accuracy: 0.9750\n",
      "Epoch 110/300\n",
      "6238/6238 [==============================] - 0s 56us/step - loss: 0.0673 - categorical_accuracy: 0.9756\n",
      "Epoch 111/300\n",
      "6238/6238 [==============================] - 0s 57us/step - loss: 0.0686 - categorical_accuracy: 0.9737\n",
      "Epoch 112/300\n",
      "6238/6238 [==============================] - 0s 59us/step - loss: 0.0747 - categorical_accuracy: 0.9748\n",
      "Epoch 113/300\n",
      "6238/6238 [==============================] - 0s 59us/step - loss: 0.0701 - categorical_accuracy: 0.9760\n",
      "Epoch 114/300\n",
      "6238/6238 [==============================] - 0s 58us/step - loss: 0.0683 - categorical_accuracy: 0.9750\n",
      "Epoch 115/300\n",
      "6238/6238 [==============================] - 1s 94us/step - loss: 0.0670 - categorical_accuracy: 0.9750\n",
      "Epoch 116/300\n",
      "6238/6238 [==============================] - 0s 78us/step - loss: 0.0638 - categorical_accuracy: 0.9777\n",
      "Epoch 117/300\n",
      "6238/6238 [==============================] - 0s 76us/step - loss: 0.0674 - categorical_accuracy: 0.9769\n"
     ]
    }
   ],
   "source": [
    "model.fit(X_train, y_train, epochs=300, batch_size=128)"
   ]
  },
  {
   "cell_type": "code",
   "execution_count": null,
   "metadata": {},
   "outputs": [],
   "source": [
    "model.evaluate(X_test, y_test)"
   ]
  },
  {
   "cell_type": "code",
   "execution_count": null,
   "metadata": {},
   "outputs": [],
   "source": [
    "np.random.seed(0)\n",
    "X_test_masked = X_test * [1 if np.random.rand() < 1 - 0.25 else 0 for _ in range(57)]\n",
    "\n",
    "model.evaluate(X_test_masked, y_test)"
   ]
  },
  {
   "cell_type": "code",
   "execution_count": null,
   "metadata": {},
   "outputs": [],
   "source": []
  }
 ],
 "metadata": {
  "kernelspec": {
   "display_name": "Python 3",
   "language": "python",
   "name": "python3"
  },
  "language_info": {
   "codemirror_mode": {
    "name": "ipython",
    "version": 3
   },
   "file_extension": ".py",
   "mimetype": "text/x-python",
   "name": "python",
   "nbconvert_exporter": "python",
   "pygments_lexer": "ipython3",
   "version": "3.6.5"
  }
 },
 "nbformat": 4,
 "nbformat_minor": 2
}
