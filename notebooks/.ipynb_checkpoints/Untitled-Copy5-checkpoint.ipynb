{
 "cells": [
  {
   "cell_type": "code",
   "execution_count": 1,
   "metadata": {},
   "outputs": [],
   "source": [
    "%load_ext autoreload"
   ]
  },
  {
   "cell_type": "code",
   "execution_count": 2,
   "metadata": {},
   "outputs": [],
   "source": [
    "%autoreload 2"
   ]
  },
  {
   "cell_type": "code",
   "execution_count": 3,
   "metadata": {},
   "outputs": [
    {
     "name": "stderr",
     "output_type": "stream",
     "text": [
      "Using TensorFlow backend.\n"
     ]
    }
   ],
   "source": [
    "import tensorflow as tf\n",
    "import numpy as np\n",
    "from sklearn.datasets import make_classification\n",
    "import keras \n",
    "import keras.backend as K\n",
    "import innvestigate\n",
    "from keras.models import Model"
   ]
  },
  {
   "cell_type": "code",
   "execution_count": 4,
   "metadata": {},
   "outputs": [],
   "source": [
    "X, y = make_classification(n_samples=5000, n_features=64, n_informative=8, n_redundant=0, shuffle=False)"
   ]
  },
  {
   "cell_type": "code",
   "execution_count": 5,
   "metadata": {},
   "outputs": [],
   "source": [
    "from sklearn.preprocessing import OneHotEncoder"
   ]
  },
  {
   "cell_type": "code",
   "execution_count": 6,
   "metadata": {},
   "outputs": [
    {
     "name": "stderr",
     "output_type": "stream",
     "text": [
      "/home/chschrec/.local/share/virtualenvs/interpret-R0ok2QRq/lib/python3.6/site-packages/sklearn/preprocessing/_encoders.py:371: FutureWarning: The handling of integer data will change in version 0.22. Currently, the categories are determined based on the range [0, max(values)], while in the future they will be determined based on the unique values.\n",
      "If you want the future behaviour and silence this warning, you can specify \"categories='auto'\".\n",
      "In case you used a LabelEncoder before this OneHotEncoder to convert the categories to integers, then you can now use the OneHotEncoder directly.\n",
      "  warnings.warn(msg, FutureWarning)\n"
     ]
    }
   ],
   "source": [
    "le = OneHotEncoder()\n",
    "\n",
    "le = le.fit(y.reshape(-1,1))\n",
    "y_bin = le.transform(y.reshape(-1,1))"
   ]
  },
  {
   "cell_type": "code",
   "execution_count": 7,
   "metadata": {},
   "outputs": [],
   "source": [
    "def cut_last_layer(model, n=1):\n",
    "    return Model(inputs=model.inputs, outputs=model.layers[-1-n].output)\n"
   ]
  },
  {
   "cell_type": "code",
   "execution_count": 27,
   "metadata": {},
   "outputs": [],
   "source": [
    "model = keras.Sequential(layers=[\n",
    "    #keras.layers.Dropout(rate=0.2, input_shape=(64,)),\n",
    "    keras.layers.Dense(units=32, activation=keras.activations.relu),\n",
    "    keras.layers.Dense(units=16, activation=keras.activations.relu),\n",
    "    keras.layers.Dense(units=2, activation=keras.activations.softmax)\n",
    "])\n"
   ]
  },
  {
   "cell_type": "code",
   "execution_count": 28,
   "metadata": {},
   "outputs": [],
   "source": [
    "model.compile(optimizer='Adam',\n",
    "              loss=keras.losses.categorical_crossentropy,\n",
    "              metrics=[keras.metrics.categorical_accuracy])"
   ]
  },
  {
   "cell_type": "code",
   "execution_count": 10,
   "metadata": {},
   "outputs": [],
   "source": [
    "X_train = X[:4000]"
   ]
  },
  {
   "cell_type": "code",
   "execution_count": 11,
   "metadata": {},
   "outputs": [],
   "source": [
    "X_test = X[4000:]"
   ]
  },
  {
   "cell_type": "code",
   "execution_count": 12,
   "metadata": {},
   "outputs": [],
   "source": [
    "y_train = y_bin.todense()[:4000]"
   ]
  },
  {
   "cell_type": "code",
   "execution_count": 13,
   "metadata": {},
   "outputs": [],
   "source": [
    "y_test = y_bin.todense()[4000:]"
   ]
  },
  {
   "cell_type": "code",
   "execution_count": 29,
   "metadata": {
    "scrolled": true
   },
   "outputs": [
    {
     "name": "stdout",
     "output_type": "stream",
     "text": [
      "Epoch 1/30\n",
      "4000/4000 [==============================] - 1s 130us/step - loss: 0.6798 - categorical_accuracy: 0.6690\n",
      "Epoch 2/30\n",
      "4000/4000 [==============================] - 0s 34us/step - loss: 0.4875 - categorical_accuracy: 0.8007\n",
      "Epoch 3/30\n",
      "4000/4000 [==============================] - 0s 29us/step - loss: 0.3854 - categorical_accuracy: 0.8550\n",
      "Epoch 4/30\n",
      "4000/4000 [==============================] - 0s 30us/step - loss: 0.3200 - categorical_accuracy: 0.8838\n",
      "Epoch 5/30\n",
      "4000/4000 [==============================] - 0s 31us/step - loss: 0.2809 - categorical_accuracy: 0.8985\n",
      "Epoch 6/30\n",
      "4000/4000 [==============================] - 0s 31us/step - loss: 0.2547 - categorical_accuracy: 0.9113\n",
      "Epoch 7/30\n",
      "4000/4000 [==============================] - 0s 30us/step - loss: 0.2354 - categorical_accuracy: 0.9173\n",
      "Epoch 8/30\n",
      "4000/4000 [==============================] - 0s 30us/step - loss: 0.2183 - categorical_accuracy: 0.9248\n",
      "Epoch 9/30\n",
      "4000/4000 [==============================] - 0s 30us/step - loss: 0.2033 - categorical_accuracy: 0.9290\n",
      "Epoch 10/30\n",
      "4000/4000 [==============================] - 0s 30us/step - loss: 0.1900 - categorical_accuracy: 0.9333\n",
      "Epoch 11/30\n",
      "4000/4000 [==============================] - 0s 32us/step - loss: 0.1775 - categorical_accuracy: 0.9368\n",
      "Epoch 12/30\n",
      "4000/4000 [==============================] - 0s 30us/step - loss: 0.1650 - categorical_accuracy: 0.9417\n",
      "Epoch 13/30\n",
      "4000/4000 [==============================] - 0s 32us/step - loss: 0.1526 - categorical_accuracy: 0.9477\n",
      "Epoch 14/30\n",
      "4000/4000 [==============================] - 0s 32us/step - loss: 0.1418 - categorical_accuracy: 0.9540\n",
      "Epoch 15/30\n",
      "4000/4000 [==============================] - 0s 33us/step - loss: 0.1314 - categorical_accuracy: 0.9597\n",
      "Epoch 16/30\n",
      "4000/4000 [==============================] - 0s 33us/step - loss: 0.1215 - categorical_accuracy: 0.9665\n",
      "Epoch 17/30\n",
      "4000/4000 [==============================] - 0s 35us/step - loss: 0.1130 - categorical_accuracy: 0.9698\n",
      "Epoch 18/30\n",
      "4000/4000 [==============================] - 0s 37us/step - loss: 0.1056 - categorical_accuracy: 0.9715\n",
      "Epoch 19/30\n",
      "4000/4000 [==============================] - 0s 38us/step - loss: 0.0984 - categorical_accuracy: 0.9755\n",
      "Epoch 20/30\n",
      "4000/4000 [==============================] - 0s 31us/step - loss: 0.0918 - categorical_accuracy: 0.9783\n",
      "Epoch 21/30\n",
      "4000/4000 [==============================] - 0s 31us/step - loss: 0.0857 - categorical_accuracy: 0.9792\n",
      "Epoch 22/30\n",
      "4000/4000 [==============================] - 0s 41us/step - loss: 0.0804 - categorical_accuracy: 0.9800\n",
      "Epoch 23/30\n",
      "4000/4000 [==============================] - 0s 36us/step - loss: 0.0749 - categorical_accuracy: 0.9818\n",
      "Epoch 24/30\n",
      "4000/4000 [==============================] - 0s 36us/step - loss: 0.0707 - categorical_accuracy: 0.9835\n",
      "Epoch 25/30\n",
      "4000/4000 [==============================] - 0s 36us/step - loss: 0.0661 - categorical_accuracy: 0.9843\n",
      "Epoch 26/30\n",
      "4000/4000 [==============================] - 0s 33us/step - loss: 0.0626 - categorical_accuracy: 0.9850\n",
      "Epoch 27/30\n",
      "4000/4000 [==============================] - 0s 36us/step - loss: 0.0581 - categorical_accuracy: 0.9855\n",
      "Epoch 28/30\n",
      "4000/4000 [==============================] - 0s 35us/step - loss: 0.0542 - categorical_accuracy: 0.9880\n",
      "Epoch 29/30\n",
      "4000/4000 [==============================] - 0s 38us/step - loss: 0.0505 - categorical_accuracy: 0.9880\n",
      "Epoch 30/30\n",
      "4000/4000 [==============================] - 0s 40us/step - loss: 0.0471 - categorical_accuracy: 0.9892\n"
     ]
    },
    {
     "data": {
      "text/plain": [
       "<keras.callbacks.History at 0x7f06c417c7b8>"
      ]
     },
     "execution_count": 29,
     "metadata": {},
     "output_type": "execute_result"
    }
   ],
   "source": [
    "model.fit(X_train, y_train, epochs=30, batch_size=128)"
   ]
  },
  {
   "cell_type": "code",
   "execution_count": 36,
   "metadata": {},
   "outputs": [],
   "source": [
    "new_model = innvestigate.utils.model_wo_softmax(model)"
   ]
  },
  {
   "cell_type": "code",
   "execution_count": 16,
   "metadata": {},
   "outputs": [],
   "source": [
    "a = innvestigate.analyzer.relevance_based.relevance_analyzer.LRPAlpha1Beta0(new_model, neuron_selection_mode='index')"
   ]
  },
  {
   "cell_type": "code",
   "execution_count": 76,
   "metadata": {},
   "outputs": [],
   "source": [
    "analysis_n0 = a.analyze(X_test, 0)\n",
    "analysis_n1 = a.analyze(X_test, 1)"
   ]
  },
  {
   "cell_type": "code",
   "execution_count": 80,
   "metadata": {},
   "outputs": [
    {
     "data": {
      "text/plain": [
       "array([359.06384, 912.45526, 202.21404, 125.46724, 210.218  , 163.81822,\n",
       "       197.5632 , 178.98962, 175.97333, 190.84613, 235.2155 , 229.51964,\n",
       "       199.56885, 219.28465, 140.60507, 141.37297], dtype=float32)"
      ]
     },
     "execution_count": 80,
     "metadata": {},
     "output_type": "execute_result"
    }
   ],
   "source": [
    "np.sum(np.abs(analysis_n0), axis=0)"
   ]
  },
  {
   "cell_type": "code",
   "execution_count": 79,
   "metadata": {},
   "outputs": [
    {
     "data": {
      "text/plain": [
       "array([182.56732 , 483.38803 ,  90.52731 ,  38.686573,  85.86376 ,\n",
       "        70.81913 ,  78.69268 ,  65.55648 ,  71.49202 ,  83.01515 ,\n",
       "        93.287415,  87.41766 ,  90.61343 ,  76.45172 ,  64.11714 ,\n",
       "        59.97343 ], dtype=float32)"
      ]
     },
     "execution_count": 79,
     "metadata": {},
     "output_type": "execute_result"
    }
   ],
   "source": [
    "np.sum(np.abs(analysis_n1), axis=0)"
   ]
  },
  {
   "cell_type": "code",
   "execution_count": 26,
   "metadata": {},
   "outputs": [
    {
     "data": {
      "text/plain": [
       "array([ 99.339554, 140.14102 ,  96.515594, 139.5579  , 124.68625 ,\n",
       "       139.09119 , 113.11871 , 149.26859 ,  83.30373 , 124.18385 ,\n",
       "       124.54954 , 149.53291 , 103.107574, 138.25873 , 166.87585 ,\n",
       "        78.31903 , 119.147316,  83.98619 , 117.44177 , 109.08168 ,\n",
       "       143.58737 , 110.34688 , 127.975266, 105.47957 , 131.32751 ,\n",
       "        99.38975 , 139.80046 , 299.96362 , 151.81097 , 122.50618 ,\n",
       "       104.439224, 108.18065 , 499.69598 , 127.15139 , 141.4978  ,\n",
       "       296.97452 , 123.133316, 106.046425, 113.658005, 112.66585 ,\n",
       "       148.85075 ,  97.67736 , 137.21814 , 125.38243 , 130.81549 ,\n",
       "       129.20818 , 100.69293 , 106.9875  , 124.96744 ,  91.64963 ,\n",
       "       122.73762 , 157.88995 ,  97.26775 ,  89.47073 , 128.26608 ,\n",
       "       103.01664 , 145.90744 ,  99.15196 , 115.18309 , 146.1477  ,\n",
       "        85.938255, 128.76228 ,  91.09634 ,  96.15109 ], dtype=float32)"
      ]
     },
     "execution_count": 26,
     "metadata": {},
     "output_type": "execute_result"
    }
   ],
   "source": [
    "(np.sum(np.abs(analysis_n0), axis=0) + np.sum(np.abs(analysis_n1), axis=0))"
   ]
  },
  {
   "cell_type": "code",
   "execution_count": 27,
   "metadata": {},
   "outputs": [
    {
     "data": {
      "text/plain": [
       "array([15,  8, 17, 60, 53, 62, 49, 63,  2, 52, 41, 57,  0, 25, 46, 55, 12,\n",
       "       30, 23, 37, 47, 31, 19, 21, 39,  6, 38, 58, 18, 16, 29, 50, 36,  9,\n",
       "       10,  4, 48, 43, 33, 22, 54, 61, 45, 44, 24, 42, 13,  5,  3, 26,  1,\n",
       "       34, 20, 56, 59, 40,  7, 11, 28, 51, 14, 35, 27, 32])"
      ]
     },
     "execution_count": 27,
     "metadata": {},
     "output_type": "execute_result"
    }
   ],
   "source": [
    "np.argsort((np.sum(np.abs(analysis_n0), axis=0) + np.sum(np.abs(analysis_n1), axis=0)))"
   ]
  },
  {
   "cell_type": "code",
   "execution_count": null,
   "metadata": {},
   "outputs": [],
   "source": [
    "a1 = innvestigate.analyzer.relevance_based.relevance_analyzer.LRPAlpha1Beta0(cut_last_layer(model), neuron_selection_mode='index')"
   ]
  },
  {
   "cell_type": "code",
   "execution_count": null,
   "metadata": {},
   "outputs": [],
   "source": [
    "a1.analyze(X_test, 2)[0]"
   ]
  },
  {
   "cell_type": "code",
   "execution_count": null,
   "metadata": {},
   "outputs": [],
   "source": [
    "a2 = innvestigate.analyzer.relevance_based.relevance_analyzer.LRPAlpha1Beta0(cut_last_layer(model, n=2), neuron_selection_mode='index')"
   ]
  },
  {
   "cell_type": "code",
   "execution_count": null,
   "metadata": {
    "scrolled": false
   },
   "outputs": [],
   "source": [
    "count = 0\n",
    "for arr in a2.analyze(X_test, 31):\n",
    "    if np.sum(arr) == 0:\n",
    "        count+=1\n",
    "\n",
    "print(count)"
   ]
  },
  {
   "cell_type": "code",
   "execution_count": null,
   "metadata": {},
   "outputs": [],
   "source": [
    "np.sum(a2.analyze(X_test, 31), axis=0)"
   ]
  },
  {
   "cell_type": "code",
   "execution_count": 28,
   "metadata": {},
   "outputs": [
    {
     "data": {
      "text/plain": [
       "array([ 24.198978 ,   5.4330654,  18.353344 ,  20.21186  , 147.38112  ,\n",
       "        21.705736 ,  19.620811 ,   1.3526926, 226.99542  ,  17.773066 ,\n",
       "        13.492573 ,  48.89484  ,  16.189135 ,  17.801525 ,  62.233307 ,\n",
       "        21.422846 ,  20.286646 ,  22.040644 ,  18.90143  ,   4.624758 ,\n",
       "        13.392555 ,  17.78278  ,  21.225489 ,  11.659458 ,  98.71338  ,\n",
       "        15.310058 ,   8.918158 ,   8.277944 ,  16.667187 ,  17.214766 ,\n",
       "        47.25463  ,  16.840668 ,  10.165367 ,  26.659868 ,  14.637087 ,\n",
       "        19.321383 ,  18.544174 ,   3.6446671,  11.676939 ,  22.426533 ,\n",
       "        19.399498 ,  16.564007 ,  17.04478  ,  12.790912 ,  27.558489 ,\n",
       "        21.002686 ,  13.666864 ,  15.740488 ,  29.78971  ,  10.3110285,\n",
       "         4.7441134,  21.16869  ,  12.333801 , 157.04886  ,  18.348265 ,\n",
       "         9.556163 ,  19.191208 ,  23.25707  ,  14.356097 ,  79.90362  ,\n",
       "         9.877087 ,  67.065315 ,  23.308184 ,  15.463832 ], dtype=float32)"
      ]
     },
     "execution_count": 28,
     "metadata": {},
     "output_type": "execute_result"
    }
   ],
   "source": [
    "(np.sum(a.analyze(X_test, 0), axis=0))"
   ]
  },
  {
   "cell_type": "code",
   "execution_count": null,
   "metadata": {},
   "outputs": [],
   "source": [
    "np.sum(a.analyze(X_test, 1)[0], axis=0)"
   ]
  },
  {
   "cell_type": "code",
   "execution_count": null,
   "metadata": {},
   "outputs": [],
   "source": [
    "a.analyze(X_test, 1)[0]"
   ]
  },
  {
   "cell_type": "code",
   "execution_count": 37,
   "metadata": {},
   "outputs": [],
   "source": [
    "dt_analysis = innvestigate.analyzer.DeepTaylor(new_model, neuron_selection_mode='index')"
   ]
  },
  {
   "cell_type": "code",
   "execution_count": 38,
   "metadata": {},
   "outputs": [],
   "source": [
    "res_n0 = dt_analysis.analyze(X_test[np.asarray(y_test[:,0] == 1).reshape(1000)], 1)"
   ]
  },
  {
   "cell_type": "code",
   "execution_count": 74,
   "metadata": {},
   "outputs": [
    {
     "data": {
      "text/plain": [
       "array([0.5884302 , 4.1642203 , 0.53397393, 0.12489966, 0.17320484,\n",
       "       0.29060334, 0.37110013, 0.33086884, 0.03110393, 0.20964508,\n",
       "       0.2124901 , 0.32885295, 0.44075388, 0.46450096, 0.2945367 ,\n",
       "       0.3022653 ], dtype=float32)"
      ]
     },
     "execution_count": 74,
     "metadata": {},
     "output_type": "execute_result"
    }
   ],
   "source": [
    "np.sum(res_n0, axis=0)"
   ]
  },
  {
   "cell_type": "code",
   "execution_count": 69,
   "metadata": {},
   "outputs": [
    {
     "data": {
      "text/plain": [
       "array([[ 2.81776381,  1.14494611, -0.43716025, ...,  0.01166994,\n",
       "         0.49618419, -0.84541549],\n",
       "       [-0.56113835, -2.04683639,  1.50387699, ...,  1.06602879,\n",
       "         0.59907378, -0.91454125],\n",
       "       [ 0.3676762 ,  0.30938325,  0.31790342, ...,  0.84448119,\n",
       "         0.43929896, -0.15437855],\n",
       "       ...,\n",
       "       [ 2.00269476, -1.16201906, -0.13187375, ..., -0.40881691,\n",
       "        -0.45981859, -0.28527456],\n",
       "       [-0.91613436, -0.89379655, -0.6858576 , ..., -0.85685856,\n",
       "         0.81398013, -1.41128751],\n",
       "       [ 0.81761772, -0.66103599, -0.73146746, ..., -3.83618185,\n",
       "        -1.13414511,  0.28349711]])"
      ]
     },
     "execution_count": 69,
     "metadata": {},
     "output_type": "execute_result"
    }
   ],
   "source": [
    "X_test[np.asarray(y_test[:,0] == 1).reshape(4000)]"
   ]
  },
  {
   "cell_type": "code",
   "execution_count": 34,
   "metadata": {},
   "outputs": [
    {
     "data": {
      "text/plain": [
       "1990"
      ]
     },
     "execution_count": 34,
     "metadata": {},
     "output_type": "execute_result"
    }
   ],
   "source": [
    "count = 0\n",
    "for val in np.asarray(y_test[:,0] == 1).reshape(4000):\n",
    "    if not val:\n",
    "        count +=1\n",
    "        \n",
    "count"
   ]
  },
  {
   "cell_type": "code",
   "execution_count": 42,
   "metadata": {},
   "outputs": [
    {
     "data": {
      "image/png": "[encoded data removed]",
      "text/plain": [
       "<Figure size 432x288 with 1 Axes>"
      ]
     },
     "metadata": {
      "needs_background": "light"
     },
     "output_type": "display_data"
    }
   ],
   "source": [
    "import matplotlib.pyplot as plt\n",
    "from sklearn.ensemble import ExtraTreesClassifier\n",
    "\n",
    "\n",
    "# Build a forest and compute the feature importances\n",
    "forest = ExtraTreesClassifier(n_estimators=500,\n",
    "                              random_state=1)\n",
    "\n",
    "forest.fit(X_train, y_train)\n",
    "importances = forest.feature_importances_\n",
    "std = np.std([tree.feature_importances_ for tree in forest.estimators_],\n",
    "             axis=0)\n",
    "indices = np.argsort(importances)[::-1]\n",
    "\n",
    "# Print the feature ranking\n",
    "#print(\"Feature ranking:\")\n",
    "\n",
    "\n",
    "# Plot the feature importances of the forest\n",
    "plt.figure()\n",
    "plt.title(\"Feature importances\")\n",
    "plt.bar(range(16), importances[indices][:16],\n",
    "       color=\"r\", align=\"center\")\n",
    "plt.xticks(range(16), indices)\n",
    "plt.xlim([-1, 16])\n",
    "plt.show()\n"
   ]
  },
  {
   "cell_type": "code",
   "execution_count": null,
   "metadata": {},
   "outputs": [],
   "source": []
  },
  {
   "cell_type": "code",
   "execution_count": 26,
   "metadata": {},
   "outputs": [
    {
     "data": {
      "image/png": "[encoded data removed]",
      "text/plain": [
       "<Figure size 432x288 with 1 Axes>"
      ]
     },
     "metadata": {
      "needs_background": "light"
     },
     "output_type": "display_data"
    }
   ],
   "source": [
    "summed_res = np.sum(res_n0, axis=0)\n",
    "norm_summed_res = summed_res/np.sum(summed_res)\n",
    "\n",
    "indices = np.argsort(norm_summed_res)[::-1]\n",
    "\n",
    "plt.figure()\n",
    "plt.title(\"Feature importances\")\n",
    "\n",
    "plt.bar(range(16), norm_summed_res[indices][:16],\n",
    "       color=\"r\", align=\"center\")\n",
    "plt.xticks(range(16), indices)\n",
    "plt.xlim([-1, 16])\n",
    "plt.show()"
   ]
  },
  {
   "cell_type": "code",
   "execution_count": 45,
   "metadata": {},
   "outputs": [
    {
     "data": {
      "image/png": "[encoded data removed]",
      "text/plain": [
       "<Figure size 432x288 with 1 Axes>"
      ]
     },
     "metadata": {
      "needs_background": "light"
     },
     "output_type": "display_data"
    }
   ],
   "source": [
    "summed_res = np.sum(res_n0, axis=0)\n",
    "norm_summed_res = summed_res/np.sum(summed_res)\n",
    "\n",
    "indices = np.argsort(norm_summed_res)[::-1]\n",
    "\n",
    "plt.figure()\n",
    "plt.title(\"Feature importances\")\n",
    "\n",
    "plt.bar(range(16), norm_summed_res[:16],\n",
    "       color=\"r\", align=\"center\")\n",
    "plt.xticks(range(16))\n",
    "plt.xlim()\n",
    "plt.show()"
   ]
  },
  {
   "cell_type": "code",
   "execution_count": 39,
   "metadata": {},
   "outputs": [
    {
     "data": {
      "image/png": "[encoded data removed]",
      "text/plain": [
       "<Figure size 432x288 with 1 Axes>"
      ]
     },
     "metadata": {
      "needs_background": "light"
     },
     "output_type": "display_data"
    }
   ],
   "source": [
    "summed_res = np.sum(res_n0, axis=0)\n",
    "norm_summed_res = summed_res/np.sum(summed_res)\n",
    "\n",
    "indices = np.argsort(norm_summed_res)[::-1]\n",
    "\n",
    "plt.figure()\n",
    "plt.title(\"Feature importances\")\n",
    "\n",
    "plt.bar(range(16), norm_summed_res[indices][:16],\n",
    "       color=\"r\", align=\"center\")\n",
    "plt.xticks(range(16), indices)\n",
    "plt.xlim([-1, 16])\n",
    "plt.show()"
   ]
  },
  {
   "cell_type": "code",
   "execution_count": 82,
   "metadata": {},
   "outputs": [
    {
     "data": {
      "text/plain": [
       "16"
      ]
     },
     "execution_count": 82,
     "metadata": {},
     "output_type": "execute_result"
    }
   ],
   "source": [
    "res_n0.shape[1]"
   ]
  },
  {
   "cell_type": "code",
   "execution_count": 90,
   "metadata": {},
   "outputs": [],
   "source": [
    "from sklearn.preprocessing import Normalizer"
   ]
  },
  {
   "cell_type": "code",
   "execution_count": 92,
   "metadata": {},
   "outputs": [
    {
     "data": {
      "text/plain": [
       "array([0.14130622, 1.        , 0.12822904, 0.02999353, 0.04159358,\n",
       "       0.06978577, 0.08911635, 0.07945517, 0.00746933, 0.05034438,\n",
       "       0.05102758, 0.07897107, 0.10584307, 0.11154572, 0.07073034,\n",
       "       0.07258628], dtype=float32)"
      ]
     },
     "execution_count": 92,
     "metadata": {},
     "output_type": "execute_result"
    }
   ],
   "source": [
    "\n",
    "norm_summed_res"
   ]
  },
  {
   "cell_type": "code",
   "execution_count": 48,
   "metadata": {},
   "outputs": [],
   "source": [
    "res_n0 = dt_analysis.analyze(X_test, 0)"
   ]
  },
  {
   "cell_type": "code",
   "execution_count": 49,
   "metadata": {},
   "outputs": [],
   "source": [
    "res_n1 = dt_analysis.analyze(X_test, 1)"
   ]
  },
  {
   "cell_type": "code",
   "execution_count": 50,
   "metadata": {},
   "outputs": [],
   "source": [
    "res_comb = res_n1 + res_n0"
   ]
  },
  {
   "cell_type": "code",
   "execution_count": 51,
   "metadata": {},
   "outputs": [
    {
     "data": {
      "image/png": "[encoded data removed]",
      "text/plain": [
       "<Figure size 432x288 with 1 Axes>"
      ]
     },
     "metadata": {
      "needs_background": "light"
     },
     "output_type": "display_data"
    }
   ],
   "source": [
    "summed_res = np.sum(res_comb, axis=0)\n",
    "norm_summed_res = summed_res/np.sum(summed_res)\n",
    "\n",
    "indices = np.argsort(norm_summed_res)[::-1]\n",
    "\n",
    "plt.figure()\n",
    "plt.title(\"Feature importances\")\n",
    "\n",
    "plt.bar(range(16), norm_summed_res[indices][:16],\n",
    "       color=\"r\", align=\"center\")\n",
    "plt.xticks(range(16), indices)\n",
    "plt.xlim([-1, 16])\n",
    "plt.show()"
   ]
  }
 ],
 "metadata": {
  "kernelspec": {
   "display_name": "Python 3",
   "language": "python",
   "name": "python3"
  },
  "language_info": {
   "codemirror_mode": {
    "name": "ipython",
    "version": 3
   },
   "file_extension": ".py",
   "mimetype": "text/x-python",
   "name": "python",
   "nbconvert_exporter": "python",
   "pygments_lexer": "ipython3",
   "version": "3.6.5"
  }
 },
 "nbformat": 4,
 "nbformat_minor": 2
}
