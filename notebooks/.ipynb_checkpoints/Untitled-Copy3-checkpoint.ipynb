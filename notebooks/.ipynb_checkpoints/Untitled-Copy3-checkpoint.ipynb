{
 "cells": [
  {
   "cell_type": "code",
   "execution_count": 1,
   "metadata": {},
   "outputs": [],
   "source": [
    "%load_ext autoreload"
   ]
  },
  {
   "cell_type": "code",
   "execution_count": 2,
   "metadata": {},
   "outputs": [],
   "source": [
    "%autoreload 2"
   ]
  },
  {
   "cell_type": "code",
   "execution_count": 3,
   "metadata": {},
   "outputs": [
    {
     "name": "stderr",
     "output_type": "stream",
     "text": [
      "Using TensorFlow backend.\n"
     ]
    }
   ],
   "source": [
    "import tensorflow as tf\n",
    "import numpy as np\n",
    "from sklearn.datasets import make_classification\n",
    "import keras \n",
    "import keras.backend as K\n",
    "import innvestigate\n",
    "from keras.models import Model"
   ]
  },
  {
   "cell_type": "code",
   "execution_count": 36,
   "metadata": {},
   "outputs": [],
   "source": [
    "X, y = make_classification(n_samples=5000, n_features=64, n_informative=2, n_redundant=0)"
   ]
  },
  {
   "cell_type": "code",
   "execution_count": null,
   "metadata": {},
   "outputs": [],
   "source": [
    "#tf.enable_eager_execution()"
   ]
  },
  {
   "cell_type": "code",
   "execution_count": 6,
   "metadata": {},
   "outputs": [
    {
     "name": "stdout",
     "output_type": "stream",
     "text": [
      "WARNING:tensorflow:From /home/chschrec/.local/share/virtualenvs/interpret-R0ok2QRq/lib/python3.6/site-packages/tensorflow/python/framework/op_def_library.py:263: colocate_with (from tensorflow.python.framework.ops) is deprecated and will be removed in a future version.\n",
      "Instructions for updating:\n",
      "Colocations handled automatically by placer.\n"
     ]
    }
   ],
   "source": [
    "model = keras.Sequential([\n",
    "  keras.layers.core.Dense(32, activation=tf.nn.relu6, input_shape=(64,)),  # input shape required\n",
    "  keras.layers.Dense(16, activation=tf.nn.relu6),\n",
    "  keras.layers.Dense(2)\n",
    "])\n"
   ]
  },
  {
   "cell_type": "code",
   "execution_count": 7,
   "metadata": {},
   "outputs": [],
   "source": [
    "model.compile(optimizer=tf.train.RMSPropOptimizer(0.01),\n",
    "              loss=keras.losses.categorical_crossentropy,\n",
    "              metrics=[keras.metrics.categorical_accuracy])"
   ]
  },
  {
   "cell_type": "code",
   "execution_count": null,
   "metadata": {
    "scrolled": true
   },
   "outputs": [],
   "source": []
  },
  {
   "cell_type": "code",
   "execution_count": 8,
   "metadata": {},
   "outputs": [],
   "source": [
    "from sklearn.preprocessing import OneHotEncoder"
   ]
  },
  {
   "cell_type": "code",
   "execution_count": 9,
   "metadata": {},
   "outputs": [
    {
     "name": "stderr",
     "output_type": "stream",
     "text": [
      "/home/chschrec/.local/share/virtualenvs/interpret-R0ok2QRq/lib/python3.6/site-packages/sklearn/preprocessing/_encoders.py:371: FutureWarning: The handling of integer data will change in version 0.22. Currently, the categories are determined based on the range [0, max(values)], while in the future they will be determined based on the unique values.\n",
      "If you want the future behaviour and silence this warning, you can specify \"categories='auto'\".\n",
      "In case you used a LabelEncoder before this OneHotEncoder to convert the categories to integers, then you can now use the OneHotEncoder directly.\n",
      "  warnings.warn(msg, FutureWarning)\n"
     ]
    }
   ],
   "source": [
    "le = OneHotEncoder()\n",
    "\n",
    "le = le.fit(y.reshape(-1,1))\n",
    "y_bin = le.transform(y.reshape(-1,1))"
   ]
  },
  {
   "cell_type": "code",
   "execution_count": 10,
   "metadata": {},
   "outputs": [
    {
     "data": {
      "text/plain": [
       "matrix([[1., 0.],\n",
       "        [1., 0.],\n",
       "        [0., 1.],\n",
       "        ...,\n",
       "        [0., 1.],\n",
       "        [0., 1.],\n",
       "        [0., 1.]])"
      ]
     },
     "execution_count": 10,
     "metadata": {},
     "output_type": "execute_result"
    }
   ],
   "source": [
    "y_bin.todense()"
   ]
  },
  {
   "cell_type": "code",
   "execution_count": null,
   "metadata": {},
   "outputs": [],
   "source": []
  },
  {
   "cell_type": "code",
   "execution_count": 11,
   "metadata": {
    "scrolled": true
   },
   "outputs": [
    {
     "name": "stdout",
     "output_type": "stream",
     "text": [
      "WARNING:tensorflow:From /home/chschrec/.local/share/virtualenvs/interpret-R0ok2QRq/lib/python3.6/site-packages/tensorflow/python/ops/math_ops.py:3066: to_int32 (from tensorflow.python.ops.math_ops) is deprecated and will be removed in a future version.\n",
      "Instructions for updating:\n",
      "Use tf.cast instead.\n",
      "Epoch 1/30\n",
      "5000/5000 [==============================] - 1s 164us/step - loss: 0.8619 - categorical_accuracy: 0.7326\n",
      "Epoch 2/30\n",
      "5000/5000 [==============================] - 0s 99us/step - loss: 0.4474 - categorical_accuracy: 0.8768\n",
      "Epoch 3/30\n",
      "5000/5000 [==============================] - 0s 98us/step - loss: 0.4124 - categorical_accuracy: 0.8908\n",
      "Epoch 4/30\n",
      "5000/5000 [==============================] - 0s 71us/step - loss: 0.3311 - categorical_accuracy: 0.9066\n",
      "Epoch 5/30\n",
      "5000/5000 [==============================] - 0s 71us/step - loss: 0.3403 - categorical_accuracy: 0.9116\n",
      "Epoch 6/30\n",
      "5000/5000 [==============================] - 0s 65us/step - loss: 0.3441 - categorical_accuracy: 0.9138\n",
      "Epoch 7/30\n",
      "5000/5000 [==============================] - 0s 75us/step - loss: 0.3670 - categorical_accuracy: 0.9162\n",
      "Epoch 8/30\n",
      "5000/5000 [==============================] - 0s 68us/step - loss: 0.2989 - categorical_accuracy: 0.9212\n",
      "Epoch 9/30\n",
      "5000/5000 [==============================] - 0s 55us/step - loss: 0.4208 - categorical_accuracy: 0.9254\n",
      "Epoch 10/30\n",
      "5000/5000 [==============================] - 0s 54us/step - loss: 0.3423 - categorical_accuracy: 0.9312\n",
      "Epoch 11/30\n",
      "5000/5000 [==============================] - ETA: 0s - loss: 0.3083 - categorical_accuracy: 0.93 - 0s 82us/step - loss: 0.3074 - categorical_accuracy: 0.9328\n",
      "Epoch 12/30\n",
      "5000/5000 [==============================] - 0s 65us/step - loss: 0.4184 - categorical_accuracy: 0.9360\n",
      "Epoch 13/30\n",
      "5000/5000 [==============================] - 0s 67us/step - loss: 0.9369 - categorical_accuracy: 0.9122\n",
      "Epoch 14/30\n",
      "5000/5000 [==============================] - 0s 74us/step - loss: 1.8088 - categorical_accuracy: 0.5156\n",
      "Epoch 15/30\n",
      "5000/5000 [==============================] - 0s 63us/step - loss: 1.3053 - categorical_accuracy: 0.5644\n",
      "Epoch 16/30\n",
      "5000/5000 [==============================] - 0s 99us/step - loss: 1.0888 - categorical_accuracy: 0.7326\n",
      "Epoch 17/30\n",
      "5000/5000 [==============================] - 1s 151us/step - loss: 1.0111 - categorical_accuracy: 0.7174\n",
      "Epoch 18/30\n",
      "5000/5000 [==============================] - 0s 100us/step - loss: 0.9581 - categorical_accuracy: 0.6962\n",
      "Epoch 19/30\n",
      "5000/5000 [==============================] - 0s 89us/step - loss: 1.1742 - categorical_accuracy: 0.4896\n",
      "Epoch 20/30\n",
      "5000/5000 [==============================] - 0s 85us/step - loss: 1.1973 - categorical_accuracy: 0.3842\n",
      "Epoch 21/30\n",
      "5000/5000 [==============================] - 0s 87us/step - loss: 1.4171 - categorical_accuracy: 0.6936\n",
      "Epoch 22/30\n",
      "5000/5000 [==============================] - 0s 94us/step - loss: 0.3966 - categorical_accuracy: 0.9162\n",
      "Epoch 23/30\n",
      "5000/5000 [==============================] - 0s 86us/step - loss: 0.4541 - categorical_accuracy: 0.9282\n",
      "Epoch 24/30\n",
      "5000/5000 [==============================] - 0s 91us/step - loss: 0.5124 - categorical_accuracy: 0.9366\n",
      "Epoch 25/30\n",
      "5000/5000 [==============================] - 0s 92us/step - loss: 0.4604 - categorical_accuracy: 0.9368\n",
      "Epoch 26/30\n",
      "5000/5000 [==============================] - 0s 90us/step - loss: 0.6594 - categorical_accuracy: 0.9414\n",
      "Epoch 27/30\n",
      "5000/5000 [==============================] - 0s 95us/step - loss: 0.4256 - categorical_accuracy: 0.9444 0s - loss: 0.3577 - categorical_ac\n",
      "Epoch 28/30\n",
      "5000/5000 [==============================] - 0s 93us/step - loss: 0.3841 - categorical_accuracy: 0.9496\n",
      "Epoch 29/30\n",
      "5000/5000 [==============================] - 0s 92us/step - loss: 0.3356 - categorical_accuracy: 0.9540\n",
      "Epoch 30/30\n",
      "5000/5000 [==============================] - 1s 101us/step - loss: 0.3414 - categorical_accuracy: 0.9556\n"
     ]
    },
    {
     "data": {
      "text/plain": [
       "<keras.callbacks.History at 0x7fb0cc3c5668>"
      ]
     },
     "execution_count": 11,
     "metadata": {},
     "output_type": "execute_result"
    }
   ],
   "source": [
    "model.fit(X,y_bin.todense(), epochs=30)"
   ]
  },
  {
   "cell_type": "code",
   "execution_count": 12,
   "metadata": {},
   "outputs": [
    {
     "data": {
      "text/plain": [
       "array([[ 26.553017  ,  -0.11726761],\n",
       "       [ 16.499054  ,  -0.29112816],\n",
       "       [-19.685236  ,  32.856075  ],\n",
       "       ...,\n",
       "       [-24.725113  ,  37.81011   ],\n",
       "       [-22.245586  ,  35.74237   ],\n",
       "       [ -4.581073  ,  11.869465  ]], dtype=float32)"
      ]
     },
     "execution_count": 12,
     "metadata": {},
     "output_type": "execute_result"
    }
   ],
   "source": [
    "model.predict(X)"
   ]
  },
  {
   "cell_type": "code",
   "execution_count": null,
   "metadata": {},
   "outputs": [],
   "source": []
  },
  {
   "cell_type": "code",
   "execution_count": 13,
   "metadata": {},
   "outputs": [],
   "source": [
    "analyzer = innvestigate.analyzer.relevance_based.relevance_analyzer.LRPAlpha1Beta0(model)"
   ]
  },
  {
   "cell_type": "code",
   "execution_count": 14,
   "metadata": {},
   "outputs": [
    {
     "ename": "SyntaxError",
     "evalue": "invalid syntax (<ipython-input-14-83d675d8cb4c>, line 1)",
     "output_type": "error",
     "traceback": [
      "\u001b[0;36m  File \u001b[0;32m\"<ipython-input-14-83d675d8cb4c>\"\u001b[0;36m, line \u001b[0;32m1\u001b[0m\n\u001b[0;31m    analyzer.\u001b[0m\n\u001b[0m             ^\u001b[0m\n\u001b[0;31mSyntaxError\u001b[0m\u001b[0;31m:\u001b[0m invalid syntax\n"
     ]
    }
   ],
   "source": []
  },
  {
   "cell_type": "code",
   "execution_count": null,
   "metadata": {},
   "outputs": [],
   "source": [
    "analysis = analyzer.analyze(X)"
   ]
  },
  {
   "cell_type": "code",
   "execution_count": null,
   "metadata": {},
   "outputs": [],
   "source": []
  },
  {
   "cell_type": "code",
   "execution_count": null,
   "metadata": {},
   "outputs": [],
   "source": [
    "X"
   ]
  },
  {
   "cell_type": "code",
   "execution_count": null,
   "metadata": {},
   "outputs": [],
   "source": [
    "np.mean(analysis, axis=0)"
   ]
  },
  {
   "cell_type": "code",
   "execution_count": null,
   "metadata": {},
   "outputs": [],
   "source": [
    "model.layers"
   ]
  },
  {
   "cell_type": "code",
   "execution_count": null,
   "metadata": {},
   "outputs": [],
   "source": [
    "analyzer.create_rule_mapping(model.layers[1], )"
   ]
  },
  {
   "cell_type": "code",
   "execution_count": 13,
   "metadata": {},
   "outputs": [],
   "source": [
    "def cut_last_layer(model, n=1):\n",
    "    return Model(inputs=model.inputs, outputs=model.layers[-1-n].output)\n"
   ]
  },
  {
   "cell_type": "code",
   "execution_count": null,
   "metadata": {},
   "outputs": [],
   "source": []
  },
  {
   "cell_type": "code",
   "execution_count": null,
   "metadata": {},
   "outputs": [],
   "source": []
  },
  {
   "cell_type": "code",
   "execution_count": null,
   "metadata": {},
   "outputs": [],
   "source": [
    "analyzer = innvestigate.create_analyzer(\"lrp.alpha_1_beta_0\", cut_last_layer(model, n=1), neuron_selection_mode=\"index\")"
   ]
  },
  {
   "cell_type": "code",
   "execution_count": null,
   "metadata": {},
   "outputs": [],
   "source": [
    "cut_model = cut_last_layer(model, n=1)"
   ]
  },
  {
   "cell_type": "code",
   "execution_count": null,
   "metadata": {},
   "outputs": [],
   "source": [
    "cut_model.compile(optimizer='adagrad').get_layers()"
   ]
  },
  {
   "cell_type": "code",
   "execution_count": null,
   "metadata": {},
   "outputs": [],
   "source": [
    "layer0 = model.layers[0]"
   ]
  },
  {
   "cell_type": "code",
   "execution_count": null,
   "metadata": {},
   "outputs": [],
   "source": [
    "layer0.get_weights()[0]"
   ]
  },
  {
   "cell_type": "code",
   "execution_count": null,
   "metadata": {},
   "outputs": [],
   "source": [
    "layer1.get_weights()[0]"
   ]
  },
  {
   "cell_type": "code",
   "execution_count": null,
   "metadata": {},
   "outputs": [],
   "source": []
  },
  {
   "cell_type": "code",
   "execution_count": null,
   "metadata": {},
   "outputs": [],
   "source": [
    "res = analyzer.analyze(X,31)"
   ]
  },
  {
   "cell_type": "code",
   "execution_count": null,
   "metadata": {},
   "outputs": [],
   "source": [
    "res"
   ]
  },
  {
   "cell_type": "code",
   "execution_count": null,
   "metadata": {},
   "outputs": [],
   "source": [
    "analysis[0]"
   ]
  },
  {
   "cell_type": "code",
   "execution_count": 37,
   "metadata": {},
   "outputs": [],
   "source": [
    "model = keras.Sequential(layers=[\n",
    "    keras.layers.Dense(units=32, activation=keras.activations.relu, input_shape=(64,)),\n",
    "    keras.layers.Dense(units=16, activation=keras.activations.relu),\n",
    "    keras.layers.Dense(units=2, activation=keras.activations.softmax)\n",
    "])\n"
   ]
  },
  {
   "cell_type": "code",
   "execution_count": 38,
   "metadata": {},
   "outputs": [],
   "source": [
    "model.compile(optimizer='Adam',\n",
    "              loss=keras.losses.categorical_crossentropy,\n",
    "              metrics=[keras.metrics.categorical_accuracy])"
   ]
  },
  {
   "cell_type": "code",
   "execution_count": 39,
   "metadata": {},
   "outputs": [],
   "source": [
    "X_train = X[:4000]"
   ]
  },
  {
   "cell_type": "code",
   "execution_count": 40,
   "metadata": {},
   "outputs": [],
   "source": [
    "X_test = X[4000:]"
   ]
  },
  {
   "cell_type": "code",
   "execution_count": 41,
   "metadata": {},
   "outputs": [],
   "source": [
    "y_train = y_bin.todense()[:4000]"
   ]
  },
  {
   "cell_type": "code",
   "execution_count": 42,
   "metadata": {},
   "outputs": [],
   "source": [
    "y_test = y_bin.todense()[4000:]"
   ]
  },
  {
   "cell_type": "code",
   "execution_count": 43,
   "metadata": {
    "scrolled": true
   },
   "outputs": [
    {
     "name": "stdout",
     "output_type": "stream",
     "text": [
      "Epoch 1/30\n",
      "4000/4000 [==============================] - 1s 236us/step - loss: 0.7589 - categorical_accuracy: 0.5005\n",
      "Epoch 2/30\n",
      "4000/4000 [==============================] - 0s 111us/step - loss: 0.6940 - categorical_accuracy: 0.5438\n",
      "Epoch 3/30\n",
      "4000/4000 [==============================] - 0s 107us/step - loss: 0.6759 - categorical_accuracy: 0.56830s - loss: 0.6765 - categorical_accuracy: 0.\n",
      "Epoch 4/30\n",
      "4000/4000 [==============================] - 0s 106us/step - loss: 0.6641 - categorical_accuracy: 0.5850\n",
      "Epoch 5/30\n",
      "4000/4000 [==============================] - 0s 103us/step - loss: 0.6536 - categorical_accuracy: 0.6020\n",
      "Epoch 6/30\n",
      "4000/4000 [==============================] - 0s 110us/step - loss: 0.6430 - categorical_accuracy: 0.6218\n",
      "Epoch 7/30\n",
      "4000/4000 [==============================] - 0s 122us/step - loss: 0.6321 - categorical_accuracy: 0.6328\n",
      "Epoch 8/30\n",
      "4000/4000 [==============================] - 0s 112us/step - loss: 0.6204 - categorical_accuracy: 0.6452\n",
      "Epoch 9/30\n",
      "4000/4000 [==============================] - 0s 110us/step - loss: 0.6080 - categorical_accuracy: 0.6625\n",
      "Epoch 10/30\n",
      "4000/4000 [==============================] - 0s 118us/step - loss: 0.5962 - categorical_accuracy: 0.6693\n",
      "Epoch 11/30\n",
      "4000/4000 [==============================] - 0s 125us/step - loss: 0.5831 - categorical_accuracy: 0.6930\n",
      "Epoch 12/30\n",
      "4000/4000 [==============================] - 0s 109us/step - loss: 0.5712 - categorical_accuracy: 0.6963\n",
      "Epoch 13/30\n",
      "4000/4000 [==============================] - 0s 122us/step - loss: 0.5565 - categorical_accuracy: 0.7117\n",
      "Epoch 14/30\n",
      "4000/4000 [==============================] - 1s 137us/step - loss: 0.5424 - categorical_accuracy: 0.7238\n",
      "Epoch 15/30\n",
      "4000/4000 [==============================] - 0s 121us/step - loss: 0.5297 - categorical_accuracy: 0.7362\n",
      "Epoch 16/30\n",
      "4000/4000 [==============================] - 1s 139us/step - loss: 0.5160 - categorical_accuracy: 0.7475\n",
      "Epoch 17/30\n",
      "4000/4000 [==============================] - 1s 161us/step - loss: 0.5026 - categorical_accuracy: 0.7600\n",
      "Epoch 18/30\n",
      "4000/4000 [==============================] - 1s 125us/step - loss: 0.4892 - categorical_accuracy: 0.7668\n",
      "Epoch 19/30\n",
      "4000/4000 [==============================] - 0s 118us/step - loss: 0.4769 - categorical_accuracy: 0.7708\n",
      "Epoch 20/30\n",
      "4000/4000 [==============================] - 0s 123us/step - loss: 0.4657 - categorical_accuracy: 0.7820\n",
      "Epoch 21/30\n",
      "4000/4000 [==============================] - 0s 117us/step - loss: 0.4505 - categorical_accuracy: 0.7970\n",
      "Epoch 22/30\n",
      "4000/4000 [==============================] - 0s 123us/step - loss: 0.4402 - categorical_accuracy: 0.7987\n",
      "Epoch 23/30\n",
      "4000/4000 [==============================] - 0s 120us/step - loss: 0.4288 - categorical_accuracy: 0.8045\n",
      "Epoch 24/30\n",
      "4000/4000 [==============================] - 0s 116us/step - loss: 0.4185 - categorical_accuracy: 0.8147\n",
      "Epoch 25/30\n",
      "4000/4000 [==============================] - 0s 112us/step - loss: 0.4055 - categorical_accuracy: 0.8213\n",
      "Epoch 26/30\n",
      "4000/4000 [==============================] - 0s 117us/step - loss: 0.3965 - categorical_accuracy: 0.8307\n",
      "Epoch 27/30\n",
      "4000/4000 [==============================] - 1s 143us/step - loss: 0.3848 - categorical_accuracy: 0.8405\n",
      "Epoch 28/30\n",
      "4000/4000 [==============================] - 0s 98us/step - loss: 0.3742 - categorical_accuracy: 0.8440\n",
      "Epoch 29/30\n",
      "4000/4000 [==============================] - 0s 115us/step - loss: 0.3673 - categorical_accuracy: 0.8480\n",
      "Epoch 30/30\n",
      "4000/4000 [==============================] - 0s 117us/step - loss: 0.3550 - categorical_accuracy: 0.8555\n"
     ]
    },
    {
     "data": {
      "text/plain": [
       "<keras.callbacks.History at 0x7fb0839416d8>"
      ]
     },
     "execution_count": 43,
     "metadata": {},
     "output_type": "execute_result"
    }
   ],
   "source": [
    "model.fit(X_train, y_train, epochs=30)"
   ]
  },
  {
   "cell_type": "code",
   "execution_count": 44,
   "metadata": {},
   "outputs": [],
   "source": [
    "new_model = innvestigate.utils.model_wo_softmax(model)"
   ]
  },
  {
   "cell_type": "code",
   "execution_count": 22,
   "metadata": {},
   "outputs": [],
   "source": [
    "a = innvestigate.analyzer.relevance_based.relevance_analyzer.LRPAlpha1Beta0(new_model, neuron_selection_mode='index')"
   ]
  },
  {
   "cell_type": "code",
   "execution_count": 23,
   "metadata": {},
   "outputs": [],
   "source": [
    "analysis_n0 = a.analyze(X_test, 0)\n",
    "analysis_n1 = a.analyze(X_test, 1)"
   ]
  },
  {
   "cell_type": "code",
   "execution_count": 24,
   "metadata": {},
   "outputs": [
    {
     "data": {
      "text/plain": [
       "array([ 54.061874,  72.416794,  50.61136 ,  79.262985,  73.52447 ,\n",
       "        70.67383 ,  56.257427,  82.83019 ,  45.651478,  64.73957 ,\n",
       "        56.901505,  79.42225 ,  58.76892 ,  76.8902  , 104.21556 ,\n",
       "        41.286373,  79.02631 ,  48.058144,  58.98844 ,  51.827385,\n",
       "        77.44711 ,  62.641155,  70.98323 ,  62.541855,  69.78989 ,\n",
       "        55.725033,  70.7373  , 168.62584 ,  79.818   ,  66.66598 ,\n",
       "        51.744686,  54.514637, 231.76561 ,  68.954704,  73.19589 ,\n",
       "       203.4528  ,  63.728836,  58.15585 ,  54.902554,  63.5632  ,\n",
       "        81.45061 ,  50.83405 ,  78.634705,  69.97976 ,  73.01904 ,\n",
       "        69.05104 ,  55.824066,  58.636204,  71.79125 ,  47.55577 ,\n",
       "        65.20273 ,  88.62023 ,  51.788353,  45.059834,  76.0029  ,\n",
       "        54.88191 ,  77.03665 ,  55.103004,  61.245834,  84.11081 ,\n",
       "        48.036366,  70.39667 ,  46.866096,  49.551956], dtype=float32)"
      ]
     },
     "execution_count": 24,
     "metadata": {},
     "output_type": "execute_result"
    }
   ],
   "source": [
    "np.sum(np.abs(analysis_n0), axis=0)"
   ]
  },
  {
   "cell_type": "code",
   "execution_count": 25,
   "metadata": {},
   "outputs": [
    {
     "data": {
      "text/plain": [
       "array([ 45.277683,  67.724236,  45.904232,  60.294926,  51.16178 ,\n",
       "        68.41736 ,  56.861282,  66.4384  ,  37.65225 ,  59.444283,\n",
       "        67.64803 ,  70.110664,  44.338654,  61.368523,  62.6603  ,\n",
       "        37.032654,  40.121002,  35.928043,  58.453327,  57.25429 ,\n",
       "        66.14026 ,  47.70572 ,  56.99203 ,  42.937714,  61.537624,\n",
       "        43.664715,  69.06316 , 131.33777 ,  71.992966,  55.8402  ,\n",
       "        52.69454 ,  53.666016, 267.93036 ,  58.196686,  68.3019  ,\n",
       "        93.52172 ,  59.40448 ,  47.890575,  58.75545 ,  49.10265 ,\n",
       "        67.40015 ,  46.84331 ,  58.58343 ,  55.402676,  57.796444,\n",
       "        60.15714 ,  44.86887 ,  48.351295,  53.17618 ,  44.093853,\n",
       "        57.53489 ,  69.26973 ,  45.4794  ,  44.410896,  52.26318 ,\n",
       "        48.13473 ,  68.87079 ,  44.048958,  53.937256,  62.0369  ,\n",
       "        37.90189 ,  58.365616,  44.23024 ,  46.599136], dtype=float32)"
      ]
     },
     "execution_count": 25,
     "metadata": {},
     "output_type": "execute_result"
    }
   ],
   "source": [
    "np.sum(np.abs(analysis_n1), axis=0)"
   ]
  },
  {
   "cell_type": "code",
   "execution_count": 26,
   "metadata": {},
   "outputs": [
    {
     "data": {
      "text/plain": [
       "array([ 99.339554, 140.14102 ,  96.515594, 139.5579  , 124.68625 ,\n",
       "       139.09119 , 113.11871 , 149.26859 ,  83.30373 , 124.18385 ,\n",
       "       124.54954 , 149.53291 , 103.107574, 138.25873 , 166.87585 ,\n",
       "        78.31903 , 119.147316,  83.98619 , 117.44177 , 109.08168 ,\n",
       "       143.58737 , 110.34688 , 127.975266, 105.47957 , 131.32751 ,\n",
       "        99.38975 , 139.80046 , 299.96362 , 151.81097 , 122.50618 ,\n",
       "       104.439224, 108.18065 , 499.69598 , 127.15139 , 141.4978  ,\n",
       "       296.97452 , 123.133316, 106.046425, 113.658005, 112.66585 ,\n",
       "       148.85075 ,  97.67736 , 137.21814 , 125.38243 , 130.81549 ,\n",
       "       129.20818 , 100.69293 , 106.9875  , 124.96744 ,  91.64963 ,\n",
       "       122.73762 , 157.88995 ,  97.26775 ,  89.47073 , 128.26608 ,\n",
       "       103.01664 , 145.90744 ,  99.15196 , 115.18309 , 146.1477  ,\n",
       "        85.938255, 128.76228 ,  91.09634 ,  96.15109 ], dtype=float32)"
      ]
     },
     "execution_count": 26,
     "metadata": {},
     "output_type": "execute_result"
    }
   ],
   "source": [
    "(np.sum(np.abs(analysis_n0), axis=0) + np.sum(np.abs(analysis_n1), axis=0))"
   ]
  },
  {
   "cell_type": "code",
   "execution_count": 27,
   "metadata": {},
   "outputs": [
    {
     "data": {
      "text/plain": [
       "array([15,  8, 17, 60, 53, 62, 49, 63,  2, 52, 41, 57,  0, 25, 46, 55, 12,\n",
       "       30, 23, 37, 47, 31, 19, 21, 39,  6, 38, 58, 18, 16, 29, 50, 36,  9,\n",
       "       10,  4, 48, 43, 33, 22, 54, 61, 45, 44, 24, 42, 13,  5,  3, 26,  1,\n",
       "       34, 20, 56, 59, 40,  7, 11, 28, 51, 14, 35, 27, 32])"
      ]
     },
     "execution_count": 27,
     "metadata": {},
     "output_type": "execute_result"
    }
   ],
   "source": [
    "np.argsort((np.sum(np.abs(analysis_n0), axis=0) + np.sum(np.abs(analysis_n1), axis=0)))"
   ]
  },
  {
   "cell_type": "code",
   "execution_count": null,
   "metadata": {},
   "outputs": [],
   "source": [
    "a1 = innvestigate.analyzer.relevance_based.relevance_analyzer.LRPAlpha1Beta0(cut_last_layer(model), neuron_selection_mode='index')"
   ]
  },
  {
   "cell_type": "code",
   "execution_count": null,
   "metadata": {},
   "outputs": [],
   "source": [
    "a1.analyze(X_test, 2)[0]"
   ]
  },
  {
   "cell_type": "code",
   "execution_count": null,
   "metadata": {},
   "outputs": [],
   "source": [
    "a2 = innvestigate.analyzer.relevance_based.relevance_analyzer.LRPAlpha1Beta0(cut_last_layer(model, n=2), neuron_selection_mode='index')"
   ]
  },
  {
   "cell_type": "code",
   "execution_count": null,
   "metadata": {
    "scrolled": false
   },
   "outputs": [],
   "source": [
    "count = 0\n",
    "for arr in a2.analyze(X_test, 31):\n",
    "    if np.sum(arr) == 0:\n",
    "        count+=1\n",
    "\n",
    "print(count)"
   ]
  },
  {
   "cell_type": "code",
   "execution_count": null,
   "metadata": {},
   "outputs": [],
   "source": [
    "np.sum(a2.analyze(X_test, 31), axis=0)"
   ]
  },
  {
   "cell_type": "code",
   "execution_count": 28,
   "metadata": {},
   "outputs": [
    {
     "data": {
      "text/plain": [
       "array([ 24.198978 ,   5.4330654,  18.353344 ,  20.21186  , 147.38112  ,\n",
       "        21.705736 ,  19.620811 ,   1.3526926, 226.99542  ,  17.773066 ,\n",
       "        13.492573 ,  48.89484  ,  16.189135 ,  17.801525 ,  62.233307 ,\n",
       "        21.422846 ,  20.286646 ,  22.040644 ,  18.90143  ,   4.624758 ,\n",
       "        13.392555 ,  17.78278  ,  21.225489 ,  11.659458 ,  98.71338  ,\n",
       "        15.310058 ,   8.918158 ,   8.277944 ,  16.667187 ,  17.214766 ,\n",
       "        47.25463  ,  16.840668 ,  10.165367 ,  26.659868 ,  14.637087 ,\n",
       "        19.321383 ,  18.544174 ,   3.6446671,  11.676939 ,  22.426533 ,\n",
       "        19.399498 ,  16.564007 ,  17.04478  ,  12.790912 ,  27.558489 ,\n",
       "        21.002686 ,  13.666864 ,  15.740488 ,  29.78971  ,  10.3110285,\n",
       "         4.7441134,  21.16869  ,  12.333801 , 157.04886  ,  18.348265 ,\n",
       "         9.556163 ,  19.191208 ,  23.25707  ,  14.356097 ,  79.90362  ,\n",
       "         9.877087 ,  67.065315 ,  23.308184 ,  15.463832 ], dtype=float32)"
      ]
     },
     "execution_count": 28,
     "metadata": {},
     "output_type": "execute_result"
    }
   ],
   "source": [
    "(np.sum(a.analyze(X_test, 0), axis=0))"
   ]
  },
  {
   "cell_type": "code",
   "execution_count": null,
   "metadata": {},
   "outputs": [],
   "source": [
    "np.sum(a.analyze(X_test, 1)[0], axis=0)"
   ]
  },
  {
   "cell_type": "code",
   "execution_count": null,
   "metadata": {},
   "outputs": [],
   "source": [
    "a.analyze(X_test, 1)[0]"
   ]
  },
  {
   "cell_type": "code",
   "execution_count": 45,
   "metadata": {},
   "outputs": [],
   "source": [
    "dt_analysis = innvestigate.analyzer.DeepTaylor(new_model, neuron_selection_mode='index')"
   ]
  },
  {
   "cell_type": "code",
   "execution_count": 72,
   "metadata": {},
   "outputs": [],
   "source": [
    "res_n0 = dt_analysis.analyze(X_test[np.asarray(y_test[:,0] == 1).reshape(1000)], 1)"
   ]
  },
  {
   "cell_type": "code",
   "execution_count": 73,
   "metadata": {},
   "outputs": [
    {
     "data": {
      "text/plain": [
       "array([10.689849 ,  8.844543 ,  7.376739 ,  9.717905 ,  9.8976555,\n",
       "       13.347191 ,  8.109012 , 11.351046 ,  9.583494 , 10.707563 ,\n",
       "        9.639938 , 12.077426 , 10.122783 ,  9.696252 , 11.972238 ,\n",
       "        9.918845 ,  7.5882974,  8.982794 , 11.669404 ,  9.032397 ,\n",
       "        7.219183 ,  9.3062315,  8.460289 ,  8.65291  ,  9.241756 ,\n",
       "       11.4176   ,  7.6820736,  8.381612 ,  9.139542 ,  9.163609 ,\n",
       "        7.5129414,  9.676871 ,  8.248012 ,  7.4144654, 10.485329 ,\n",
       "        8.386253 , 10.679225 , 11.126814 , 10.697619 ,  9.669372 ,\n",
       "       11.061722 , 13.307628 , 11.388853 ,  9.454755 ,  9.76597  ,\n",
       "        9.618366 , 13.043931 , 13.872864 ,  8.095019 , 11.823728 ,\n",
       "       12.4998665,  8.162639 , 11.005219 ,  9.674401 ,  8.645794 ,\n",
       "       11.141617 , 10.540333 ,  8.626428 ,  6.794663 ,  9.933149 ,\n",
       "        8.63253  , 10.796873 ,  6.851171 , 10.440113 ], dtype=float32)"
      ]
     },
     "execution_count": 73,
     "metadata": {},
     "output_type": "execute_result"
    }
   ],
   "source": [
    "np.sum(res_n0, axis=0)"
   ]
  },
  {
   "cell_type": "code",
   "execution_count": 69,
   "metadata": {},
   "outputs": [
    {
     "data": {
      "text/plain": [
       "array([[ 2.81776381,  1.14494611, -0.43716025, ...,  0.01166994,\n",
       "         0.49618419, -0.84541549],\n",
       "       [-0.56113835, -2.04683639,  1.50387699, ...,  1.06602879,\n",
       "         0.59907378, -0.91454125],\n",
       "       [ 0.3676762 ,  0.30938325,  0.31790342, ...,  0.84448119,\n",
       "         0.43929896, -0.15437855],\n",
       "       ...,\n",
       "       [ 2.00269476, -1.16201906, -0.13187375, ..., -0.40881691,\n",
       "        -0.45981859, -0.28527456],\n",
       "       [-0.91613436, -0.89379655, -0.6858576 , ..., -0.85685856,\n",
       "         0.81398013, -1.41128751],\n",
       "       [ 0.81761772, -0.66103599, -0.73146746, ..., -3.83618185,\n",
       "        -1.13414511,  0.28349711]])"
      ]
     },
     "execution_count": 69,
     "metadata": {},
     "output_type": "execute_result"
    }
   ],
   "source": [
    "X_test[np.asarray(y_test[:,0] == 1).reshape(1000)]"
   ]
  },
  {
   "cell_type": "code",
   "execution_count": 67,
   "metadata": {},
   "outputs": [
    {
     "data": {
      "text/plain": [
       "(1000,)"
      ]
     },
     "execution_count": 67,
     "metadata": {},
     "output_type": "execute_result"
    }
   ],
   "source": [
    "np.asarray(y_test[:,0] == 1).reshape(1000)"
   ]
  }
 ],
 "metadata": {
  "kernelspec": {
   "display_name": "Python 3",
   "language": "python",
   "name": "python3"
  },
  "language_info": {
   "codemirror_mode": {
    "name": "ipython",
    "version": 3
   },
   "file_extension": ".py",
   "mimetype": "text/x-python",
   "name": "python",
   "nbconvert_exporter": "python",
   "pygments_lexer": "ipython3",
   "version": "3.6.5"
  }
 },
 "nbformat": 4,
 "nbformat_minor": 2
}
