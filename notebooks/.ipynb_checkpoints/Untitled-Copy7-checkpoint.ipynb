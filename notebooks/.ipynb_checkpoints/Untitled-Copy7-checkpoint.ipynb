{
 "cells": [
  {
   "cell_type": "code",
   "execution_count": 1,
   "metadata": {},
   "outputs": [],
   "source": [
    "%load_ext autoreload"
   ]
  },
  {
   "cell_type": "code",
   "execution_count": 2,
   "metadata": {},
   "outputs": [],
   "source": [
    "%autoreload 2"
   ]
  },
  {
   "cell_type": "code",
   "execution_count": 3,
   "metadata": {},
   "outputs": [
    {
     "name": "stderr",
     "output_type": "stream",
     "text": [
      "Using TensorFlow backend.\n"
     ]
    }
   ],
   "source": [
    "import tensorflow as tf\n",
    "import numpy as np\n",
    "from sklearn.datasets import make_classification\n",
    "import keras \n",
    "import keras.backend as K\n",
    "import innvestigate\n",
    "from keras.models import Model\n",
    "import matplotlib.pyplot as plt\n",
    "from sklearn.preprocessing import OneHotEncoder"
   ]
  },
  {
   "cell_type": "code",
   "execution_count": 4,
   "metadata": {},
   "outputs": [],
   "source": [
    "def cut_last_layer(model, n=1):\n",
    "    return Model(inputs=model.inputs, outputs=model.layers[-1-n].output)\n"
   ]
  },
  {
   "cell_type": "code",
   "execution_count": 5,
   "metadata": {},
   "outputs": [
    {
     "name": "stderr",
     "output_type": "stream",
     "text": [
      "/home/chschrec/.local/share/virtualenvs/interpret-R0ok2QRq/lib/python3.6/site-packages/sklearn/preprocessing/_encoders.py:371: FutureWarning: The handling of integer data will change in version 0.22. Currently, the categories are determined based on the range [0, max(values)], while in the future they will be determined based on the unique values.\n",
      "If you want the future behaviour and silence this warning, you can specify \"categories='auto'\".\n",
      "In case you used a LabelEncoder before this OneHotEncoder to convert the categories to integers, then you can now use the OneHotEncoder directly.\n",
      "  warnings.warn(msg, FutureWarning)\n"
     ]
    }
   ],
   "source": [
    "TRAIN_SPLIT = 0.8\n",
    "TOTAL_DATA = 5000\n",
    "DATA_SPLIT = int(TRAIN_SPLIT * TOTAL_DATA)\n",
    "\n",
    "X, y = make_classification(n_samples=TOTAL_DATA, n_features=64, n_informative=8, n_redundant=0, shuffle=False, flip_y=0.3, random_state=0)\n",
    "\n",
    "X_train = X[:DATA_SPLIT]\n",
    "X_test = X[DATA_SPLIT:]\n",
    "\n",
    "ohe = OneHotEncoder()\n",
    "ohe = ohe.fit(y.reshape(-1,1))\n",
    "y_bin = ohe.transform(y.reshape(-1,1))\n",
    "\n",
    "\n",
    "y_train = y_bin.todense()[:DATA_SPLIT]\n",
    "y_test = y_bin.todense()[DATA_SPLIT:]"
   ]
  },
  {
   "cell_type": "code",
   "execution_count": 6,
   "metadata": {},
   "outputs": [
    {
     "name": "stdout",
     "output_type": "stream",
     "text": [
      "WARNING:tensorflow:From /home/chschrec/.local/share/virtualenvs/interpret-R0ok2QRq/lib/python3.6/site-packages/tensorflow/python/ops/control_flow_ops.py:423: colocate_with (from tensorflow.python.framework.ops) is deprecated and will be removed in a future version.\n",
      "Instructions for updating:\n",
      "Colocations handled automatically by placer.\n",
      "WARNING:tensorflow:From /home/chschrec/.local/share/virtualenvs/interpret-R0ok2QRq/lib/python3.6/site-packages/keras/backend/tensorflow_backend.py:3445: calling dropout (from tensorflow.python.ops.nn_ops) with keep_prob is deprecated and will be removed in a future version.\n",
      "Instructions for updating:\n",
      "Please use `rate` instead of `keep_prob`. Rate should be set to `rate = 1 - keep_prob`.\n"
     ]
    }
   ],
   "source": [
    "model = keras.Sequential(layers=[\n",
    "    keras.layers.Dropout(rate=0.3, input_shape=(64,)),\n",
    "    keras.layers.Dense(units=32, activation=keras.activations.relu),\n",
    "    keras.layers.Dense(units=16, activation=keras.activations.relu),\n",
    "    keras.layers.Dense(units=2, activation=keras.activations.softmax)\n",
    "])\n"
   ]
  },
  {
   "cell_type": "code",
   "execution_count": 7,
   "metadata": {},
   "outputs": [],
   "source": [
    "model.compile(optimizer='Adam',\n",
    "              loss=keras.losses.categorical_crossentropy,\n",
    "              metrics=[keras.metrics.categorical_accuracy])"
   ]
  },
  {
   "cell_type": "code",
   "execution_count": 8,
   "metadata": {
    "scrolled": true
   },
   "outputs": [
    {
     "name": "stdout",
     "output_type": "stream",
     "text": [
      "WARNING:tensorflow:From /home/chschrec/.local/share/virtualenvs/interpret-R0ok2QRq/lib/python3.6/site-packages/tensorflow/python/ops/math_ops.py:3066: to_int32 (from tensorflow.python.ops.math_ops) is deprecated and will be removed in a future version.\n",
      "Instructions for updating:\n",
      "Use tf.cast instead.\n",
      "Epoch 1/300\n",
      "4000/4000 [==============================] - 0s 98us/step - loss: 0.7996 - categorical_accuracy: 0.5948\n",
      "Epoch 2/300\n",
      "4000/4000 [==============================] - 0s 29us/step - loss: 0.6331 - categorical_accuracy: 0.6515\n",
      "Epoch 3/300\n",
      "4000/4000 [==============================] - 0s 30us/step - loss: 0.6029 - categorical_accuracy: 0.6940\n",
      "Epoch 4/300\n",
      "4000/4000 [==============================] - 0s 32us/step - loss: 0.5768 - categorical_accuracy: 0.7240\n",
      "Epoch 5/300\n",
      "4000/4000 [==============================] - 0s 32us/step - loss: 0.5625 - categorical_accuracy: 0.7478\n",
      "Epoch 6/300\n",
      "4000/4000 [==============================] - 0s 30us/step - loss: 0.5517 - categorical_accuracy: 0.7430\n",
      "Epoch 7/300\n",
      "4000/4000 [==============================] - 0s 31us/step - loss: 0.5481 - categorical_accuracy: 0.7555\n",
      "Epoch 8/300\n",
      "4000/4000 [==============================] - 0s 32us/step - loss: 0.5421 - categorical_accuracy: 0.7545\n",
      "Epoch 9/300\n",
      "4000/4000 [==============================] - 0s 37us/step - loss: 0.5349 - categorical_accuracy: 0.7588\n",
      "Epoch 10/300\n",
      "4000/4000 [==============================] - 0s 37us/step - loss: 0.5282 - categorical_accuracy: 0.7695\n",
      "Epoch 11/300\n",
      "4000/4000 [==============================] - 0s 37us/step - loss: 0.5369 - categorical_accuracy: 0.7640\n",
      "Epoch 12/300\n",
      "4000/4000 [==============================] - 0s 31us/step - loss: 0.5240 - categorical_accuracy: 0.7685\n",
      "Epoch 13/300\n",
      "4000/4000 [==============================] - 0s 34us/step - loss: 0.5294 - categorical_accuracy: 0.7638\n",
      "Epoch 14/300\n",
      "4000/4000 [==============================] - 0s 32us/step - loss: 0.5246 - categorical_accuracy: 0.7620\n",
      "Epoch 15/300\n",
      "4000/4000 [==============================] - 0s 31us/step - loss: 0.5254 - categorical_accuracy: 0.7668\n",
      "Epoch 16/300\n",
      "4000/4000 [==============================] - 0s 32us/step - loss: 0.5211 - categorical_accuracy: 0.7742\n",
      "Epoch 17/300\n",
      "4000/4000 [==============================] - 0s 32us/step - loss: 0.5138 - categorical_accuracy: 0.7777\n",
      "Epoch 18/300\n",
      "4000/4000 [==============================] - 0s 30us/step - loss: 0.5132 - categorical_accuracy: 0.7790\n",
      "Epoch 19/300\n",
      "4000/4000 [==============================] - 0s 35us/step - loss: 0.5158 - categorical_accuracy: 0.7752\n",
      "Epoch 20/300\n",
      "4000/4000 [==============================] - 0s 32us/step - loss: 0.5211 - categorical_accuracy: 0.7702\n",
      "Epoch 21/300\n",
      "4000/4000 [==============================] - 0s 31us/step - loss: 0.5098 - categorical_accuracy: 0.7790\n",
      "Epoch 22/300\n",
      "4000/4000 [==============================] - 0s 29us/step - loss: 0.5016 - categorical_accuracy: 0.7833\n",
      "Epoch 23/300\n",
      "4000/4000 [==============================] - 0s 33us/step - loss: 0.5096 - categorical_accuracy: 0.7768\n",
      "Epoch 24/300\n",
      "4000/4000 [==============================] - 0s 32us/step - loss: 0.5027 - categorical_accuracy: 0.7790\n",
      "Epoch 25/300\n",
      "4000/4000 [==============================] - 0s 36us/step - loss: 0.5015 - categorical_accuracy: 0.7830\n",
      "Epoch 26/300\n",
      "4000/4000 [==============================] - 0s 32us/step - loss: 0.5003 - categorical_accuracy: 0.7788\n",
      "Epoch 27/300\n",
      "4000/4000 [==============================] - 0s 36us/step - loss: 0.5009 - categorical_accuracy: 0.7800\n",
      "Epoch 28/300\n",
      "4000/4000 [==============================] - 0s 36us/step - loss: 0.4984 - categorical_accuracy: 0.7777\n",
      "Epoch 29/300\n",
      "4000/4000 [==============================] - 0s 30us/step - loss: 0.4926 - categorical_accuracy: 0.7848\n",
      "Epoch 30/300\n",
      "4000/4000 [==============================] - 0s 35us/step - loss: 0.4896 - categorical_accuracy: 0.7867\n",
      "Epoch 31/300\n",
      "4000/4000 [==============================] - 0s 27us/step - loss: 0.4972 - categorical_accuracy: 0.7795\n",
      "Epoch 32/300\n",
      "4000/4000 [==============================] - 0s 31us/step - loss: 0.4930 - categorical_accuracy: 0.7845\n",
      "Epoch 33/300\n",
      "4000/4000 [==============================] - 0s 28us/step - loss: 0.4902 - categorical_accuracy: 0.7827\n",
      "Epoch 34/300\n",
      "4000/4000 [==============================] - 0s 16us/step - loss: 0.4817 - categorical_accuracy: 0.7860\n",
      "Epoch 35/300\n",
      "4000/4000 [==============================] - 0s 22us/step - loss: 0.4854 - categorical_accuracy: 0.7908\n",
      "Epoch 36/300\n",
      "4000/4000 [==============================] - 0s 13us/step - loss: 0.4896 - categorical_accuracy: 0.7810\n",
      "Epoch 37/300\n",
      "4000/4000 [==============================] - 0s 18us/step - loss: 0.4844 - categorical_accuracy: 0.7815\n",
      "Epoch 38/300\n",
      "4000/4000 [==============================] - 0s 24us/step - loss: 0.4845 - categorical_accuracy: 0.7837\n",
      "Epoch 39/300\n",
      "4000/4000 [==============================] - 0s 12us/step - loss: 0.4765 - categorical_accuracy: 0.7908\n",
      "Epoch 40/300\n",
      "4000/4000 [==============================] - 0s 12us/step - loss: 0.4760 - categorical_accuracy: 0.7893\n",
      "Epoch 41/300\n",
      "4000/4000 [==============================] - 0s 16us/step - loss: 0.4755 - categorical_accuracy: 0.7940\n",
      "Epoch 42/300\n",
      "4000/4000 [==============================] - 0s 12us/step - loss: 0.4780 - categorical_accuracy: 0.7930\n",
      "Epoch 43/300\n",
      "4000/4000 [==============================] - 0s 26us/step - loss: 0.4772 - categorical_accuracy: 0.7915\n",
      "Epoch 44/300\n",
      "4000/4000 [==============================] - 0s 28us/step - loss: 0.4754 - categorical_accuracy: 0.7920\n",
      "Epoch 45/300\n",
      "4000/4000 [==============================] - 0s 36us/step - loss: 0.4743 - categorical_accuracy: 0.7890\n",
      "Epoch 46/300\n",
      "4000/4000 [==============================] - 0s 36us/step - loss: 0.4760 - categorical_accuracy: 0.7855\n",
      "Epoch 47/300\n",
      "4000/4000 [==============================] - 0s 37us/step - loss: 0.4675 - categorical_accuracy: 0.7947\n",
      "Epoch 48/300\n",
      "4000/4000 [==============================] - 0s 35us/step - loss: 0.4717 - categorical_accuracy: 0.7927\n",
      "Epoch 49/300\n",
      "4000/4000 [==============================] - 0s 26us/step - loss: 0.4700 - categorical_accuracy: 0.7950\n",
      "Epoch 50/300\n",
      "4000/4000 [==============================] - 0s 29us/step - loss: 0.4651 - categorical_accuracy: 0.7908\n",
      "Epoch 51/300\n",
      "4000/4000 [==============================] - 0s 15us/step - loss: 0.4718 - categorical_accuracy: 0.7908\n",
      "Epoch 52/300\n",
      "4000/4000 [==============================] - 0s 26us/step - loss: 0.4597 - categorical_accuracy: 0.7983\n",
      "Epoch 53/300\n",
      "4000/4000 [==============================] - 0s 22us/step - loss: 0.4638 - categorical_accuracy: 0.7995\n",
      "Epoch 54/300\n",
      "4000/4000 [==============================] - 0s 13us/step - loss: 0.4623 - categorical_accuracy: 0.7943\n",
      "Epoch 55/300\n",
      "4000/4000 [==============================] - 0s 18us/step - loss: 0.4647 - categorical_accuracy: 0.7890\n",
      "Epoch 56/300\n",
      "4000/4000 [==============================] - 0s 17us/step - loss: 0.4598 - categorical_accuracy: 0.7985\n",
      "Epoch 57/300\n",
      "4000/4000 [==============================] - 0s 36us/step - loss: 0.4616 - categorical_accuracy: 0.7908\n",
      "Epoch 58/300\n",
      "4000/4000 [==============================] - 0s 52us/step - loss: 0.4594 - categorical_accuracy: 0.7930\n",
      "Epoch 59/300\n",
      "4000/4000 [==============================] - 0s 50us/step - loss: 0.4541 - categorical_accuracy: 0.7995\n",
      "Epoch 60/300\n",
      "4000/4000 [==============================] - 0s 50us/step - loss: 0.4650 - categorical_accuracy: 0.7910\n",
      "Epoch 61/300\n",
      "4000/4000 [==============================] - 0s 46us/step - loss: 0.4560 - categorical_accuracy: 0.7983\n",
      "Epoch 62/300\n",
      "4000/4000 [==============================] - 0s 45us/step - loss: 0.4451 - categorical_accuracy: 0.8003\n",
      "Epoch 63/300\n",
      "4000/4000 [==============================] - 0s 43us/step - loss: 0.4527 - categorical_accuracy: 0.7980\n",
      "Epoch 64/300\n",
      "4000/4000 [==============================] - 0s 45us/step - loss: 0.4501 - categorical_accuracy: 0.8015\n",
      "Epoch 65/300\n",
      "4000/4000 [==============================] - 0s 51us/step - loss: 0.4516 - categorical_accuracy: 0.8015\n",
      "Epoch 66/300\n",
      "4000/4000 [==============================] - 0s 66us/step - loss: 0.4412 - categorical_accuracy: 0.8000\n",
      "Epoch 67/300\n",
      "4000/4000 [==============================] - 0s 78us/step - loss: 0.4461 - categorical_accuracy: 0.8013\n",
      "Epoch 68/300\n"
     ]
    },
    {
     "name": "stdout",
     "output_type": "stream",
     "text": [
      "4000/4000 [==============================] - 0s 53us/step - loss: 0.4500 - categorical_accuracy: 0.7977\n",
      "Epoch 69/300\n",
      "4000/4000 [==============================] - 0s 54us/step - loss: 0.4454 - categorical_accuracy: 0.8043\n",
      "Epoch 70/300\n",
      "4000/4000 [==============================] - 0s 51us/step - loss: 0.4376 - categorical_accuracy: 0.8030\n",
      "Epoch 71/300\n",
      "4000/4000 [==============================] - 0s 47us/step - loss: 0.4536 - categorical_accuracy: 0.7998\n",
      "Epoch 72/300\n",
      "4000/4000 [==============================] - 0s 46us/step - loss: 0.4415 - categorical_accuracy: 0.8050\n",
      "Epoch 73/300\n",
      "4000/4000 [==============================] - 0s 35us/step - loss: 0.4473 - categorical_accuracy: 0.7998\n",
      "Epoch 74/300\n",
      "4000/4000 [==============================] - 0s 39us/step - loss: 0.4425 - categorical_accuracy: 0.8093\n",
      "Epoch 75/300\n",
      "4000/4000 [==============================] - 0s 42us/step - loss: 0.4416 - categorical_accuracy: 0.8060\n",
      "Epoch 76/300\n",
      "4000/4000 [==============================] - 0s 39us/step - loss: 0.4475 - categorical_accuracy: 0.8005\n",
      "Epoch 77/300\n",
      "4000/4000 [==============================] - 0s 30us/step - loss: 0.4532 - categorical_accuracy: 0.7963\n",
      "Epoch 78/300\n",
      "4000/4000 [==============================] - 0s 31us/step - loss: 0.4343 - categorical_accuracy: 0.8065\n",
      "Epoch 79/300\n",
      "4000/4000 [==============================] - 0s 45us/step - loss: 0.4359 - categorical_accuracy: 0.8063\n",
      "Epoch 80/300\n",
      "4000/4000 [==============================] - 0s 46us/step - loss: 0.4357 - categorical_accuracy: 0.8093\n",
      "Epoch 81/300\n",
      "4000/4000 [==============================] - 0s 47us/step - loss: 0.4356 - categorical_accuracy: 0.8077\n",
      "Epoch 82/300\n",
      "4000/4000 [==============================] - 0s 47us/step - loss: 0.4355 - categorical_accuracy: 0.8097\n",
      "Epoch 83/300\n",
      "4000/4000 [==============================] - 0s 49us/step - loss: 0.4366 - categorical_accuracy: 0.8100\n",
      "Epoch 84/300\n",
      "4000/4000 [==============================] - 0s 45us/step - loss: 0.4298 - categorical_accuracy: 0.8080\n",
      "Epoch 85/300\n",
      "4000/4000 [==============================] - 0s 40us/step - loss: 0.4400 - categorical_accuracy: 0.8020\n",
      "Epoch 86/300\n",
      "4000/4000 [==============================] - 0s 43us/step - loss: 0.4353 - categorical_accuracy: 0.8047\n",
      "Epoch 87/300\n",
      "4000/4000 [==============================] - 0s 40us/step - loss: 0.4305 - categorical_accuracy: 0.8093\n",
      "Epoch 88/300\n",
      "4000/4000 [==============================] - 0s 32us/step - loss: 0.4427 - categorical_accuracy: 0.8020\n",
      "Epoch 89/300\n",
      "4000/4000 [==============================] - 0s 32us/step - loss: 0.4309 - categorical_accuracy: 0.8005\n",
      "Epoch 90/300\n",
      "4000/4000 [==============================] - 0s 48us/step - loss: 0.4349 - categorical_accuracy: 0.8055\n",
      "Epoch 91/300\n",
      "4000/4000 [==============================] - 0s 51us/step - loss: 0.4270 - categorical_accuracy: 0.8093\n",
      "Epoch 92/300\n",
      "4000/4000 [==============================] - 0s 46us/step - loss: 0.4387 - categorical_accuracy: 0.8100\n",
      "Epoch 93/300\n",
      "4000/4000 [==============================] - 0s 38us/step - loss: 0.4324 - categorical_accuracy: 0.8085\n",
      "Epoch 94/300\n",
      "4000/4000 [==============================] - 0s 41us/step - loss: 0.4281 - categorical_accuracy: 0.8137\n",
      "Epoch 95/300\n",
      "4000/4000 [==============================] - 0s 46us/step - loss: 0.4244 - categorical_accuracy: 0.8067\n",
      "Epoch 96/300\n",
      "4000/4000 [==============================] - 0s 41us/step - loss: 0.4346 - categorical_accuracy: 0.8088\n",
      "Epoch 97/300\n",
      "4000/4000 [==============================] - 0s 31us/step - loss: 0.4259 - categorical_accuracy: 0.8075\n",
      "Epoch 98/300\n",
      "4000/4000 [==============================] - 0s 29us/step - loss: 0.4283 - categorical_accuracy: 0.8075\n",
      "Epoch 99/300\n",
      "4000/4000 [==============================] - 0s 30us/step - loss: 0.4349 - categorical_accuracy: 0.8118\n",
      "Epoch 100/300\n",
      "4000/4000 [==============================] - 0s 38us/step - loss: 0.4271 - categorical_accuracy: 0.8140\n",
      "Epoch 101/300\n",
      "4000/4000 [==============================] - 0s 30us/step - loss: 0.4213 - categorical_accuracy: 0.8143\n",
      "Epoch 102/300\n",
      "4000/4000 [==============================] - 0s 29us/step - loss: 0.4242 - categorical_accuracy: 0.8143\n",
      "Epoch 103/300\n",
      "4000/4000 [==============================] - 0s 37us/step - loss: 0.4260 - categorical_accuracy: 0.8140\n",
      "Epoch 104/300\n",
      "4000/4000 [==============================] - 0s 44us/step - loss: 0.4307 - categorical_accuracy: 0.8070\n",
      "Epoch 105/300\n",
      "4000/4000 [==============================] - 0s 31us/step - loss: 0.4322 - categorical_accuracy: 0.8045\n",
      "Epoch 106/300\n",
      "4000/4000 [==============================] - 0s 34us/step - loss: 0.4355 - categorical_accuracy: 0.8033\n",
      "Epoch 107/300\n",
      "4000/4000 [==============================] - 0s 30us/step - loss: 0.4234 - categorical_accuracy: 0.8060\n",
      "Epoch 108/300\n",
      "4000/4000 [==============================] - 0s 27us/step - loss: 0.4270 - categorical_accuracy: 0.8125\n",
      "Epoch 109/300\n",
      "4000/4000 [==============================] - 0s 29us/step - loss: 0.4190 - categorical_accuracy: 0.8060\n",
      "Epoch 110/300\n",
      "4000/4000 [==============================] - 0s 30us/step - loss: 0.4350 - categorical_accuracy: 0.8063\n",
      "Epoch 111/300\n",
      "4000/4000 [==============================] - 0s 31us/step - loss: 0.4185 - categorical_accuracy: 0.8093\n",
      "Epoch 112/300\n",
      "4000/4000 [==============================] - 0s 29us/step - loss: 0.4335 - categorical_accuracy: 0.8075 0s - loss: 0.4348 - categorical_accuracy: 0.\n",
      "Epoch 113/300\n",
      "4000/4000 [==============================] - 0s 30us/step - loss: 0.4261 - categorical_accuracy: 0.8103\n",
      "Epoch 114/300\n",
      "4000/4000 [==============================] - 0s 32us/step - loss: 0.4174 - categorical_accuracy: 0.8140\n",
      "Epoch 115/300\n",
      "4000/4000 [==============================] - 0s 33us/step - loss: 0.4199 - categorical_accuracy: 0.8135 0s - loss: 0.4348 - categorical_accuracy: 0.\n",
      "Epoch 116/300\n",
      "4000/4000 [==============================] - 0s 29us/step - loss: 0.4179 - categorical_accuracy: 0.8173\n",
      "Epoch 117/300\n",
      "4000/4000 [==============================] - 0s 25us/step - loss: 0.4247 - categorical_accuracy: 0.8123\n",
      "Epoch 118/300\n",
      "4000/4000 [==============================] - 0s 29us/step - loss: 0.4194 - categorical_accuracy: 0.8103\n",
      "Epoch 119/300\n",
      "4000/4000 [==============================] - 0s 29us/step - loss: 0.4295 - categorical_accuracy: 0.8113\n",
      "Epoch 120/300\n",
      "4000/4000 [==============================] - 0s 39us/step - loss: 0.4333 - categorical_accuracy: 0.8060\n",
      "Epoch 121/300\n",
      "4000/4000 [==============================] - 0s 43us/step - loss: 0.4205 - categorical_accuracy: 0.8120\n",
      "Epoch 122/300\n",
      "4000/4000 [==============================] - 0s 46us/step - loss: 0.4308 - categorical_accuracy: 0.8050\n",
      "Epoch 123/300\n",
      "4000/4000 [==============================] - 0s 31us/step - loss: 0.4257 - categorical_accuracy: 0.8093\n",
      "Epoch 124/300\n",
      "4000/4000 [==============================] - 0s 46us/step - loss: 0.4211 - categorical_accuracy: 0.8123\n",
      "Epoch 125/300\n",
      "4000/4000 [==============================] - 0s 45us/step - loss: 0.4230 - categorical_accuracy: 0.8088\n",
      "Epoch 126/300\n",
      "4000/4000 [==============================] - 0s 50us/step - loss: 0.4193 - categorical_accuracy: 0.8127\n",
      "Epoch 127/300\n",
      "4000/4000 [==============================] - 0s 48us/step - loss: 0.4209 - categorical_accuracy: 0.8132\n",
      "Epoch 128/300\n",
      "4000/4000 [==============================] - 0s 42us/step - loss: 0.4115 - categorical_accuracy: 0.8210\n",
      "Epoch 129/300\n",
      "4000/4000 [==============================] - 0s 42us/step - loss: 0.4106 - categorical_accuracy: 0.8195\n",
      "Epoch 130/300\n",
      "4000/4000 [==============================] - 0s 42us/step - loss: 0.4188 - categorical_accuracy: 0.8157\n",
      "Epoch 131/300\n",
      "4000/4000 [==============================] - 0s 43us/step - loss: 0.4233 - categorical_accuracy: 0.8093\n",
      "Epoch 132/300\n",
      "4000/4000 [==============================] - 0s 29us/step - loss: 0.4212 - categorical_accuracy: 0.8175\n",
      "Epoch 133/300\n",
      "4000/4000 [==============================] - 0s 35us/step - loss: 0.4204 - categorical_accuracy: 0.8113\n",
      "Epoch 134/300\n",
      "4000/4000 [==============================] - 0s 32us/step - loss: 0.4097 - categorical_accuracy: 0.8155\n",
      "Epoch 135/300\n",
      "4000/4000 [==============================] - 0s 48us/step - loss: 0.4153 - categorical_accuracy: 0.8137\n",
      "Epoch 136/300\n",
      "4000/4000 [==============================] - 0s 52us/step - loss: 0.4267 - categorical_accuracy: 0.8120\n",
      "Epoch 137/300\n"
     ]
    },
    {
     "name": "stdout",
     "output_type": "stream",
     "text": [
      "4000/4000 [==============================] - 0s 49us/step - loss: 0.4154 - categorical_accuracy: 0.8143\n",
      "Epoch 138/300\n",
      "4000/4000 [==============================] - 0s 59us/step - loss: 0.4182 - categorical_accuracy: 0.8155 0s - loss: 0.3916 - categorical_accuracy\n",
      "Epoch 139/300\n",
      "4000/4000 [==============================] - 0s 49us/step - loss: 0.4083 - categorical_accuracy: 0.8185\n",
      "Epoch 140/300\n",
      "4000/4000 [==============================] - 0s 32us/step - loss: 0.4200 - categorical_accuracy: 0.8100\n",
      "Epoch 141/300\n",
      "4000/4000 [==============================] - ETA: 0s - loss: 0.4059 - categorical_accuracy: 0.81 - 0s 47us/step - loss: 0.4119 - categorical_accuracy: 0.8145\n",
      "Epoch 142/300\n",
      "4000/4000 [==============================] - 0s 50us/step - loss: 0.4219 - categorical_accuracy: 0.8077\n",
      "Epoch 143/300\n",
      "4000/4000 [==============================] - 0s 49us/step - loss: 0.4224 - categorical_accuracy: 0.8090\n",
      "Epoch 144/300\n",
      "4000/4000 [==============================] - 0s 56us/step - loss: 0.4012 - categorical_accuracy: 0.8230\n",
      "Epoch 145/300\n",
      "4000/4000 [==============================] - 0s 56us/step - loss: 0.4086 - categorical_accuracy: 0.8267\n",
      "Epoch 146/300\n",
      "4000/4000 [==============================] - 0s 50us/step - loss: 0.4176 - categorical_accuracy: 0.8130\n",
      "Epoch 147/300\n",
      "4000/4000 [==============================] - 0s 53us/step - loss: 0.4146 - categorical_accuracy: 0.8093\n",
      "Epoch 148/300\n",
      "4000/4000 [==============================] - 0s 62us/step - loss: 0.4054 - categorical_accuracy: 0.8190\n",
      "Epoch 149/300\n",
      "4000/4000 [==============================] - 0s 48us/step - loss: 0.4133 - categorical_accuracy: 0.8153\n",
      "Epoch 150/300\n",
      "4000/4000 [==============================] - 0s 47us/step - loss: 0.4102 - categorical_accuracy: 0.8155\n",
      "Epoch 151/300\n",
      "4000/4000 [==============================] - 0s 49us/step - loss: 0.4093 - categorical_accuracy: 0.8180\n",
      "Epoch 152/300\n",
      "4000/4000 [==============================] - 0s 57us/step - loss: 0.4126 - categorical_accuracy: 0.8145\n",
      "Epoch 153/300\n",
      "4000/4000 [==============================] - 0s 48us/step - loss: 0.4115 - categorical_accuracy: 0.8125\n",
      "Epoch 154/300\n",
      "4000/4000 [==============================] - 0s 47us/step - loss: 0.4079 - categorical_accuracy: 0.8192\n",
      "Epoch 155/300\n",
      "4000/4000 [==============================] - 0s 55us/step - loss: 0.4061 - categorical_accuracy: 0.8200 0s - loss: 0.4217 - categorical_accuracy: \n",
      "Epoch 156/300\n",
      "4000/4000 [==============================] - 0s 49us/step - loss: 0.4111 - categorical_accuracy: 0.8185\n",
      "Epoch 157/300\n",
      "4000/4000 [==============================] - 0s 50us/step - loss: 0.4155 - categorical_accuracy: 0.8175\n",
      "Epoch 158/300\n",
      "4000/4000 [==============================] - 0s 48us/step - loss: 0.4155 - categorical_accuracy: 0.8140\n",
      "Epoch 159/300\n",
      "4000/4000 [==============================] - 0s 52us/step - loss: 0.4059 - categorical_accuracy: 0.8147\n",
      "Epoch 160/300\n",
      "4000/4000 [==============================] - 0s 53us/step - loss: 0.4117 - categorical_accuracy: 0.8125\n",
      "Epoch 161/300\n",
      "4000/4000 [==============================] - 0s 54us/step - loss: 0.4225 - categorical_accuracy: 0.8140\n",
      "Epoch 162/300\n",
      "4000/4000 [==============================] - 0s 54us/step - loss: 0.4144 - categorical_accuracy: 0.8183\n",
      "Epoch 163/300\n",
      "4000/4000 [==============================] - 0s 53us/step - loss: 0.4119 - categorical_accuracy: 0.8155\n",
      "Epoch 164/300\n",
      "4000/4000 [==============================] - 0s 57us/step - loss: 0.4166 - categorical_accuracy: 0.8118\n",
      "Epoch 165/300\n",
      "4000/4000 [==============================] - 0s 62us/step - loss: 0.4039 - categorical_accuracy: 0.8243\n",
      "Epoch 166/300\n",
      "4000/4000 [==============================] - 0s 65us/step - loss: 0.4142 - categorical_accuracy: 0.8192 0s - loss: 0.4102 - categorical_accuracy: \n",
      "Epoch 167/300\n",
      "4000/4000 [==============================] - 0s 54us/step - loss: 0.4057 - categorical_accuracy: 0.8205\n",
      "Epoch 168/300\n",
      "4000/4000 [==============================] - 0s 53us/step - loss: 0.4091 - categorical_accuracy: 0.8217\n",
      "Epoch 169/300\n",
      "4000/4000 [==============================] - 0s 54us/step - loss: 0.4014 - categorical_accuracy: 0.8265\n",
      "Epoch 170/300\n",
      "4000/4000 [==============================] - 0s 54us/step - loss: 0.4143 - categorical_accuracy: 0.8153\n",
      "Epoch 171/300\n",
      "4000/4000 [==============================] - 0s 52us/step - loss: 0.3955 - categorical_accuracy: 0.8252\n",
      "Epoch 172/300\n",
      "4000/4000 [==============================] - 0s 50us/step - loss: 0.4057 - categorical_accuracy: 0.8187\n",
      "Epoch 173/300\n",
      "4000/4000 [==============================] - 0s 51us/step - loss: 0.4030 - categorical_accuracy: 0.8265\n",
      "Epoch 174/300\n",
      "4000/4000 [==============================] - 0s 55us/step - loss: 0.4030 - categorical_accuracy: 0.8192\n",
      "Epoch 175/300\n",
      "4000/4000 [==============================] - 0s 51us/step - loss: 0.3865 - categorical_accuracy: 0.8310\n",
      "Epoch 176/300\n",
      "4000/4000 [==============================] - 0s 48us/step - loss: 0.3957 - categorical_accuracy: 0.8225\n",
      "Epoch 177/300\n",
      "4000/4000 [==============================] - 0s 50us/step - loss: 0.4088 - categorical_accuracy: 0.8162\n",
      "Epoch 178/300\n",
      "4000/4000 [==============================] - ETA: 0s - loss: 0.3949 - categorical_accuracy: 0.82 - 0s 49us/step - loss: 0.3964 - categorical_accuracy: 0.8192\n",
      "Epoch 179/300\n",
      "4000/4000 [==============================] - 0s 49us/step - loss: 0.4043 - categorical_accuracy: 0.8167\n",
      "Epoch 180/300\n",
      "4000/4000 [==============================] - ETA: 0s - loss: 0.3994 - categorical_accuracy: 0.81 - 0s 49us/step - loss: 0.4075 - categorical_accuracy: 0.8167\n",
      "Epoch 181/300\n",
      "4000/4000 [==============================] - 0s 48us/step - loss: 0.4171 - categorical_accuracy: 0.8137\n",
      "Epoch 182/300\n",
      "4000/4000 [==============================] - 0s 50us/step - loss: 0.3982 - categorical_accuracy: 0.8190\n",
      "Epoch 183/300\n",
      "4000/4000 [==============================] - 0s 48us/step - loss: 0.4168 - categorical_accuracy: 0.8180\n",
      "Epoch 184/300\n",
      "4000/4000 [==============================] - 0s 50us/step - loss: 0.4193 - categorical_accuracy: 0.8070\n",
      "Epoch 185/300\n",
      "4000/4000 [==============================] - 0s 49us/step - loss: 0.3952 - categorical_accuracy: 0.8273\n",
      "Epoch 186/300\n",
      "4000/4000 [==============================] - 0s 51us/step - loss: 0.4063 - categorical_accuracy: 0.8135\n",
      "Epoch 187/300\n",
      "4000/4000 [==============================] - 0s 48us/step - loss: 0.4129 - categorical_accuracy: 0.8113\n",
      "Epoch 188/300\n",
      "4000/4000 [==============================] - 0s 53us/step - loss: 0.4101 - categorical_accuracy: 0.8145\n",
      "Epoch 189/300\n",
      "4000/4000 [==============================] - 0s 51us/step - loss: 0.4145 - categorical_accuracy: 0.8230\n",
      "Epoch 190/300\n",
      "4000/4000 [==============================] - 0s 59us/step - loss: 0.3984 - categorical_accuracy: 0.8205\n",
      "Epoch 191/300\n",
      "4000/4000 [==============================] - 0s 52us/step - loss: 0.3995 - categorical_accuracy: 0.8222\n",
      "Epoch 192/300\n",
      "4000/4000 [==============================] - 0s 50us/step - loss: 0.4091 - categorical_accuracy: 0.8187\n",
      "Epoch 193/300\n",
      "4000/4000 [==============================] - 0s 51us/step - loss: 0.4127 - categorical_accuracy: 0.8127\n",
      "Epoch 194/300\n",
      "4000/4000 [==============================] - 0s 57us/step - loss: 0.4002 - categorical_accuracy: 0.8205\n",
      "Epoch 195/300\n",
      "4000/4000 [==============================] - 0s 62us/step - loss: 0.4102 - categorical_accuracy: 0.8132\n",
      "Epoch 196/300\n",
      "4000/4000 [==============================] - 0s 50us/step - loss: 0.4147 - categorical_accuracy: 0.8160\n",
      "Epoch 197/300\n",
      "4000/4000 [==============================] - 0s 51us/step - loss: 0.4001 - categorical_accuracy: 0.8213\n",
      "Epoch 198/300\n",
      "4000/4000 [==============================] - 0s 61us/step - loss: 0.3993 - categorical_accuracy: 0.8235\n",
      "Epoch 199/300\n",
      "4000/4000 [==============================] - 0s 58us/step - loss: 0.4038 - categorical_accuracy: 0.8123\n",
      "Epoch 200/300\n",
      "4000/4000 [==============================] - 0s 59us/step - loss: 0.4149 - categorical_accuracy: 0.8162\n",
      "Epoch 201/300\n",
      "4000/4000 [==============================] - ETA: 0s - loss: 0.3900 - categorical_accuracy: 0.81 - 0s 47us/step - loss: 0.3937 - categorical_accuracy: 0.8170\n",
      "Epoch 202/300\n",
      "4000/4000 [==============================] - 0s 58us/step - loss: 0.3929 - categorical_accuracy: 0.8285\n",
      "Epoch 203/300\n"
     ]
    },
    {
     "name": "stdout",
     "output_type": "stream",
     "text": [
      "4000/4000 [==============================] - 0s 52us/step - loss: 0.4142 - categorical_accuracy: 0.8167\n",
      "Epoch 204/300\n",
      "4000/4000 [==============================] - 0s 55us/step - loss: 0.4024 - categorical_accuracy: 0.8205\n",
      "Epoch 205/300\n",
      "4000/4000 [==============================] - 0s 53us/step - loss: 0.3965 - categorical_accuracy: 0.8220\n",
      "Epoch 206/300\n",
      "4000/4000 [==============================] - 0s 60us/step - loss: 0.4112 - categorical_accuracy: 0.8127\n",
      "Epoch 207/300\n",
      "4000/4000 [==============================] - 0s 63us/step - loss: 0.3957 - categorical_accuracy: 0.8247\n",
      "Epoch 208/300\n",
      "4000/4000 [==============================] - 0s 61us/step - loss: 0.4049 - categorical_accuracy: 0.8203\n",
      "Epoch 209/300\n",
      "4000/4000 [==============================] - 0s 60us/step - loss: 0.4000 - categorical_accuracy: 0.8220\n",
      "Epoch 210/300\n",
      "4000/4000 [==============================] - 0s 53us/step - loss: 0.4018 - categorical_accuracy: 0.8143\n",
      "Epoch 211/300\n",
      "4000/4000 [==============================] - 0s 58us/step - loss: 0.3962 - categorical_accuracy: 0.8265\n",
      "Epoch 212/300\n",
      "4000/4000 [==============================] - 0s 59us/step - loss: 0.3941 - categorical_accuracy: 0.8243\n",
      "Epoch 213/300\n",
      "4000/4000 [==============================] - 0s 51us/step - loss: 0.3984 - categorical_accuracy: 0.8185\n",
      "Epoch 214/300\n",
      "4000/4000 [==============================] - 0s 48us/step - loss: 0.3973 - categorical_accuracy: 0.8233\n",
      "Epoch 215/300\n",
      "4000/4000 [==============================] - 0s 52us/step - loss: 0.3983 - categorical_accuracy: 0.8233 0s - loss: 0.3803 - categorical_accuracy: \n",
      "Epoch 216/300\n",
      "4000/4000 [==============================] - 0s 49us/step - loss: 0.3996 - categorical_accuracy: 0.8220\n",
      "Epoch 217/300\n",
      "4000/4000 [==============================] - 0s 52us/step - loss: 0.3923 - categorical_accuracy: 0.8365\n",
      "Epoch 218/300\n",
      "4000/4000 [==============================] - 0s 49us/step - loss: 0.3986 - categorical_accuracy: 0.8200\n",
      "Epoch 219/300\n",
      "4000/4000 [==============================] - 0s 53us/step - loss: 0.3971 - categorical_accuracy: 0.8233 0s - loss: 0.3942 - categorical_accuracy: 0.82\n",
      "Epoch 220/300\n",
      "4000/4000 [==============================] - 0s 48us/step - loss: 0.4052 - categorical_accuracy: 0.8180\n",
      "Epoch 221/300\n",
      "4000/4000 [==============================] - ETA: 0s - loss: 0.3914 - categorical_accuracy: 0.82 - 0s 53us/step - loss: 0.3945 - categorical_accuracy: 0.8250\n",
      "Epoch 222/300\n",
      "4000/4000 [==============================] - 0s 55us/step - loss: 0.3964 - categorical_accuracy: 0.8235\n",
      "Epoch 223/300\n",
      "4000/4000 [==============================] - 0s 55us/step - loss: 0.4014 - categorical_accuracy: 0.8243\n",
      "Epoch 224/300\n",
      "4000/4000 [==============================] - 0s 57us/step - loss: 0.3962 - categorical_accuracy: 0.8245\n",
      "Epoch 225/300\n",
      "4000/4000 [==============================] - 0s 53us/step - loss: 0.3862 - categorical_accuracy: 0.8282\n",
      "Epoch 226/300\n",
      "4000/4000 [==============================] - 0s 52us/step - loss: 0.4025 - categorical_accuracy: 0.8173\n",
      "Epoch 227/300\n",
      "4000/4000 [==============================] - 0s 48us/step - loss: 0.3902 - categorical_accuracy: 0.8265\n",
      "Epoch 228/300\n",
      "4000/4000 [==============================] - 0s 50us/step - loss: 0.3891 - categorical_accuracy: 0.8315\n",
      "Epoch 229/300\n",
      "4000/4000 [==============================] - 0s 55us/step - loss: 0.3950 - categorical_accuracy: 0.8230\n",
      "Epoch 230/300\n",
      "4000/4000 [==============================] - 0s 52us/step - loss: 0.4013 - categorical_accuracy: 0.8233\n",
      "Epoch 231/300\n",
      "4000/4000 [==============================] - 0s 56us/step - loss: 0.3948 - categorical_accuracy: 0.8267\n",
      "Epoch 232/300\n",
      "4000/4000 [==============================] - 0s 63us/step - loss: 0.3959 - categorical_accuracy: 0.8230\n",
      "Epoch 233/300\n",
      "4000/4000 [==============================] - 0s 58us/step - loss: 0.4012 - categorical_accuracy: 0.8157\n",
      "Epoch 234/300\n",
      "4000/4000 [==============================] - 0s 58us/step - loss: 0.3956 - categorical_accuracy: 0.8230\n",
      "Epoch 235/300\n",
      "4000/4000 [==============================] - 0s 51us/step - loss: 0.3972 - categorical_accuracy: 0.8230\n",
      "Epoch 236/300\n",
      "4000/4000 [==============================] - 0s 48us/step - loss: 0.3837 - categorical_accuracy: 0.8303\n",
      "Epoch 237/300\n",
      "4000/4000 [==============================] - 0s 53us/step - loss: 0.3999 - categorical_accuracy: 0.8222\n",
      "Epoch 238/300\n",
      "4000/4000 [==============================] - 0s 53us/step - loss: 0.3996 - categorical_accuracy: 0.8247\n",
      "Epoch 239/300\n",
      "4000/4000 [==============================] - 0s 54us/step - loss: 0.3918 - categorical_accuracy: 0.8270\n",
      "Epoch 240/300\n",
      "4000/4000 [==============================] - 0s 50us/step - loss: 0.3990 - categorical_accuracy: 0.8153\n",
      "Epoch 241/300\n",
      "4000/4000 [==============================] - 0s 49us/step - loss: 0.4029 - categorical_accuracy: 0.8175\n",
      "Epoch 242/300\n",
      "4000/4000 [==============================] - 0s 61us/step - loss: 0.3848 - categorical_accuracy: 0.8263\n",
      "Epoch 243/300\n",
      "4000/4000 [==============================] - 0s 55us/step - loss: 0.3923 - categorical_accuracy: 0.8247\n",
      "Epoch 244/300\n",
      "4000/4000 [==============================] - 0s 58us/step - loss: 0.3991 - categorical_accuracy: 0.8210\n",
      "Epoch 245/300\n",
      "4000/4000 [==============================] - 0s 48us/step - loss: 0.3968 - categorical_accuracy: 0.8220\n",
      "Epoch 246/300\n",
      "4000/4000 [==============================] - 0s 51us/step - loss: 0.3985 - categorical_accuracy: 0.8205\n",
      "Epoch 247/300\n",
      "4000/4000 [==============================] - 0s 51us/step - loss: 0.3955 - categorical_accuracy: 0.8222\n",
      "Epoch 248/300\n",
      "4000/4000 [==============================] - 0s 49us/step - loss: 0.3911 - categorical_accuracy: 0.8260\n",
      "Epoch 249/300\n",
      "4000/4000 [==============================] - 0s 47us/step - loss: 0.4069 - categorical_accuracy: 0.8147\n",
      "Epoch 250/300\n",
      "4000/4000 [==============================] - 0s 50us/step - loss: 0.4087 - categorical_accuracy: 0.8130\n",
      "Epoch 251/300\n",
      "4000/4000 [==============================] - 0s 50us/step - loss: 0.3850 - categorical_accuracy: 0.8337\n",
      "Epoch 252/300\n",
      "4000/4000 [==============================] - 0s 51us/step - loss: 0.4021 - categorical_accuracy: 0.8210\n",
      "Epoch 253/300\n",
      "4000/4000 [==============================] - 0s 53us/step - loss: 0.3908 - categorical_accuracy: 0.8303\n",
      "Epoch 254/300\n",
      "4000/4000 [==============================] - 0s 58us/step - loss: 0.3883 - categorical_accuracy: 0.8237\n",
      "Epoch 255/300\n",
      "4000/4000 [==============================] - 0s 49us/step - loss: 0.3856 - categorical_accuracy: 0.8323\n",
      "Epoch 256/300\n",
      "4000/4000 [==============================] - 0s 51us/step - loss: 0.3973 - categorical_accuracy: 0.8200\n",
      "Epoch 257/300\n",
      "4000/4000 [==============================] - 0s 76us/step - loss: 0.3922 - categorical_accuracy: 0.8245\n",
      "Epoch 258/300\n",
      "4000/4000 [==============================] - 0s 69us/step - loss: 0.3970 - categorical_accuracy: 0.8207\n",
      "Epoch 259/300\n",
      "4000/4000 [==============================] - 0s 65us/step - loss: 0.4059 - categorical_accuracy: 0.8162\n",
      "Epoch 260/300\n",
      "4000/4000 [==============================] - 0s 70us/step - loss: 0.3995 - categorical_accuracy: 0.8190\n",
      "Epoch 261/300\n",
      "4000/4000 [==============================] - 0s 56us/step - loss: 0.3975 - categorical_accuracy: 0.8243\n",
      "Epoch 262/300\n",
      "4000/4000 [==============================] - 0s 56us/step - loss: 0.3965 - categorical_accuracy: 0.8250\n",
      "Epoch 263/300\n",
      "4000/4000 [==============================] - 0s 61us/step - loss: 0.3893 - categorical_accuracy: 0.8263\n",
      "Epoch 264/300\n",
      "4000/4000 [==============================] - 0s 54us/step - loss: 0.4050 - categorical_accuracy: 0.8145\n",
      "Epoch 265/300\n",
      "4000/4000 [==============================] - 0s 48us/step - loss: 0.3916 - categorical_accuracy: 0.8327\n",
      "Epoch 266/300\n",
      "4000/4000 [==============================] - 0s 50us/step - loss: 0.3883 - categorical_accuracy: 0.8235\n",
      "Epoch 267/300\n",
      "4000/4000 [==============================] - 0s 48us/step - loss: 0.3936 - categorical_accuracy: 0.8260\n",
      "Epoch 268/300\n",
      "4000/4000 [==============================] - 0s 64us/step - loss: 0.3999 - categorical_accuracy: 0.8185\n",
      "Epoch 269/300\n",
      "4000/4000 [==============================] - 0s 74us/step - loss: 0.3818 - categorical_accuracy: 0.8275\n",
      "Epoch 270/300\n",
      "4000/4000 [==============================] - 0s 52us/step - loss: 0.3898 - categorical_accuracy: 0.8270\n",
      "Epoch 271/300\n"
     ]
    },
    {
     "name": "stdout",
     "output_type": "stream",
     "text": [
      "4000/4000 [==============================] - 0s 55us/step - loss: 0.3994 - categorical_accuracy: 0.8192\n",
      "Epoch 272/300\n",
      "4000/4000 [==============================] - 0s 60us/step - loss: 0.3872 - categorical_accuracy: 0.8297\n",
      "Epoch 273/300\n",
      "4000/4000 [==============================] - 0s 69us/step - loss: 0.3908 - categorical_accuracy: 0.8233\n",
      "Epoch 274/300\n",
      "4000/4000 [==============================] - 0s 70us/step - loss: 0.3980 - categorical_accuracy: 0.8237\n",
      "Epoch 275/300\n",
      "4000/4000 [==============================] - 0s 59us/step - loss: 0.3972 - categorical_accuracy: 0.8203\n",
      "Epoch 276/300\n",
      "4000/4000 [==============================] - 0s 79us/step - loss: 0.3937 - categorical_accuracy: 0.8235\n",
      "Epoch 277/300\n",
      "4000/4000 [==============================] - 0s 66us/step - loss: 0.3845 - categorical_accuracy: 0.8282\n",
      "Epoch 278/300\n",
      "4000/4000 [==============================] - 0s 54us/step - loss: 0.4045 - categorical_accuracy: 0.8225\n",
      "Epoch 279/300\n",
      "4000/4000 [==============================] - 0s 65us/step - loss: 0.3813 - categorical_accuracy: 0.8250\n",
      "Epoch 280/300\n",
      "4000/4000 [==============================] - 0s 59us/step - loss: 0.3890 - categorical_accuracy: 0.8263\n",
      "Epoch 281/300\n",
      "4000/4000 [==============================] - 0s 51us/step - loss: 0.3978 - categorical_accuracy: 0.8227\n",
      "Epoch 282/300\n",
      "4000/4000 [==============================] - 0s 52us/step - loss: 0.3897 - categorical_accuracy: 0.8207\n",
      "Epoch 283/300\n",
      "4000/4000 [==============================] - 0s 53us/step - loss: 0.3904 - categorical_accuracy: 0.8247\n",
      "Epoch 284/300\n",
      "4000/4000 [==============================] - 0s 58us/step - loss: 0.3925 - categorical_accuracy: 0.8255\n",
      "Epoch 285/300\n",
      "4000/4000 [==============================] - 0s 90us/step - loss: 0.3946 - categorical_accuracy: 0.8243\n",
      "Epoch 286/300\n",
      "4000/4000 [==============================] - 0s 89us/step - loss: 0.3895 - categorical_accuracy: 0.8222 0s - loss: 0.3763 - categorical_accuracy: 0.\n",
      "Epoch 287/300\n",
      "4000/4000 [==============================] - 0s 92us/step - loss: 0.3865 - categorical_accuracy: 0.8300\n",
      "Epoch 288/300\n",
      "4000/4000 [==============================] - 0s 63us/step - loss: 0.3924 - categorical_accuracy: 0.8255\n",
      "Epoch 289/300\n",
      "4000/4000 [==============================] - 0s 50us/step - loss: 0.3956 - categorical_accuracy: 0.8260\n",
      "Epoch 290/300\n",
      "4000/4000 [==============================] - 0s 52us/step - loss: 0.3819 - categorical_accuracy: 0.8290\n",
      "Epoch 291/300\n",
      "4000/4000 [==============================] - 0s 50us/step - loss: 0.3939 - categorical_accuracy: 0.8260\n",
      "Epoch 292/300\n",
      "4000/4000 [==============================] - 0s 60us/step - loss: 0.3989 - categorical_accuracy: 0.8215\n",
      "Epoch 293/300\n",
      "4000/4000 [==============================] - 0s 61us/step - loss: 0.3945 - categorical_accuracy: 0.8255\n",
      "Epoch 294/300\n",
      "4000/4000 [==============================] - 0s 52us/step - loss: 0.3834 - categorical_accuracy: 0.8237\n",
      "Epoch 295/300\n",
      "4000/4000 [==============================] - 0s 97us/step - loss: 0.3959 - categorical_accuracy: 0.8245\n",
      "Epoch 296/300\n",
      "4000/4000 [==============================] - 0s 74us/step - loss: 0.3867 - categorical_accuracy: 0.8220\n",
      "Epoch 297/300\n",
      "4000/4000 [==============================] - 0s 58us/step - loss: 0.3924 - categorical_accuracy: 0.8203\n",
      "Epoch 298/300\n",
      "4000/4000 [==============================] - 0s 91us/step - loss: 0.3851 - categorical_accuracy: 0.8247\n",
      "Epoch 299/300\n",
      "4000/4000 [==============================] - 0s 77us/step - loss: 0.3869 - categorical_accuracy: 0.8315\n",
      "Epoch 300/300\n",
      "4000/4000 [==============================] - 0s 52us/step - loss: 0.3972 - categorical_accuracy: 0.8180\n"
     ]
    },
    {
     "data": {
      "text/plain": [
       "<keras.callbacks.History at 0x7f98878db710>"
      ]
     },
     "execution_count": 8,
     "metadata": {},
     "output_type": "execute_result"
    }
   ],
   "source": [
    "model.fit(X_train, y_train, epochs=300, batch_size=128)"
   ]
  },
  {
   "cell_type": "code",
   "execution_count": 9,
   "metadata": {},
   "outputs": [
    {
     "name": "stdout",
     "output_type": "stream",
     "text": [
      "1000/1000 [==============================] - 0s 203us/step\n"
     ]
    },
    {
     "data": {
      "text/plain": [
       "[0.728306468963623, 0.636]"
      ]
     },
     "execution_count": 9,
     "metadata": {},
     "output_type": "execute_result"
    }
   ],
   "source": [
    "model.evaluate(X_test, y_test)"
   ]
  },
  {
   "cell_type": "code",
   "execution_count": 12,
   "metadata": {},
   "outputs": [
    {
     "data": {
      "text/plain": [
       "['loss', 'categorical_accuracy']"
      ]
     },
     "execution_count": 12,
     "metadata": {},
     "output_type": "execute_result"
    }
   ],
   "source": [
    "model.metrics_names"
   ]
  },
  {
   "cell_type": "code",
   "execution_count": 15,
   "metadata": {},
   "outputs": [],
   "source": [
    "new_model = innvestigate.utils.model_wo_softmax(model)"
   ]
  },
  {
   "cell_type": "code",
   "execution_count": 16,
   "metadata": {},
   "outputs": [],
   "source": [
    "a = innvestigate.analyzer.relevance_based.relevance_analyzer.LRPAlpha1Beta0(new_model, neuron_selection_mode='index')"
   ]
  },
  {
   "cell_type": "code",
   "execution_count": 76,
   "metadata": {},
   "outputs": [],
   "source": [
    "analysis_n0 = a.analyze(X_test, 0)\n",
    "analysis_n1 = a.analyze(X_test, 1)"
   ]
  },
  {
   "cell_type": "code",
   "execution_count": 80,
   "metadata": {},
   "outputs": [
    {
     "data": {
      "text/plain": [
       "array([359.06384, 912.45526, 202.21404, 125.46724, 210.218  , 163.81822,\n",
       "       197.5632 , 178.98962, 175.97333, 190.84613, 235.2155 , 229.51964,\n",
       "       199.56885, 219.28465, 140.60507, 141.37297], dtype=float32)"
      ]
     },
     "execution_count": 80,
     "metadata": {},
     "output_type": "execute_result"
    }
   ],
   "source": [
    "np.sum(np.abs(analysis_n0), axis=0)"
   ]
  },
  {
   "cell_type": "code",
   "execution_count": 79,
   "metadata": {},
   "outputs": [
    {
     "data": {
      "text/plain": [
       "array([182.56732 , 483.38803 ,  90.52731 ,  38.686573,  85.86376 ,\n",
       "        70.81913 ,  78.69268 ,  65.55648 ,  71.49202 ,  83.01515 ,\n",
       "        93.287415,  87.41766 ,  90.61343 ,  76.45172 ,  64.11714 ,\n",
       "        59.97343 ], dtype=float32)"
      ]
     },
     "execution_count": 79,
     "metadata": {},
     "output_type": "execute_result"
    }
   ],
   "source": [
    "np.sum(np.abs(analysis_n1), axis=0)"
   ]
  },
  {
   "cell_type": "code",
   "execution_count": 26,
   "metadata": {},
   "outputs": [
    {
     "data": {
      "text/plain": [
       "array([ 99.339554, 140.14102 ,  96.515594, 139.5579  , 124.68625 ,\n",
       "       139.09119 , 113.11871 , 149.26859 ,  83.30373 , 124.18385 ,\n",
       "       124.54954 , 149.53291 , 103.107574, 138.25873 , 166.87585 ,\n",
       "        78.31903 , 119.147316,  83.98619 , 117.44177 , 109.08168 ,\n",
       "       143.58737 , 110.34688 , 127.975266, 105.47957 , 131.32751 ,\n",
       "        99.38975 , 139.80046 , 299.96362 , 151.81097 , 122.50618 ,\n",
       "       104.439224, 108.18065 , 499.69598 , 127.15139 , 141.4978  ,\n",
       "       296.97452 , 123.133316, 106.046425, 113.658005, 112.66585 ,\n",
       "       148.85075 ,  97.67736 , 137.21814 , 125.38243 , 130.81549 ,\n",
       "       129.20818 , 100.69293 , 106.9875  , 124.96744 ,  91.64963 ,\n",
       "       122.73762 , 157.88995 ,  97.26775 ,  89.47073 , 128.26608 ,\n",
       "       103.01664 , 145.90744 ,  99.15196 , 115.18309 , 146.1477  ,\n",
       "        85.938255, 128.76228 ,  91.09634 ,  96.15109 ], dtype=float32)"
      ]
     },
     "execution_count": 26,
     "metadata": {},
     "output_type": "execute_result"
    }
   ],
   "source": [
    "(np.sum(np.abs(analysis_n0), axis=0) + np.sum(np.abs(analysis_n1), axis=0))"
   ]
  },
  {
   "cell_type": "code",
   "execution_count": 27,
   "metadata": {},
   "outputs": [
    {
     "data": {
      "text/plain": [
       "array([15,  8, 17, 60, 53, 62, 49, 63,  2, 52, 41, 57,  0, 25, 46, 55, 12,\n",
       "       30, 23, 37, 47, 31, 19, 21, 39,  6, 38, 58, 18, 16, 29, 50, 36,  9,\n",
       "       10,  4, 48, 43, 33, 22, 54, 61, 45, 44, 24, 42, 13,  5,  3, 26,  1,\n",
       "       34, 20, 56, 59, 40,  7, 11, 28, 51, 14, 35, 27, 32])"
      ]
     },
     "execution_count": 27,
     "metadata": {},
     "output_type": "execute_result"
    }
   ],
   "source": [
    "np.argsort((np.sum(np.abs(analysis_n0), axis=0) + np.sum(np.abs(analysis_n1), axis=0)))"
   ]
  },
  {
   "cell_type": "code",
   "execution_count": null,
   "metadata": {},
   "outputs": [],
   "source": [
    "a1 = innvestigate.analyzer.relevance_based.relevance_analyzer.LRPAlpha1Beta0(cut_last_layer(model), neuron_selection_mode='index')"
   ]
  },
  {
   "cell_type": "code",
   "execution_count": null,
   "metadata": {},
   "outputs": [],
   "source": [
    "a1.analyze(X_test, 2)[0]"
   ]
  },
  {
   "cell_type": "code",
   "execution_count": null,
   "metadata": {},
   "outputs": [],
   "source": [
    "a2 = innvestigate.analyzer.relevance_based.relevance_analyzer.LRPAlpha1Beta0(cut_last_layer(model, n=2), neuron_selection_mode='index')"
   ]
  },
  {
   "cell_type": "code",
   "execution_count": null,
   "metadata": {
    "scrolled": false
   },
   "outputs": [],
   "source": [
    "count = 0\n",
    "for arr in a2.analyze(X_test, 31):\n",
    "    if np.sum(arr) == 0:\n",
    "        count+=1\n",
    "\n",
    "print(count)"
   ]
  },
  {
   "cell_type": "code",
   "execution_count": null,
   "metadata": {},
   "outputs": [],
   "source": [
    "np.sum(a2.analyze(X_test, 31), axis=0)"
   ]
  },
  {
   "cell_type": "code",
   "execution_count": 28,
   "metadata": {},
   "outputs": [
    {
     "data": {
      "text/plain": [
       "array([ 24.198978 ,   5.4330654,  18.353344 ,  20.21186  , 147.38112  ,\n",
       "        21.705736 ,  19.620811 ,   1.3526926, 226.99542  ,  17.773066 ,\n",
       "        13.492573 ,  48.89484  ,  16.189135 ,  17.801525 ,  62.233307 ,\n",
       "        21.422846 ,  20.286646 ,  22.040644 ,  18.90143  ,   4.624758 ,\n",
       "        13.392555 ,  17.78278  ,  21.225489 ,  11.659458 ,  98.71338  ,\n",
       "        15.310058 ,   8.918158 ,   8.277944 ,  16.667187 ,  17.214766 ,\n",
       "        47.25463  ,  16.840668 ,  10.165367 ,  26.659868 ,  14.637087 ,\n",
       "        19.321383 ,  18.544174 ,   3.6446671,  11.676939 ,  22.426533 ,\n",
       "        19.399498 ,  16.564007 ,  17.04478  ,  12.790912 ,  27.558489 ,\n",
       "        21.002686 ,  13.666864 ,  15.740488 ,  29.78971  ,  10.3110285,\n",
       "         4.7441134,  21.16869  ,  12.333801 , 157.04886  ,  18.348265 ,\n",
       "         9.556163 ,  19.191208 ,  23.25707  ,  14.356097 ,  79.90362  ,\n",
       "         9.877087 ,  67.065315 ,  23.308184 ,  15.463832 ], dtype=float32)"
      ]
     },
     "execution_count": 28,
     "metadata": {},
     "output_type": "execute_result"
    }
   ],
   "source": [
    "(np.sum(a.analyze(X_test, 0), axis=0))"
   ]
  },
  {
   "cell_type": "code",
   "execution_count": null,
   "metadata": {},
   "outputs": [],
   "source": [
    "np.sum(a.analyze(X_test, 1)[0], axis=0)"
   ]
  },
  {
   "cell_type": "code",
   "execution_count": null,
   "metadata": {},
   "outputs": [],
   "source": [
    "a.analyze(X_test, 1)[0]"
   ]
  },
  {
   "cell_type": "code",
   "execution_count": 16,
   "metadata": {},
   "outputs": [],
   "source": [
    "dt_analysis = innvestigate.analyzer.DeepTaylor(new_model, neuron_selection_mode='index')"
   ]
  },
  {
   "cell_type": "code",
   "execution_count": 17,
   "metadata": {},
   "outputs": [],
   "source": [
    "res_n0 = dt_analysis.analyze(X_test[np.asarray(y_test[:,0] == 1).reshape(1000)], 1)"
   ]
  },
  {
   "cell_type": "code",
   "execution_count": 74,
   "metadata": {},
   "outputs": [
    {
     "data": {
      "text/plain": [
       "array([0.5884302 , 4.1642203 , 0.53397393, 0.12489966, 0.17320484,\n",
       "       0.29060334, 0.37110013, 0.33086884, 0.03110393, 0.20964508,\n",
       "       0.2124901 , 0.32885295, 0.44075388, 0.46450096, 0.2945367 ,\n",
       "       0.3022653 ], dtype=float32)"
      ]
     },
     "execution_count": 74,
     "metadata": {},
     "output_type": "execute_result"
    }
   ],
   "source": [
    "np.sum(res_n0, axis=0)"
   ]
  },
  {
   "cell_type": "code",
   "execution_count": 69,
   "metadata": {},
   "outputs": [
    {
     "data": {
      "text/plain": [
       "array([[ 2.81776381,  1.14494611, -0.43716025, ...,  0.01166994,\n",
       "         0.49618419, -0.84541549],\n",
       "       [-0.56113835, -2.04683639,  1.50387699, ...,  1.06602879,\n",
       "         0.59907378, -0.91454125],\n",
       "       [ 0.3676762 ,  0.30938325,  0.31790342, ...,  0.84448119,\n",
       "         0.43929896, -0.15437855],\n",
       "       ...,\n",
       "       [ 2.00269476, -1.16201906, -0.13187375, ..., -0.40881691,\n",
       "        -0.45981859, -0.28527456],\n",
       "       [-0.91613436, -0.89379655, -0.6858576 , ..., -0.85685856,\n",
       "         0.81398013, -1.41128751],\n",
       "       [ 0.81761772, -0.66103599, -0.73146746, ..., -3.83618185,\n",
       "        -1.13414511,  0.28349711]])"
      ]
     },
     "execution_count": 69,
     "metadata": {},
     "output_type": "execute_result"
    }
   ],
   "source": [
    "X_test[np.asarray(y_test[:,0] == 1).reshape(4000)]"
   ]
  },
  {
   "cell_type": "code",
   "execution_count": 34,
   "metadata": {},
   "outputs": [
    {
     "data": {
      "text/plain": [
       "1990"
      ]
     },
     "execution_count": 34,
     "metadata": {},
     "output_type": "execute_result"
    }
   ],
   "source": [
    "count = 0\n",
    "for val in np.asarray(y_test[:,0] == 1).reshape(4000):\n",
    "    if not val:\n",
    "        count +=1\n",
    "        \n",
    "count"
   ]
  },
  {
   "cell_type": "code",
   "execution_count": 42,
   "metadata": {},
   "outputs": [
    {
     "data": {
      "image/png": "[encoded data removed]",
      "text/plain": [
       "<Figure size 432x288 with 1 Axes>"
      ]
     },
     "metadata": {
      "needs_background": "light"
     },
     "output_type": "display_data"
    }
   ],
   "source": [
    "\n",
    "from sklearn.ensemble import ExtraTreesClassifier\n",
    "\n",
    "\n",
    "# Build a forest and compute the feature importances\n",
    "forest = ExtraTreesClassifier(n_estimators=500,\n",
    "                              random_state=1)\n",
    "\n",
    "forest.fit(X_train, y_train)\n",
    "importances = forest.feature_importances_\n",
    "std = np.std([tree.feature_importances_ for tree in forest.estimators_],\n",
    "             axis=0)\n",
    "indices = np.argsort(importances)[::-1]\n",
    "\n",
    "# Print the feature ranking\n",
    "#print(\"Feature ranking:\")\n",
    "\n",
    "\n",
    "# Plot the feature importances of the forest\n",
    "plt.figure()\n",
    "plt.title(\"Feature importances\")\n",
    "plt.bar(range(16), importances[indices][:16],\n",
    "       color=\"r\", align=\"center\")\n",
    "plt.xticks(range(16), indices)\n",
    "plt.xlim([-1, 16])\n",
    "plt.show()\n"
   ]
  },
  {
   "cell_type": "code",
   "execution_count": null,
   "metadata": {},
   "outputs": [],
   "source": []
  },
  {
   "cell_type": "code",
   "execution_count": 26,
   "metadata": {},
   "outputs": [
    {
     "data": {
      "image/png": "[encoded data removed]",
      "text/plain": [
       "<Figure size 432x288 with 1 Axes>"
      ]
     },
     "metadata": {
      "needs_background": "light"
     },
     "output_type": "display_data"
    }
   ],
   "source": [
    "summed_res = np.sum(res_n0, axis=0)\n",
    "norm_summed_res = summed_res/np.sum(summed_res)\n",
    "\n",
    "indices = np.argsort(norm_summed_res)[::-1]\n",
    "\n",
    "plt.figure()\n",
    "plt.title(\"Feature importances\")\n",
    "\n",
    "plt.bar(range(16), norm_summed_res[indices][:16],\n",
    "       color=\"r\", align=\"center\")\n",
    "plt.xticks(range(16), indices)\n",
    "plt.xlim([-1, 16])\n",
    "plt.show()"
   ]
  },
  {
   "cell_type": "code",
   "execution_count": 45,
   "metadata": {},
   "outputs": [
    {
     "data": {
      "image/png": "[encoded data removed]",
      "text/plain": [
       "<Figure size 432x288 with 1 Axes>"
      ]
     },
     "metadata": {
      "needs_background": "light"
     },
     "output_type": "display_data"
    }
   ],
   "source": [
    "summed_res = np.sum(res_n0, axis=0)\n",
    "norm_summed_res = summed_res/np.sum(summed_res)\n",
    "\n",
    "indices = np.argsort(norm_summed_res)[::-1]\n",
    "\n",
    "plt.figure()\n",
    "plt.title(\"Feature importances\")\n",
    "\n",
    "plt.bar(range(16), norm_summed_res[:16],\n",
    "       color=\"r\", align=\"center\")\n",
    "plt.xticks(range(16))\n",
    "plt.xlim()\n",
    "plt.show()"
   ]
  },
  {
   "cell_type": "code",
   "execution_count": 39,
   "metadata": {},
   "outputs": [
    {
     "data": {
      "image/png": "[encoded data removed]",
      "text/plain": [
       "<Figure size 432x288 with 1 Axes>"
      ]
     },
     "metadata": {
      "needs_background": "light"
     },
     "output_type": "display_data"
    }
   ],
   "source": [
    "summed_res = np.sum(res_n0, axis=0)\n",
    "norm_summed_res = summed_res/np.sum(summed_res)\n",
    "\n",
    "indices = np.argsort(norm_summed_res)[::-1]\n",
    "\n",
    "plt.figure()\n",
    "plt.title(\"Feature importances\")\n",
    "\n",
    "plt.bar(range(16), norm_summed_res[indices][:16],\n",
    "       color=\"r\", align=\"center\")\n",
    "plt.xticks(range(16), indices)\n",
    "plt.xlim([-1, 16])\n",
    "plt.show()"
   ]
  },
  {
   "cell_type": "code",
   "execution_count": 82,
   "metadata": {},
   "outputs": [
    {
     "data": {
      "text/plain": [
       "16"
      ]
     },
     "execution_count": 82,
     "metadata": {},
     "output_type": "execute_result"
    }
   ],
   "source": [
    "res_n0.shape[1]"
   ]
  },
  {
   "cell_type": "code",
   "execution_count": 90,
   "metadata": {},
   "outputs": [],
   "source": [
    "from sklearn.preprocessing import Normalizer"
   ]
  },
  {
   "cell_type": "code",
   "execution_count": 92,
   "metadata": {},
   "outputs": [
    {
     "data": {
      "text/plain": [
       "array([0.14130622, 1.        , 0.12822904, 0.02999353, 0.04159358,\n",
       "       0.06978577, 0.08911635, 0.07945517, 0.00746933, 0.05034438,\n",
       "       0.05102758, 0.07897107, 0.10584307, 0.11154572, 0.07073034,\n",
       "       0.07258628], dtype=float32)"
      ]
     },
     "execution_count": 92,
     "metadata": {},
     "output_type": "execute_result"
    }
   ],
   "source": [
    "\n",
    "norm_summed_res"
   ]
  },
  {
   "cell_type": "code",
   "execution_count": 19,
   "metadata": {},
   "outputs": [],
   "source": [
    "res_n0 = dt_analysis.analyze(X_test, 0)"
   ]
  },
  {
   "cell_type": "code",
   "execution_count": 20,
   "metadata": {},
   "outputs": [],
   "source": [
    "res_n1 = dt_analysis.analyze(X_test, 1)"
   ]
  },
  {
   "cell_type": "code",
   "execution_count": 21,
   "metadata": {},
   "outputs": [],
   "source": [
    "res_comb = res_n1 + res_n0"
   ]
  },
  {
   "cell_type": "code",
   "execution_count": 24,
   "metadata": {},
   "outputs": [
    {
     "data": {
      "image/png": "[encoded data removed]",
      "text/plain": [
       "<Figure size 432x288 with 1 Axes>"
      ]
     },
     "metadata": {
      "needs_background": "light"
     },
     "output_type": "display_data"
    }
   ],
   "source": [
    "summed_res = np.sum(res_comb, axis=0)\n",
    "norm_summed_res = summed_res/np.sum(summed_res)\n",
    "\n",
    "indices = np.argsort(norm_summed_res)[::-1]\n",
    "\n",
    "plt.figure()\n",
    "plt.title(\"Feature importances\")\n",
    "\n",
    "plt.bar(range(16), norm_summed_res[indices][:16],\n",
    "       color=\"r\", align=\"center\")\n",
    "plt.xticks(range(16), indices)\n",
    "plt.xlim([-1, 16])\n",
    "plt.show()"
   ]
  },
  {
   "cell_type": "code",
   "execution_count": 25,
   "metadata": {},
   "outputs": [
    {
     "name": "stdout",
     "output_type": "stream",
     "text": [
      "1000/1000 [==============================] - 0s 131us/step\n"
     ]
    },
    {
     "data": {
      "text/plain": [
       "[0.6845896492004394, 0.604]"
      ]
     },
     "execution_count": 25,
     "metadata": {},
     "output_type": "execute_result"
    }
   ],
   "source": [
    "model.evaluate(X_test, y_test)"
   ]
  }
 ],
 "metadata": {
  "kernelspec": {
   "display_name": "Python 3",
   "language": "python",
   "name": "python3"
  },
  "language_info": {
   "codemirror_mode": {
    "name": "ipython",
    "version": 3
   },
   "file_extension": ".py",
   "mimetype": "text/x-python",
   "name": "python",
   "nbconvert_exporter": "python",
   "pygments_lexer": "ipython3",
   "version": "3.6.5"
  }
 },
 "nbformat": 4,
 "nbformat_minor": 2
}
