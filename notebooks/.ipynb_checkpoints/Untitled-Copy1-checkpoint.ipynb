{
 "cells": [
  {
   "cell_type": "code",
   "execution_count": 2,
   "metadata": {},
   "outputs": [],
   "source": [
    "%load_ext autoreload"
   ]
  },
  {
   "cell_type": "code",
   "execution_count": 3,
   "metadata": {},
   "outputs": [],
   "source": [
    "%autoreload 2"
   ]
  },
  {
   "cell_type": "code",
   "execution_count": 46,
   "metadata": {},
   "outputs": [],
   "source": [
    "import tensorflow as tf\n",
    "import numpy as np\n",
    "from sklearn.datasets import make_classification\n",
    "import keras \n",
    "import keras.backend as K"
   ]
  },
  {
   "cell_type": "code",
   "execution_count": 4,
   "metadata": {},
   "outputs": [],
   "source": [
    "X, y = make_classification(n_samples=5000, n_features=64, n_informative=8)"
   ]
  },
  {
   "cell_type": "code",
   "execution_count": 5,
   "metadata": {},
   "outputs": [],
   "source": [
    "tf.enable_eager_execution()"
   ]
  },
  {
   "cell_type": "code",
   "execution_count": 6,
   "metadata": {},
   "outputs": [
    {
     "ename": "SyntaxError",
     "evalue": "unexpected EOF while parsing (<ipython-input-6-a59154833259>, line 2)",
     "output_type": "error",
     "traceback": [
      "\u001b[0;36m  File \u001b[0;32m\"<ipython-input-6-a59154833259>\"\u001b[0;36m, line \u001b[0;32m2\u001b[0m\n\u001b[0;31m    \u001b[0m\n\u001b[0m    ^\u001b[0m\n\u001b[0;31mSyntaxError\u001b[0m\u001b[0;31m:\u001b[0m unexpected EOF while parsing\n"
     ]
    }
   ],
   "source": [
    "K.gradients()"
   ]
  },
  {
   "cell_type": "code",
   "execution_count": 44,
   "metadata": {},
   "outputs": [
    {
     "data": {
      "text/plain": [
       "[<tf.Tensor 'dense_9/BiasAdd:0' shape=(?, 2) dtype=float32>]"
      ]
     },
     "execution_count": 44,
     "metadata": {},
     "output_type": "execute_result"
    }
   ],
   "source": [
    "keras.layers.Multiply()"
   ]
  },
  {
   "cell_type": "code",
   "execution_count": 115,
   "metadata": {},
   "outputs": [],
   "source": [
    "model = keras.Sequential([\n",
    "  keras.layers.core.Dense(32, activation=tf.nn.relu6, input_shape=(64,)),  # input shape required\n",
    "  keras.layers.Dense(16, activation=tf.nn.relu6),\n",
    "  keras.layers.Dense(2)\n",
    "])\n"
   ]
  },
  {
   "cell_type": "code",
   "execution_count": 116,
   "metadata": {},
   "outputs": [],
   "source": [
    "model.compile(optimizer=tf.train.RMSPropOptimizer(0.01),\n",
    "              loss=keras.losses.categorical_crossentropy,\n",
    "              metrics=[keras.metrics.categorical_accuracy])"
   ]
  },
  {
   "cell_type": "code",
   "execution_count": 21,
   "metadata": {
    "scrolled": true
   },
   "outputs": [
    {
     "ename": "ModuleNotFoundError",
     "evalue": "No module named 'tf'",
     "output_type": "error",
     "traceback": [
      "\u001b[0;31m---------------------------------------------------------------------------\u001b[0m",
      "\u001b[0;31mModuleNotFoundError\u001b[0m                       Traceback (most recent call last)",
      "\u001b[0;32m<ipython-input-21-adc931a1e518>\u001b[0m in \u001b[0;36m<module>\u001b[0;34m\u001b[0m\n\u001b[0;32m----> 1\u001b[0;31m \u001b[0;32mfrom\u001b[0m \u001b[0mtf\u001b[0m\u001b[0;34m.\u001b[0m\u001b[0mkeras\u001b[0m\u001b[0;34m.\u001b[0m\u001b[0mutils\u001b[0m \u001b[0;32mimport\u001b[0m \u001b[0mto_categorical\u001b[0m\u001b[0;34m\u001b[0m\u001b[0m\n\u001b[0m\u001b[1;32m      2\u001b[0m \u001b[0my_binary\u001b[0m \u001b[0;34m=\u001b[0m \u001b[0mto_categorical\u001b[0m\u001b[0;34m(\u001b[0m\u001b[0my\u001b[0m\u001b[0;34m)\u001b[0m\u001b[0;34m\u001b[0m\u001b[0m\n",
      "\u001b[0;31mModuleNotFoundError\u001b[0m: No module named 'tf'"
     ]
    }
   ],
   "source": []
  },
  {
   "cell_type": "code",
   "execution_count": 7,
   "metadata": {},
   "outputs": [],
   "source": [
    "from sklearn.preprocessing import OneHotEncoder"
   ]
  },
  {
   "cell_type": "code",
   "execution_count": 8,
   "metadata": {},
   "outputs": [
    {
     "name": "stderr",
     "output_type": "stream",
     "text": [
      "/home/chschrec/.local/share/virtualenvs/interpret-R0ok2QRq/lib/python3.6/site-packages/sklearn/preprocessing/_encoders.py:371: FutureWarning: The handling of integer data will change in version 0.22. Currently, the categories are determined based on the range [0, max(values)], while in the future they will be determined based on the unique values.\n",
      "If you want the future behaviour and silence this warning, you can specify \"categories='auto'\".\n",
      "In case you used a LabelEncoder before this OneHotEncoder to convert the categories to integers, then you can now use the OneHotEncoder directly.\n",
      "  warnings.warn(msg, FutureWarning)\n"
     ]
    }
   ],
   "source": [
    "le = OneHotEncoder()\n",
    "\n",
    "le = le.fit(y.reshape(-1,1))\n",
    "y_bin = le.transform(y.reshape(-1,1))"
   ]
  },
  {
   "cell_type": "code",
   "execution_count": 11,
   "metadata": {},
   "outputs": [
    {
     "data": {
      "text/plain": [
       "matrix([[1., 0.],\n",
       "        [1., 0.],\n",
       "        [1., 0.],\n",
       "        ...,\n",
       "        [1., 0.],\n",
       "        [1., 0.],\n",
       "        [1., 0.]])"
      ]
     },
     "execution_count": 11,
     "metadata": {},
     "output_type": "execute_result"
    }
   ],
   "source": [
    "y_bin.todense()"
   ]
  },
  {
   "cell_type": "code",
   "execution_count": null,
   "metadata": {},
   "outputs": [],
   "source": []
  },
  {
   "cell_type": "code",
   "execution_count": 117,
   "metadata": {
    "scrolled": true
   },
   "outputs": [
    {
     "name": "stdout",
     "output_type": "stream",
     "text": [
      "Epoch 1/30\n",
      "5000/5000 [==============================] - 1s 161us/step - loss: 0.8040 - categorical_accuracy: 0.2268\n",
      "Epoch 2/30\n",
      "5000/5000 [==============================] - 0s 82us/step - loss: 0.3816 - categorical_accuracy: 0.0906\n",
      "Epoch 3/30\n",
      "5000/5000 [==============================] - 0s 89us/step - loss: 0.2947 - categorical_accuracy: 0.0748\n",
      "Epoch 4/30\n",
      "5000/5000 [==============================] - 0s 78us/step - loss: 0.3270 - categorical_accuracy: 0.0632\n",
      "Epoch 5/30\n",
      "5000/5000 [==============================] - 0s 69us/step - loss: 0.2898 - categorical_accuracy: 0.0606\n",
      "Epoch 6/30\n",
      "5000/5000 [==============================] - 0s 75us/step - loss: 0.2830 - categorical_accuracy: 0.0532\n",
      "Epoch 7/30\n",
      "5000/5000 [==============================] - 0s 70us/step - loss: 0.3152 - categorical_accuracy: 0.0516\n",
      "Epoch 8/30\n",
      "5000/5000 [==============================] - 0s 68us/step - loss: 0.2775 - categorical_accuracy: 0.0466\n",
      "Epoch 9/30\n",
      "5000/5000 [==============================] - 0s 64us/step - loss: 0.2576 - categorical_accuracy: 0.0400\n",
      "Epoch 10/30\n",
      "5000/5000 [==============================] - 0s 75us/step - loss: 0.2822 - categorical_accuracy: 0.0376\n",
      "Epoch 11/30\n",
      "5000/5000 [==============================] - 0s 77us/step - loss: 0.5876 - categorical_accuracy: 0.0374\n",
      "Epoch 12/30\n",
      "5000/5000 [==============================] - 0s 61us/step - loss: 0.2983 - categorical_accuracy: 0.0354\n",
      "Epoch 13/30\n",
      "5000/5000 [==============================] - 0s 91us/step - loss: 0.3008 - categorical_accuracy: 0.0324\n",
      "Epoch 14/30\n",
      "5000/5000 [==============================] - 0s 98us/step - loss: 0.2728 - categorical_accuracy: 0.0302\n",
      "Epoch 15/30\n",
      "5000/5000 [==============================] - 1s 109us/step - loss: 0.3380 - categorical_accuracy: 0.0322\n",
      "Epoch 16/30\n",
      "5000/5000 [==============================] - 0s 69us/step - loss: 0.2605 - categorical_accuracy: 0.0272\n",
      "Epoch 17/30\n",
      "5000/5000 [==============================] - 1s 104us/step - loss: 0.2168 - categorical_accuracy: 0.0232\n",
      "Epoch 18/30\n",
      "5000/5000 [==============================] - 1s 110us/step - loss: 0.1948 - categorical_accuracy: 0.0198\n",
      "Epoch 19/30\n",
      "5000/5000 [==============================] - 1s 140us/step - loss: 0.2009 - categorical_accuracy: 0.0212\n",
      "Epoch 20/30\n",
      "5000/5000 [==============================] - 0s 96us/step - loss: 0.1591 - categorical_accuracy: 0.0160\n",
      "Epoch 21/30\n",
      "5000/5000 [==============================] - 0s 87us/step - loss: 0.1886 - categorical_accuracy: 0.0164\n",
      "Epoch 22/30\n",
      "5000/5000 [==============================] - 1s 108us/step - loss: 0.1584 - categorical_accuracy: 0.0130\n",
      "Epoch 23/30\n",
      "5000/5000 [==============================] - 1s 103us/step - loss: 1.4734 - categorical_accuracy: 0.0180\n",
      "Epoch 24/30\n",
      "5000/5000 [==============================] - 0s 95us/step - loss: 3.3179 - categorical_accuracy: 0.0184\n",
      "Epoch 25/30\n",
      "5000/5000 [==============================] - 0s 99us/step - loss: 2.6651 - categorical_accuracy: 0.0180\n",
      "Epoch 26/30\n",
      "5000/5000 [==============================] - 1s 111us/step - loss: 1.6269 - categorical_accuracy: 0.0156\n",
      "Epoch 27/30\n",
      "5000/5000 [==============================] - 1s 114us/step - loss: 1.9326 - categorical_accuracy: 0.0172TA: 0s - loss: 0.7822 - categorica\n",
      "Epoch 28/30\n",
      "5000/5000 [==============================] - 1s 104us/step - loss: 1.5226 - categorical_accuracy: 0.0182\n",
      "Epoch 29/30\n",
      "5000/5000 [==============================] - 0s 96us/step - loss: 5.8274 - categorical_accuracy: 0.0174\n",
      "Epoch 30/30\n",
      "5000/5000 [==============================] - 1s 104us/step - loss: 7.2547 - categorical_accuracy: 0.0256\n"
     ]
    },
    {
     "data": {
      "text/plain": [
       "<keras.callbacks.History at 0x7f103266e8d0>"
      ]
     },
     "execution_count": 117,
     "metadata": {},
     "output_type": "execute_result"
    }
   ],
   "source": [
    "model.fit(X,y_bin.todense(), epochs=30)"
   ]
  },
  {
   "cell_type": "code",
   "execution_count": 26,
   "metadata": {},
   "outputs": [
    {
     "data": {
      "text/plain": [
       "array([[10.087797 , -7.8202844],\n",
       "       [ 5.1757474, -3.6478474],\n",
       "       [ 5.2577424, -3.3612437],\n",
       "       ...,\n",
       "       [ 9.694464 , -6.790212 ],\n",
       "       [ 6.197085 , -5.036108 ],\n",
       "       [ 8.373802 , -7.195364 ]], dtype=float32)"
      ]
     },
     "execution_count": 26,
     "metadata": {},
     "output_type": "execute_result"
    }
   ],
   "source": [
    "model.predict(X)"
   ]
  },
  {
   "cell_type": "code",
   "execution_count": 11,
   "metadata": {},
   "outputs": [],
   "source": [
    "import innvestigate"
   ]
  },
  {
   "cell_type": "code",
   "execution_count": 27,
   "metadata": {},
   "outputs": [],
   "source": [
    "analyzer = innvestigate.analyzer.relevance_based.relevance_analyzer.LRPAlpha1Beta0(model)"
   ]
  },
  {
   "cell_type": "code",
   "execution_count": 35,
   "metadata": {},
   "outputs": [
    {
     "data": {
      "text/plain": [
       "innvestigate.analyzer.relevance_based.relevance_analyzer.LRPAlpha1Beta0"
      ]
     },
     "execution_count": 35,
     "metadata": {},
     "output_type": "execute_result"
    }
   ],
   "source": [
    "analyzer."
   ]
  },
  {
   "cell_type": "code",
   "execution_count": 28,
   "metadata": {},
   "outputs": [],
   "source": [
    "analysis = analyzer.analyze(X)"
   ]
  },
  {
   "cell_type": "code",
   "execution_count": null,
   "metadata": {},
   "outputs": [],
   "source": []
  },
  {
   "cell_type": "code",
   "execution_count": 30,
   "metadata": {},
   "outputs": [
    {
     "data": {
      "text/plain": [
       "array([[ 0.29695714,  0.00777622,  0.71848883, ...,  0.91729687,\n",
       "         1.85053899,  2.95834429],\n",
       "       [ 2.07125888, -0.47394441,  0.7111686 , ..., -1.11819785,\n",
       "         4.5343547 , -1.44932959],\n",
       "       [-0.43783894,  0.22069602,  0.09993105, ..., -0.61603824,\n",
       "        -0.86477446, -0.46826356],\n",
       "       ...,\n",
       "       [-1.1648148 ,  0.85132771, -0.54166518, ..., -0.25182669,\n",
       "         2.31217896,  0.33142493],\n",
       "       [-0.93167154, -2.4315975 ,  0.12469129, ..., -0.91679669,\n",
       "        -1.6678789 ,  0.29164808],\n",
       "       [-0.12699544, -1.19320753, -0.21478022, ...,  1.42400215,\n",
       "        -0.78967164, -0.17536896]])"
      ]
     },
     "execution_count": 30,
     "metadata": {},
     "output_type": "execute_result"
    }
   ],
   "source": [
    "X"
   ]
  },
  {
   "cell_type": "code",
   "execution_count": 42,
   "metadata": {},
   "outputs": [
    {
     "data": {
      "text/plain": [
       "array([0.07659585, 0.09645171, 0.05256432, 0.05756025, 0.05573735,\n",
       "       0.07201791, 0.0758444 , 0.22375701, 0.06526086, 0.07303772,\n",
       "       0.08242455, 0.17338201, 0.07368153, 0.06059192, 0.07823718,\n",
       "       0.0666748 , 0.08855344, 0.07631174, 0.0757632 , 0.07687382,\n",
       "       0.06410274, 0.06518071, 0.07685847, 0.06713701, 0.09071176,\n",
       "       0.08781219, 0.32262793, 0.0715052 , 0.07232529, 0.0558734 ,\n",
       "       0.30536577, 0.05629314, 0.08046653, 0.0660798 , 0.35389507,\n",
       "       0.06983189, 0.05493927, 0.07801652, 0.24154288, 0.07426246,\n",
       "       0.08086101, 0.08143247, 0.07473605, 0.06989391, 0.07567549,\n",
       "       0.05180835, 0.06839447, 0.06047326, 0.06790519, 0.06616583,\n",
       "       0.06173336, 0.24670535, 0.05948595, 0.06815263, 0.23955713,\n",
       "       0.0625525 , 0.07237627, 0.06576369, 0.06756023, 0.04724722,\n",
       "       0.18414406, 0.07516621, 0.22714607, 0.05146806], dtype=float32)"
      ]
     },
     "execution_count": 42,
     "metadata": {},
     "output_type": "execute_result"
    }
   ],
   "source": [
    "np.mean(analysis, axis=0)"
   ]
  },
  {
   "cell_type": "code",
   "execution_count": 31,
   "metadata": {},
   "outputs": [
    {
     "data": {
      "text/plain": [
       "[<keras.layers.core.Dense at 0x7f103a945f98>,\n",
       " <keras.layers.core.Dense at 0x7f103a963160>,\n",
       " <keras.layers.core.Dense at 0x7f103a9632e8>]"
      ]
     },
     "execution_count": 31,
     "metadata": {},
     "output_type": "execute_result"
    }
   ],
   "source": [
    "model.layers"
   ]
  },
  {
   "cell_type": "code",
   "execution_count": 32,
   "metadata": {},
   "outputs": [
    {
     "ename": "TypeError",
     "evalue": "create_rule_mapping() missing 1 required positional argument: 'reverse_state'",
     "output_type": "error",
     "traceback": [
      "\u001b[0;31m---------------------------------------------------------------------------\u001b[0m",
      "\u001b[0;31mTypeError\u001b[0m                                 Traceback (most recent call last)",
      "\u001b[0;32m<ipython-input-32-cf419fc5655a>\u001b[0m in \u001b[0;36m<module>\u001b[0;34m\u001b[0m\n\u001b[0;32m----> 1\u001b[0;31m \u001b[0manalyzer\u001b[0m\u001b[0;34m.\u001b[0m\u001b[0mcreate_rule_mapping\u001b[0m\u001b[0;34m(\u001b[0m\u001b[0mmodel\u001b[0m\u001b[0;34m.\u001b[0m\u001b[0mlayers\u001b[0m\u001b[0;34m[\u001b[0m\u001b[0;36m1\u001b[0m\u001b[0;34m]\u001b[0m\u001b[0;34m)\u001b[0m\u001b[0;34m\u001b[0m\u001b[0m\n\u001b[0m",
      "\u001b[0;31mTypeError\u001b[0m: create_rule_mapping() missing 1 required positional argument: 'reverse_state'"
     ]
    }
   ],
   "source": [
    "analyzer.create_rule_mapping(model.layers[1], )"
   ]
  },
  {
   "cell_type": "code",
   "execution_count": 47,
   "metadata": {},
   "outputs": [],
   "source": [
    "def cut_last_layer(model, n=1):\n",
    "    return Model(inputs=model.inputs, outputs=model.layers[-1-n].output)\n"
   ]
  },
  {
   "cell_type": "code",
   "execution_count": null,
   "metadata": {},
   "outputs": [],
   "source": []
  },
  {
   "cell_type": "code",
   "execution_count": null,
   "metadata": {},
   "outputs": [],
   "source": [
    "from keras.models import Model"
   ]
  },
  {
   "cell_type": "code",
   "execution_count": 91,
   "metadata": {},
   "outputs": [],
   "source": [
    "analyzer = innvestigate.create_analyzer(\"lrp.alpha_1_beta_0\", cut_last_layer(model, n=1), neuron_selection_mode=\"index\")"
   ]
  },
  {
   "cell_type": "code",
   "execution_count": 92,
   "metadata": {},
   "outputs": [],
   "source": [
    "cut_model = cut_last_layer(model, n=1)"
   ]
  },
  {
   "cell_type": "code",
   "execution_count": 93,
   "metadata": {},
   "outputs": [
    {
     "ename": "ValueError",
     "evalue": "The model cannot be compiled because it has no loss to optimize.",
     "output_type": "error",
     "traceback": [
      "\u001b[0;31m---------------------------------------------------------------------------\u001b[0m",
      "\u001b[0;31mValueError\u001b[0m                                Traceback (most recent call last)",
      "\u001b[0;32m<ipython-input-93-30e7714c3b89>\u001b[0m in \u001b[0;36m<module>\u001b[0;34m\u001b[0m\n\u001b[0;32m----> 1\u001b[0;31m \u001b[0mcut_model\u001b[0m\u001b[0;34m.\u001b[0m\u001b[0mcompile\u001b[0m\u001b[0;34m(\u001b[0m\u001b[0moptimizer\u001b[0m\u001b[0;34m=\u001b[0m\u001b[0;34m'adagrad'\u001b[0m\u001b[0;34m)\u001b[0m\u001b[0;34m.\u001b[0m\u001b[0mget_layers\u001b[0m\u001b[0;34m(\u001b[0m\u001b[0;34m)\u001b[0m\u001b[0;34m\u001b[0m\u001b[0m\n\u001b[0m",
      "\u001b[0;32m~/.local/share/virtualenvs/interpret-R0ok2QRq/lib/python3.6/site-packages/keras/engine/training.py\u001b[0m in \u001b[0;36mcompile\u001b[0;34m(self, optimizer, loss, metrics, loss_weights, sample_weight_mode, weighted_metrics, target_tensors, **kwargs)\u001b[0m\n\u001b[1;32m    350\u001b[0m             \u001b[0;32mif\u001b[0m \u001b[0mtotal_loss\u001b[0m \u001b[0;32mis\u001b[0m \u001b[0;32mNone\u001b[0m\u001b[0;34m:\u001b[0m\u001b[0;34m\u001b[0m\u001b[0m\n\u001b[1;32m    351\u001b[0m                 \u001b[0;32mif\u001b[0m \u001b[0;32mnot\u001b[0m \u001b[0mself\u001b[0m\u001b[0;34m.\u001b[0m\u001b[0mlosses\u001b[0m\u001b[0;34m:\u001b[0m\u001b[0;34m\u001b[0m\u001b[0m\n\u001b[0;32m--> 352\u001b[0;31m                     raise ValueError('The model cannot be compiled '\n\u001b[0m\u001b[1;32m    353\u001b[0m                                      'because it has no loss to optimize.')\n\u001b[1;32m    354\u001b[0m                 \u001b[0;32melse\u001b[0m\u001b[0;34m:\u001b[0m\u001b[0;34m\u001b[0m\u001b[0m\n",
      "\u001b[0;31mValueError\u001b[0m: The model cannot be compiled because it has no loss to optimize."
     ]
    }
   ],
   "source": [
    "cut_model.compile(optimizer='adagrad').get_layers()"
   ]
  },
  {
   "cell_type": "code",
   "execution_count": 66,
   "metadata": {},
   "outputs": [],
   "source": [
    "layer0 = model.layers[0]"
   ]
  },
  {
   "cell_type": "code",
   "execution_count": 76,
   "metadata": {},
   "outputs": [
    {
     "data": {
      "text/plain": [
       "array([[ 0.18505508, -0.10347988,  0.27357233, ...,  0.14831898,\n",
       "         0.00323727,  0.15349162],\n",
       "       [-0.05474747, -0.3151384 ,  0.16863358, ...,  0.07627453,\n",
       "        -0.37312508,  0.24321969],\n",
       "       [-0.17816046,  0.00184679,  0.09433105, ..., -0.2702763 ,\n",
       "         0.13066274,  0.21920358],\n",
       "       ...,\n",
       "       [-0.10815067, -0.1342397 , -0.01993003, ..., -0.09329595,\n",
       "         0.08973884,  0.2015853 ],\n",
       "       [ 0.06409857,  0.1714569 ,  0.14093654, ...,  0.21362987,\n",
       "        -0.10428907, -0.09322579],\n",
       "       [-0.01774702,  0.10867587,  0.17407803, ...,  0.1009113 ,\n",
       "        -0.07105421, -0.12986611]], dtype=float32)"
      ]
     },
     "execution_count": 76,
     "metadata": {},
     "output_type": "execute_result"
    }
   ],
   "source": [
    "layer0.get_weights()[0]"
   ]
  },
  {
   "cell_type": "code",
   "execution_count": 114,
   "metadata": {},
   "outputs": [
    {
     "data": {
      "text/plain": [
       "array([[ 0.17216623, -0.15120693, -0.00052062, ...,  0.00100083,\n",
       "        -0.24846448,  0.04043426],\n",
       "       [-0.24590379,  0.275892  , -0.2674004 , ...,  0.19454974,\n",
       "        -0.34553084, -0.04493224],\n",
       "       [-0.02375152,  0.17301212, -0.36166763, ..., -0.18249664,\n",
       "        -0.09971276, -0.17375787],\n",
       "       ...,\n",
       "       [-0.16350006,  0.27473727, -0.24672082, ..., -0.0116059 ,\n",
       "        -0.10405979, -0.2649174 ],\n",
       "       [-0.14171965, -0.21599433, -0.31422114, ...,  0.27905557,\n",
       "         0.19833268,  0.10283341],\n",
       "       [ 0.28138703,  0.11566158, -0.3107602 , ..., -0.05955397,\n",
       "         0.23441042, -0.08761736]], dtype=float32)"
      ]
     },
     "execution_count": 114,
     "metadata": {},
     "output_type": "execute_result"
    }
   ],
   "source": [
    "layer1.get_weights()[0]"
   ]
  },
  {
   "cell_type": "code",
   "execution_count": null,
   "metadata": {},
   "outputs": [],
   "source": []
  },
  {
   "cell_type": "code",
   "execution_count": 112,
   "metadata": {},
   "outputs": [],
   "source": [
    "res = analyzer.analyze(X,31)"
   ]
  },
  {
   "cell_type": "code",
   "execution_count": 111,
   "metadata": {},
   "outputs": [
    {
     "data": {
      "text/plain": [
       "array([[ 4.4545741e-03,  1.9342358e-04,  9.2263529e-03, ...,\n",
       "         1.9987583e-02,  9.8033749e-02,  1.6126070e-02],\n",
       "       [ 0.0000000e+00, -0.0000000e+00,  0.0000000e+00, ...,\n",
       "        -0.0000000e+00,  0.0000000e+00, -0.0000000e+00],\n",
       "       [ 3.2518842e-04,  5.5722822e-04,  3.5662149e-05, ...,\n",
       "         1.9890869e-03,  3.3849082e-04,  8.3029881e-04],\n",
       "       ...,\n",
       "       [-0.0000000e+00,  0.0000000e+00, -0.0000000e+00, ...,\n",
       "        -0.0000000e+00,  0.0000000e+00,  0.0000000e+00],\n",
       "       [-0.0000000e+00, -0.0000000e+00,  0.0000000e+00, ...,\n",
       "        -0.0000000e+00, -0.0000000e+00,  0.0000000e+00],\n",
       "       [-0.0000000e+00, -0.0000000e+00, -0.0000000e+00, ...,\n",
       "         0.0000000e+00, -0.0000000e+00, -0.0000000e+00]], dtype=float32)"
      ]
     },
     "execution_count": 111,
     "metadata": {},
     "output_type": "execute_result"
    }
   ],
   "source": [
    "res"
   ]
  },
  {
   "cell_type": "code",
   "execution_count": 57,
   "metadata": {},
   "outputs": [
    {
     "data": {
      "text/plain": [
       "array([3.45609523e-02, 1.17150741e-03, 4.99508940e-02, 6.05636425e-02,\n",
       "       3.06494106e-02, 2.41933186e-02, 2.44905762e-02, 2.25713849e-01,\n",
       "       5.87358363e-02, 1.79900125e-01, 1.21147908e-01, 8.03840160e-02,\n",
       "       3.44969220e-02, 7.98745267e-03, 5.60511136e-03, 3.59077826e-02,\n",
       "       9.01917815e-02, 1.71770766e-01, 1.17191955e-01, 2.32800856e-01,\n",
       "       1.11019664e-01, 3.44679624e-01, 9.01564304e-03, 7.42248669e-02,\n",
       "       1.16733015e-01, 4.94545251e-02, 3.15993428e-01, 9.69225541e-02,\n",
       "       1.21917002e-01, 1.77737474e-01, 1.74105990e+00, 1.20519353e-02,\n",
       "       1.39598474e-01, 7.24411383e-03, 6.41099274e-01, 1.85031995e-01,\n",
       "       1.22520089e-01, 1.07639581e-01, 7.60282099e-01, 1.68293938e-02,\n",
       "       9.17626768e-02, 5.48507720e-02, 1.18953496e-01, 5.49033545e-02,\n",
       "       4.98202331e-02, 1.75761640e-01, 3.79012674e-01, 6.40757233e-02,\n",
       "       2.66817529e-02, 1.93008885e-01, 8.19337517e-02, 3.10494095e-01,\n",
       "       8.02103654e-02, 2.96980329e-02, 1.02372304e-01, 4.31016013e-02,\n",
       "       1.28558846e-02, 1.33575527e-02, 7.44227245e-02, 2.47457568e-02,\n",
       "       2.17061892e-01, 9.19648036e-02, 3.98687869e-01, 2.82354951e-01],\n",
       "      dtype=float32)"
      ]
     },
     "execution_count": 57,
     "metadata": {},
     "output_type": "execute_result"
    }
   ],
   "source": [
    "analysis[0]"
   ]
  },
  {
   "cell_type": "code",
   "execution_count": 195,
   "metadata": {},
   "outputs": [],
   "source": [
    "model = keras.Sequential(layers=[\n",
    "    keras.layers.Dense(units=32, activation=keras.activations.relu, input_shape=(64,)),\n",
    "    keras.layers.Dense(units=16, activation=keras.activations.relu),\n",
    "    keras.layers.Dense(units=2)\n",
    "])\n"
   ]
  },
  {
   "cell_type": "code",
   "execution_count": 196,
   "metadata": {},
   "outputs": [],
   "source": [
    "model.compile(optimizer='Adam',\n",
    "              loss=keras.losses.categorical_crossentropy,\n",
    "              metrics=[keras.metrics.categorical_accuracy])"
   ]
  },
  {
   "cell_type": "code",
   "execution_count": 197,
   "metadata": {},
   "outputs": [],
   "source": [
    "a = innvestigate.analyzer.relevance_based.relevance_analyzer.LRPAlpha1Beta0(model, neuron_selection_mode='index')"
   ]
  },
  {
   "cell_type": "code",
   "execution_count": 198,
   "metadata": {},
   "outputs": [],
   "source": [
    "X_train = X[:4000]"
   ]
  },
  {
   "cell_type": "code",
   "execution_count": 199,
   "metadata": {},
   "outputs": [],
   "source": [
    "X_test = X[4000:]"
   ]
  },
  {
   "cell_type": "code",
   "execution_count": 200,
   "metadata": {},
   "outputs": [],
   "source": [
    "y_train = y_bin.todense()[:4000]"
   ]
  },
  {
   "cell_type": "code",
   "execution_count": 201,
   "metadata": {},
   "outputs": [],
   "source": [
    "y_test = y_bin.todense()[4000:]"
   ]
  },
  {
   "cell_type": "code",
   "execution_count": 202,
   "metadata": {},
   "outputs": [
    {
     "name": "stdout",
     "output_type": "stream",
     "text": [
      "Epoch 1/30\n",
      "4000/4000 [==============================] - 1s 313us/step - loss: 1.8424 - categorical_accuracy: 0.3987\n",
      "Epoch 2/30\n",
      "4000/4000 [==============================] - 0s 86us/step - loss: 0.7771 - categorical_accuracy: 0.3010\n",
      "Epoch 3/30\n",
      "4000/4000 [==============================] - 0s 92us/step - loss: 0.6695 - categorical_accuracy: 0.2415\n",
      "Epoch 4/30\n",
      "4000/4000 [==============================] - 1s 141us/step - loss: 0.6243 - categorical_accuracy: 0.1960\n",
      "Epoch 5/30\n",
      "4000/4000 [==============================] - 0s 86us/step - loss: 0.5806 - categorical_accuracy: 0.1670\n",
      "Epoch 6/30\n",
      "4000/4000 [==============================] - 0s 94us/step - loss: 0.4864 - categorical_accuracy: 0.1583\n",
      "Epoch 7/30\n",
      "4000/4000 [==============================] - 0s 100us/step - loss: 0.5179 - categorical_accuracy: 0.1390\n",
      "Epoch 8/30\n",
      "4000/4000 [==============================] - 1s 148us/step - loss: 0.5192 - categorical_accuracy: 0.1270\n",
      "Epoch 9/30\n",
      "4000/4000 [==============================] - 0s 94us/step - loss: 0.5151 - categorical_accuracy: 0.1175\n",
      "Epoch 10/30\n",
      "4000/4000 [==============================] - 0s 100us/step - loss: 0.6226 - categorical_accuracy: 0.1085\n",
      "Epoch 11/30\n",
      "4000/4000 [==============================] - 0s 103us/step - loss: 0.6677 - categorical_accuracy: 0.1035\n",
      "Epoch 12/30\n",
      "4000/4000 [==============================] - 0s 91us/step - loss: 0.5470 - categorical_accuracy: 0.0973\n",
      "Epoch 13/30\n",
      "4000/4000 [==============================] - 0s 99us/step - loss: 0.6086 - categorical_accuracy: 0.0985\n",
      "Epoch 14/30\n",
      "4000/4000 [==============================] - 0s 96us/step - loss: 1.0255 - categorical_accuracy: 0.0970\n",
      "Epoch 15/30\n",
      "4000/4000 [==============================] - 0s 98us/step - loss: 1.1477 - categorical_accuracy: 0.0938\n",
      "Epoch 16/30\n",
      "4000/4000 [==============================] - 0s 100us/step - loss: 1.2113 - categorical_accuracy: 0.0925\n",
      "Epoch 17/30\n",
      "4000/4000 [==============================] - 0s 100us/step - loss: 1.4068 - categorical_accuracy: 0.0883\n",
      "Epoch 18/30\n",
      "4000/4000 [==============================] - 0s 103us/step - loss: 1.5341 - categorical_accuracy: 0.0872\n",
      "Epoch 19/30\n",
      "4000/4000 [==============================] - 0s 102us/step - loss: 1.6191 - categorical_accuracy: 0.0900\n",
      "Epoch 20/30\n",
      "4000/4000 [==============================] - 0s 109us/step - loss: 3.0717 - categorical_accuracy: 0.1740\n",
      "Epoch 21/30\n",
      "4000/4000 [==============================] - 0s 105us/step - loss: 1.1179 - categorical_accuracy: 0.4325\n",
      "Epoch 22/30\n",
      "4000/4000 [==============================] - 0s 97us/step - loss: 0.6903 - categorical_accuracy: 0.5480\n",
      "Epoch 23/30\n",
      "4000/4000 [==============================] - 1s 142us/step - loss: 0.6526 - categorical_accuracy: 0.6425\n",
      "Epoch 24/30\n",
      "4000/4000 [==============================] - 0s 112us/step - loss: 0.6158 - categorical_accuracy: 0.7375\n",
      "Epoch 25/30\n",
      "4000/4000 [==============================] - 0s 103us/step - loss: 0.5774 - categorical_accuracy: 0.8035\n",
      "Epoch 26/30\n",
      "4000/4000 [==============================] - 0s 115us/step - loss: 0.5369 - categorical_accuracy: 0.8460\n",
      "Epoch 27/30\n",
      "4000/4000 [==============================] - 1s 153us/step - loss: 0.4851 - categorical_accuracy: 0.8725\n",
      "Epoch 28/30\n",
      "4000/4000 [==============================] - 0s 114us/step - loss: 0.4342 - categorical_accuracy: 0.8795\n",
      "Epoch 29/30\n",
      "4000/4000 [==============================] - 0s 109us/step - loss: 0.3876 - categorical_accuracy: 0.8890\n",
      "Epoch 30/30\n",
      "4000/4000 [==============================] - 0s 125us/step - loss: 0.3478 - categorical_accuracy: 0.8925\n"
     ]
    },
    {
     "data": {
      "text/plain": [
       "<keras.callbacks.History at 0x7f103285e7f0>"
      ]
     },
     "execution_count": 202,
     "metadata": {},
     "output_type": "execute_result"
    }
   ],
   "source": [
    "model.fit(X_train, y_train, epochs=30)"
   ]
  },
  {
   "cell_type": "code",
   "execution_count": 209,
   "metadata": {},
   "outputs": [],
   "source": [
    "analysis = a.analyze(X_test, 1)"
   ]
  },
  {
   "cell_type": "code",
   "execution_count": 210,
   "metadata": {},
   "outputs": [
    {
     "data": {
      "text/plain": [
       "array([[ 0.04921202,  0.05971723,  0.05821806, ...,  0.0431634 ,\n",
       "         0.06424047,  0.02753812],\n",
       "       [ 0.01376527,  0.00998683,  0.18864642, ...,  0.04363924,\n",
       "         0.63188636,  0.08667186],\n",
       "       [ 0.03093422,  0.15119545,  0.00149151, ...,  0.06224045,\n",
       "         0.03820595,  0.27508712],\n",
       "       ...,\n",
       "       [ 0.02770998,  0.01808519,  0.0125568 , ...,  0.00504308,\n",
       "         0.04162702,  0.00293955],\n",
       "       [-0.01653905, -0.03028335, -0.00195484, ..., -0.01598322,\n",
       "        -0.02742304, -0.00242151],\n",
       "       [ 0.00534746,  0.05066546,  0.01085422, ...,  0.07188476,\n",
       "         0.03703966,  0.0034233 ]], dtype=float32)"
      ]
     },
     "execution_count": 210,
     "metadata": {},
     "output_type": "execute_result"
    }
   ],
   "source": [
    "analysis"
   ]
  },
  {
   "cell_type": "code",
   "execution_count": 213,
   "metadata": {},
   "outputs": [],
   "source": [
    "a1 = innvestigate.analyzer.relevance_based.relevance_analyzer.LRPAlpha1Beta0(cut_last_layer(model), neuron_selection_mode='index')"
   ]
  },
  {
   "cell_type": "code",
   "execution_count": 217,
   "metadata": {},
   "outputs": [
    {
     "data": {
      "text/plain": [
       "array([3.5362788e-03, 4.2818142e-03, 7.6327156e-03, 6.4895087e-04,\n",
       "       1.3645013e-02, 1.3253931e-03, 4.9215108e-03, 3.5602909e-02,\n",
       "       2.3191890e-03, 7.0288936e-03, 4.3006972e-03, 4.0228115e-03,\n",
       "       1.1393581e-02, 3.5013459e-03, 6.6366898e-05, 2.1325510e-02,\n",
       "       1.2363727e-03, 9.9947350e-04, 1.0136354e-03, 1.6379607e-03,\n",
       "       1.4699693e-03, 2.2138194e-04, 2.4125019e-02, 1.8697578e-02,\n",
       "       1.7951090e-02, 1.0624274e-02, 1.5634346e-01, 2.2439864e-02,\n",
       "       6.3911853e-03, 1.3343155e-02, 6.0754251e-03, 4.7185426e-03,\n",
       "       3.1132346e-03, 4.5856120e-04, 3.8340699e-02, 6.2325988e-03,\n",
       "       0.0000000e+00, 1.2086634e-02, 1.2753154e-02, 1.1267150e-02,\n",
       "       2.7082134e-03, 5.7313587e-03, 2.9912454e-03, 1.4547221e-02,\n",
       "       2.5248127e-03, 2.6908832e-02, 1.4149426e-02, 1.1503056e-02,\n",
       "       5.0789351e-04, 8.0875177e-03, 1.1013701e-04, 8.7299841e-03,\n",
       "       9.5565440e-03, 1.0318626e-03, 6.8567283e-03, 1.6641252e-02,\n",
       "       5.4686181e-03, 2.1520182e-02, 1.5013540e-02, 2.5988920e-03,\n",
       "       2.5414356e-03, 5.2851248e-03, 1.0392282e-02, 4.7264867e-03],\n",
       "      dtype=float32)"
      ]
     },
     "execution_count": 217,
     "metadata": {},
     "output_type": "execute_result"
    }
   ],
   "source": [
    "a1.analyze(X_test, 2)[0]"
   ]
  },
  {
   "cell_type": "code",
   "execution_count": 219,
   "metadata": {},
   "outputs": [],
   "source": [
    "a2 = innvestigate.analyzer.relevance_based.relevance_analyzer.LRPAlpha1Beta0(cut_last_layer(model, n=2), neuron_selection_mode='index')"
   ]
  },
  {
   "cell_type": "code",
   "execution_count": 230,
   "metadata": {
    "scrolled": false
   },
   "outputs": [
    {
     "name": "stdout",
     "output_type": "stream",
     "text": [
      "417\n"
     ]
    }
   ],
   "source": [
    "count = 0\n",
    "for arr in a2.analyze(X_test, 31):\n",
    "    if np.sum(arr) == 0:\n",
    "        count+=1\n",
    "\n",
    "print(count)"
   ]
  },
  {
   "cell_type": "code",
   "execution_count": 241,
   "metadata": {},
   "outputs": [
    {
     "data": {
      "text/plain": [
       "array([ 13.881932 ,   1.5154847,  20.858572 ,   2.622953 ,   5.0015793,\n",
       "        15.4959545,  11.561475 ,  35.25406  ,  26.224487 ,   1.48089  ,\n",
       "        14.033246 , 109.39898  ,   6.099597 ,   5.9204016,   3.353438 ,\n",
       "         3.0611413,  19.02251  ,  13.958579 ,  17.912956 ,  11.286457 ,\n",
       "        11.035765 ,  12.936686 ,   7.4275446,  23.705359 ,   1.3320637,\n",
       "         7.892824 , 220.39723  ,   3.82415  ,  14.411463 ,  10.786256 ,\n",
       "       145.29248  ,  16.121426 ,   4.689396 ,  18.46954  ,  21.613071 ,\n",
       "        11.0857935,  16.692163 ,   3.2206237,  92.312065 ,  18.665478 ,\n",
       "        24.287943 ,  10.815415 ,   5.74885  ,  24.115948 ,   1.2695731,\n",
       "        21.938591 ,  12.278455 ,  10.195142 ,   3.2393458,  10.992406 ,\n",
       "        10.155965 ,  90.9381   ,  12.963214 ,   4.80631  ,  10.884229 ,\n",
       "        10.453582 ,  10.478314 ,   3.6921284,   8.527345 ,   2.1817877,\n",
       "        30.94701  ,  14.218118 ,   9.257962 ,   7.744937 ], dtype=float32)"
      ]
     },
     "execution_count": 241,
     "metadata": {},
     "output_type": "execute_result"
    }
   ],
   "source": [
    "np.sum(a2.analyze(X_test, 31), axis=0)"
   ]
  },
  {
   "cell_type": "code",
   "execution_count": 247,
   "metadata": {},
   "outputs": [
    {
     "data": {
      "text/plain": [
       "array([ 41.81883 ,  31.695093,  43.4182  ,  22.791773,  35.301304,\n",
       "        33.56111 ,  28.333885,  96.46419 ,  40.871082,  27.512295,\n",
       "        33.989414, 131.47644 ,  30.904495,  31.868155,  30.64187 ,\n",
       "        24.144787,  38.72069 ,  43.881184,  28.247665,  26.680098,\n",
       "        26.185568,  33.72566 ,  33.78746 ,  33.063454,  25.640982,\n",
       "        22.144327, 225.43112 ,  36.090534,  42.099068,  33.40571 ,\n",
       "       223.45624 ,  37.14026 ,  37.844193,  30.808956,  78.97623 ,\n",
       "        42.831303,  47.016647,  19.029526, 147.2138  ,  34.347126,\n",
       "        43.996147,  35.93672 ,  29.386005,  36.74407 ,  25.497847,\n",
       "        46.475304,  36.369743,  33.94107 ,  34.445984,  37.59967 ,\n",
       "        33.331074, 103.59314 ,  38.437847,  27.00427 ,  52.58113 ,\n",
       "        45.991394,  35.426502,  34.703045,  34.57654 ,  29.232546,\n",
       "        92.13377 ,  35.925728, 111.92515 ,  34.74891 ], dtype=float32)"
      ]
     },
     "execution_count": 247,
     "metadata": {},
     "output_type": "execute_result"
    }
   ],
   "source": [
    "(np.sum(a.analyze(X_test, 0), axis=0))"
   ]
  },
  {
   "cell_type": "code",
   "execution_count": 249,
   "metadata": {},
   "outputs": [
    {
     "data": {
      "text/plain": [
       "5.474845"
      ]
     },
     "execution_count": 249,
     "metadata": {},
     "output_type": "execute_result"
    }
   ],
   "source": [
    "np.sum(a.analyze(X_test, 1)[0], axis=0)"
   ]
  },
  {
   "cell_type": "code",
   "execution_count": 250,
   "metadata": {},
   "outputs": [
    {
     "data": {
      "text/plain": [
       "array([0.04921202, 0.05971723, 0.05821806, 0.01081612, 0.18118905,\n",
       "       0.01269187, 0.06221426, 0.2329927 , 0.03842471, 0.03392726,\n",
       "       0.03929586, 0.03030489, 0.1107563 , 0.03268414, 0.00710967,\n",
       "       0.1469583 , 0.01720854, 0.00948777, 0.02392592, 0.0157239 ,\n",
       "       0.03037765, 0.00261377, 0.22510093, 0.14918168, 0.1084094 ,\n",
       "       0.09358746, 1.0141327 , 0.15674596, 0.07257119, 0.09651767,\n",
       "       0.05388017, 0.06327178, 0.02013175, 0.00464151, 0.33018547,\n",
       "       0.02802105, 0.00745867, 0.07417527, 0.07178663, 0.04922516,\n",
       "       0.01883432, 0.03511601, 0.05106839, 0.07400424, 0.01349243,\n",
       "       0.14385337, 0.08746424, 0.10726605, 0.04239423, 0.15338124,\n",
       "       0.00393566, 0.06903623, 0.1916455 , 0.00759138, 0.06842946,\n",
       "       0.12054721, 0.03769922, 0.12578604, 0.08645231, 0.06178704,\n",
       "       0.01524362, 0.0431634 , 0.06424047, 0.02753812], dtype=float32)"
      ]
     },
     "execution_count": 250,
     "metadata": {},
     "output_type": "execute_result"
    }
   ],
   "source": [
    "a.analyze(X_test, 1)[0]"
   ]
  }
 ],
 "metadata": {
  "kernelspec": {
   "display_name": "Python 3",
   "language": "python",
   "name": "python3"
  },
  "language_info": {
   "codemirror_mode": {
    "name": "ipython",
    "version": 3
   },
   "file_extension": ".py",
   "mimetype": "text/x-python",
   "name": "python",
   "nbconvert_exporter": "python",
   "pygments_lexer": "ipython3",
   "version": "3.6.5"
  }
 },
 "nbformat": 4,
 "nbformat_minor": 2
}
